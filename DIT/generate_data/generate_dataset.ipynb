{
 "cells": [
  {
   "cell_type": "code",
   "execution_count": 1,
   "id": "be28ce04-8a1a-4332-8c71-4a4866311cca",
   "metadata": {
    "tags": []
   },
   "outputs": [],
   "source": [
    "import re, json"
   ]
  },
  {
   "cell_type": "code",
   "execution_count": 3,
   "id": "1e86cbbc-9bc4-466e-a26d-784b204d62f7",
   "metadata": {
    "tags": []
   },
   "outputs": [],
   "source": [
    "\n",
    "import json\n",
    "\n",
    "file_path = 'train.json'\n",
    "\n",
    "\n",
    "with open(file_path, 'r') as file:\n",
    "        \n",
    "    json_objs = json.load(file)\n",
    "    \n",
    "import jsonlines\n",
    "\n",
    "edatas = []\n",
    "\n",
    "for json_obj in json_objs:\n",
    "\n",
    "    edata = {}\n",
    "\n",
    "    abstract = ' '.join(json_obj['abstract']).replace('\\n',' ')\n",
    "    lay = ' '.join(json_obj['summary']).replace('\\n',' ')\n",
    "\n",
    "    assert len(json_obj[\"sections\"]) == len(json_obj['headings'])\n",
    "\n",
    "    cur_articles = []\n",
    "\n",
    "    for nid, (article_list, heading) in enumerate(zip(json_obj[\"sections\"],json_obj['headings'])):\n",
    "\n",
    "        cur_articles.append(str(nid+1) + ' ' + heading + ' ' + ' '.join(article_list).replace('\\n',' '))\n",
    "\n",
    "    edata['doi'] = json_obj['id']\n",
    "    edata['abstract'] = abstract\n",
    "    edata['plain language summary'] = lay\n",
    "    edata['article'] = ' '.join(cur_articles)\n",
    "\n",
    "    edatas.append(edata)\n",
    "\n",
    "\n",
    "with jsonlines.open('train_elife.jsonl', 'w') as writer:\n",
    "    for edata in edatas:\n",
    "        writer.write(edata)"
   ]
  },
  {
   "cell_type": "code",
   "execution_count": 126,
   "id": "eff98a7d-7c87-488f-80a0-600c6d4f813b",
   "metadata": {
    "tags": []
   },
   "outputs": [],
   "source": [
    "elife_datas = []\n",
    "with open('./train_elife.jsonl', 'r', encoding=\"utf-8\") as f:\n",
    "    lines = f.readlines()\n",
    "    # print(len(lines)) 26214\n",
    "    for lid in range(len(lines)):\n",
    "        data = json.loads(lines[lid])\n",
    "        elife_datas.append(data)"
   ]
  },
  {
   "cell_type": "code",
   "execution_count": 127,
   "id": "b93c17da-2672-4cdc-9bd5-467b5defe29c",
   "metadata": {
    "tags": []
   },
   "outputs": [
    {
     "data": {
      "text/plain": [
       "4346"
      ]
     },
     "execution_count": 127,
     "metadata": {},
     "output_type": "execute_result"
    }
   ],
   "source": [
    "len(elife_datas)"
   ]
  },
  {
   "cell_type": "code",
   "execution_count": 24,
   "id": "fbefb493-76d5-444e-8a17-97e3933df617",
   "metadata": {
    "tags": []
   },
   "outputs": [
    {
     "data": {
      "text/plain": [
       "{'doi': 'elife-35500-v1',\n",
       " 'abstract': 'In temperate climates , winter deaths exceed summer ones . However , there is limited information on the timing and the relative magnitudes of maximum and minimum mortality , by local climate , age group , sex and medical cause of death . We used geo-coded mortality data and wavelets to analyse the seasonality of mortality by age group and sex from 1980 to 2016 in the USA and its subnational climatic regions . Death rates in men and women ≥ 45 years peaked in December to February and were lowest in June to August , driven by cardiorespiratory diseases and injuries . In these ages , percent difference in death rates between peak and minimum months did not vary across climate regions , nor changed from 1980 to 2016 . Under five years , seasonality of all-cause mortality largely disappeared after the 1990s . In adolescents and young adults , especially in males , death rates peaked in June/July and were lowest in December/January , driven by injury deaths .',\n",
       " 'plain language summary': 'In the USA , more deaths happen in the winter than the summer . But when deaths occur varies greatly by sex , age , cause of death , and possibly region . Seasonal differences in death rates can change over time due to changes in factors that cause disease or affect treatment . Analyzing the seasonality of deaths can help scientists determine whether interventions to minimize deaths during a certain time of year are needed , or whether existing ones are effective . Scrutinizing seasonal patterns in death over time can also help scientists determine whether large-scale weather or climate changes are affecting the seasonality of death . Now , Parks et al . show that there are age and sex differences in which times of year most deaths occur . Parks et al . analyzed data on US deaths between 1980 and 2016 . While overall deaths in a year were highest in winter and lowest in summer , a greater number of young men died during summer – mainly due to injuries – than during winter . Seasonal differences in deaths among young children have largely disappeared and seasonal differences in the deaths of older children and young adults have become smaller . Deaths among women and men aged 45 or older peaked between December and February – largely caused by respiratory and heart diseases , or injuries . Deaths in this older age group were lowest during the summer months . Death patterns in older people changed little over time . No regional differences were found in seasonal death patterns , despite large climate variation across the USA . The analysis by Parks et al . suggests public health and medical interventions have been successful in reducing seasonal deaths among many groups . But more needs to be done to address seasonal differences in deaths among older adults . For example , by boosting flu vaccination rates , providing warnings about severe weather and better insulation for homes . Using technology like hands-free communication devices or home visits to help keep vulnerable elderly people connected during the winter months may also help .',\n",
       " 'article': '1 Introduction It is well-established that death rates vary throughout the year , and in temperate climates there tend to be more deaths in winter than in summer ( Campbell , 2017; Fowler et al . , 2015; Healy , 2003; McKee , 1989 ) . It has therefore been hypothesized that a warmer world may lower winter mortality in temperate climates ( Langford and Bentham , 1995; Martens , 1998 ) . In a large country like the USA , which possesses distinct climate regions , the seasonality of mortality may vary geographically , due to geographical variations in mortality , localized weather patterns , and regional differences in adaptation measures such as heating , air conditioning and healthcare ( Davis et al . , 2004; Braga et al . , 2001; Kalkstein , 2013; Medina-Ramón and Schwartz , 2007 ) . The presence and extent of seasonal variation in mortality may also itself change over time ( Bobb et al . , 2014; Carson et al . , 2006; Seretakis et al . , 1997; Sheridan et al . , 2009 ) . A thorough understanding of the long-term dynamics of seasonality of mortality , and its geographical and demographic patterns , is needed to identify at-risk groups , plan responses at the present time as well as under changing climate conditions . Although mortality seasonality is well-established , there is limited information on how seasonality , including the timing of minimum and maximum mortality , varies by local climate and how these features have changed over time , especially in relation to age group , sex and medical cause of death ( Rau , 2004; Rau et al . , 2018 ) . In this paper , we comprehensively characterize the spatial and temporal patterns of all-cause and cause-specific mortality seasonality in the USA by sex and age group , through the application of wavelet analytical techniques , to over three decades of national mortality data . Wavelets have been used to study the dynamics of weather phenomena ( Moy et al . , 2002 ) and infectious diseases ( Grenfell et al . , 2001 ) . We also used centre of gravity analysis and circular statistics methods to understand the timing of maximum and minimum mortality . In addition , we identify how the percentage difference between death rates in maximum and minimum mortality months has changed over time . 2 Results The strengths of our study are its innovative methods of characterizing seasonality of mortality dynamically over space and time , by age group and cause of death; using wavelet and centre of gravity analyses; using ERA-Interim data output to compare the association between seasonality of death rates and regional temperature . A limitation of our study is that we did not investigate seasonality of mortality by socioeconomic characteristics which may help with understanding its determinants and planning responses . 3 Discussion We used wavelet and centre of gravity analyses , which allowed systematically identifying and characterizing seasonality of total and cause-specific mortality in the USA , and examining how seasonality has changed over time . We identified distinct seasonal patterns in relation to age and sex , including higher all-cause summer mortality in young men ( Feinstein , 2002; Rau et al . , 2018 ) . Importantly , we also showed that all-cause and cause-specific mortality seasonality is largely similar in terms of both timing and magnitude across diverse climatic regions with substantially different summer and winter temperatures . Insights of this kind would not have been possible analysing data averaged over time or nationally , or fixed to pre-specified frequencies . Prior studies have noted seasonality of mortality for all-cause mortality and for specific causes of death in the USA ( Feinstein , 2002; Kalkstein , 2013; Rau , 2004; Rau et al . , 2018; Rosenwaike , 1966; Seretakis et al . , 1997 ) . Few of these studies have done consistent national and subnational analyses , and none has done so over time , for a comprehensive set of age groups and causes of death , and in relation to regional temperature differences . Our results on strong seasonality of cardiorespiratory diseases deaths and weak seasonality of cancer deaths , restricted to older ages , are broadly consistent with these studies ( Feinstein , 2002; Rau et al . , 2018; Rosenwaike , 1966; Seretakis et al . , 1997 ) , which had limited analysis on how seasonality changes over time and geography ( Feinstein , 2002; Rau et al . , 2018; Rosenwaike , 1966 ) . Similarly , our results on seasonality of injury deaths are supported by a few prior studies ( Feinstein , 2002; Rau et al . , 2018; Rosenwaike , 1966 ) , but our subnational analysis over three decades revealed variations in when injury deaths peaked and in how seasonal differences in these deaths have changed over time in relation to age group which had not been reported before . A study of 36 cities in the USA , aggregated across age groups and over time , also found that excess mortality was not associated with seasonal temperature range ( Kinney et al . , 2015 ) . In contrast , a European study found that the difference between winter and summer mortality was lower in colder Nordic countries than in warmer southern European nations ( Healy , 2003; McKee , 1989 ) ( the study’s measure of temperature was mean annual temperature which differed from the temperature difference between maximum and minimum mortality used in our analysis although the two measures are correlated ) . The absence of variation in the magnitude of mortality seasonality indicates that different regions in the USA are similarly adapted to temperature seasonality , whereas Nordic countries may have better environmental ( e . g . housing insulation and heating ) and health system measures to counter the effects of cold winters than those in southern Europe . If the observed absence of association between the magnitude of mortality seasonality and seasonal temperature difference across the climate regions also persists over time , the changes in temperature as a result of global climate change are unlikely to affect the winter-summer mortality difference . The cause-specific analysis showed that the substantial decline in seasonal mortality differences in adolescents and young adults was related to the diminishing seasonality of ( unintentional ) injuries , especially from road traffic crashes , which are more likely to occur in the summer months ( Liu et al . , 2005 ) and are more common in men . The weakening of seasonality in boys under five years of age was related to two phenomena: first , the seasonality of death from cardiorespiratory diseases declined , and second , the proportion of deaths from perinatal conditions , which exhibit limited seasonality ( Figure 9—figure supplement 2 and Figure 10—figure supplement 3 ) , increased ( MacDorman and Gregory , 2015 ) . In contrast to young and middle ages , mortality in older ages , where death rates are highest , maintained persistent seasonality over a period of three decades ( we note that although the percent seasonal difference in mortality has remained largely unchanged in these ages , the absolute difference in death rates between the peak and minimum months has declined because total mortality has a declining long-term trend ) . This finding demonstrates the need for environmental and health service interventions targeted towards this group irrespective of geography and local climate . Examples of such interventions include enhancing the availability of both environmental and medical protective factors , such as better insulation of homes , winter heating provision and flu vaccinations , for the vulnerable older population ( Katiyo et al . , 2017 ) . Social interventions , including regular visits to the isolated elderly during peak mortality periods to ensure that they are optimally prepared for adverse conditions , and responsive and high-quality emergency care , are also important to protect this vulnerable group ( Healy , 2003; Lerchl , 1998; Katiyo et al . , 2017 ) . Emergent new technologies , such as always-connected hands-free communications devices with the outside world , in-house cameras , and personal sensors also provide an opportunity to enhance care for the older , more vulnerable groups in the population , especially in winter when the elderly have fewer social interactions ( Morris , 2013 ) . Such interventions are important today , and will remain so as the population ages and climate change increases the within- and between-season weather variability . 4 Materials and methods We used data on all 85 , 854 , 176 deaths in the USA from 1980 to 2016 from the National Center for Health Statistics ( NCHS ) . Age , sex , state of residence , month of death , and underlying cause of death were available for each record . The underlying cause of death was coded according to the international classification of diseases ( ICD ) system ( 9th revision of ICD from 1980 to 1998 and 10th revision of ICD thereafter ) . Yearly population counts were available from NCHS for 1990 to 2016 and from the US Census Bureau prior to 1990 ( Ingram et al . , 2003 ) . We calculated monthly population counts through linear interpolation , assigning each yearly count to July . We also subdivided the national data geographically into nine climate regions used by the National Oceanic and Atmospheric Administration ( Figure 18 and Table 2 ) ( Karl and Koss , 1984 ) . On average , the Southeast and South are the hottest climate regions with average annual temperatures of 18 . 4°C and 18°C respectively; the South also possesses the highest average maximum monthly temperature ( 27 . 9°C in July ) . The lowest variation in temperature throughout the year is that of the Southeast ( an average range of 17 . 5°C ) . The three coldest climate regions are West North Central , East North Central and the Northwest ( 7 . 6°C , 8 . 0°C , 8 . 2°C respectively ) . Mirroring the characteristics of the hottest climate regions , the largest variation in temperature throughout the year is that of the coldest region , West North Central ( an average range of 30 . 5°C ) , which also has the lowest average minimum monthly temperature ( −6 . 5°C in January ) . The other climate regions , Northeast , Southwest , and Central , possess similar average temperatures ( 10°C to 14°C ) and variation within the year of ( 23°C to 26°C ) , with the Northeast being the most populous region in the United States ( with 19 . 8% total population in 2016 ) . Data were divided by sex and age in the following 10 age groups: 0–4 , 5–14 , 15-24 , 25–34 , 35–44 , 45–54 , 55–64 , 65–74 , 75–84 , 85+\\xa0years . We calculated monthly death rates for each age and sex group , both nationally and for sub-national climate regions . Death rate calculations accounted for varying length of months , by multiplying each month’s death count by a factor that would make it equivalent to a 31 day month . For analysis of seasonality by cause of death , we mapped each ICD-9 and ICD-10 codes to four main disease categories ( Table 1 ) and to a number of subcategories which are presented in the Supplementary Note . Cardiorespiratory diseases and cancers accounted for 56 . 4% and 21 . 2% of all deaths in the USA , respectively , in 1980 , and 40 . 3% and 22 . 4% , respectively , in 2016 . Deaths from cardiorespiratory diseases have been associated with cold and warm temperatures ( Basu , 2009; Basu and Samet , 2002; Bennett et al . , 2014; Braga et al . , 2002; Gasparrini et al . , 2015 ) . Injuries , which accounted for 8% of all deaths in the USA in 1980 and 7 . 3% in 2016 , may have seasonality that is distinct from so-called natural causes . We did not further divide other causes because the number of deaths could become too small to allow stable estimates when divided by age group , sex and climate region . We obtained data on temperature from ERA-Interim , which combines predictions from a physical model with ground-based and satellite measurements ( Dee et al . , 2011 ) . We used gridded four-times-daily estimates at a resolution of 80 km to generate monthly population-weighted temperature by climate region throughout the analysis period . We used wavelet analysis to investigate seasonality for each age-sex group . Wavelet analysis uncovers the presence , and frequency , of repeated maxima and minima in each age-sex-specific death rate time series ( Hubbard , 1998; Torrence and Compo , 1998 ) . In brief , a Morlet wavelet , described in detail elsewhere ( Cazelles et al . , 2008 ) , is equivalent to using a moving window on the death rate time series and analysing periodicity in each window using a short-form Fourier transform , hence generating a dynamic spectral analysis , which allows measuring dynamic seasonal patterns , in which the periodicity of death rates may disappear , emerge , or change over time . In addition to coefficients that measure the frequency of periodicity , wavelet analysis estimates the probability of whether the data are different from the null situation of random fluctuations that can be represented with white ( an independent random process ) or red ( autoregressive of order one process ) noise . For each age-sex group , we calculated the p-values of the presence of 12 month seasonality for the comparison of wavelet power spectra of the entire study period ( 1980–2016 ) with 100 simulations against a white noise spectrum , which represents random fluctuations . We used the R package WaveletComp ( version 1 . 0 ) for the wavelet analysis . Before analysis , we de-trended death rates using a polynomial regression , and rescaled each death rate time series so as to range between 1 and −1 . To identify the months of maximum and minimum death rates , we calculated the centre of gravity and the negative centre of gravity of monthly death rates . Centre of gravity was calculated as a weighted average of months of deaths , with each month weighted by its death rate; negative centre of gravity was also calculated as a weighted average of months of deaths , but with each month was weighted by the difference between its death rate and the year’s maximum death rate . In taking the weighted average , we allowed December ( month 12 ) to neighbour January ( month 1 ) , representing each month by an angle subtended from 12 equally-spaced points around a unit circle . Using a technique called circular statistics , a mean ( θ- ) of the angles ( θ1 , θ2 , θ3… , θn , ) representing the deaths ( with n the total number of deaths in an age-sex group for a particular cause of death ) is found using the relation below:θ-=arg∑j=1nexp\\u2061 ( iθj ) , where arg denotes the complex number argument and θj denotes the month of death in angular form for a particular death j . The outcome of this calculation is then converted back into a month value ( Fisher , 1995 ) . Along with each circular mean , a 95% confidence interval ( CI ) was calculated by using 1000 bootstrap samples . The R package CircStats ( version 0 . 2 . 4 ) was used for this analysis . For each age-sex group and cause of death , and for each year , we calculated the percent difference in death rates between the maximum and minimum mortality months . We fitted a linear regression to the time series of seasonal differences from 1980 to 2016 , and used the fitted trend line to estimate how much the percentage difference in death rates between the maximum and minimum mortality months had changed from 1980 to 2016 . We weighted seasonal difference by the inverse of the square of its standard error , which was calculated using a Poisson model to take population size of each age-sex group through time into account . This method gives us a p-value for the change in seasonal difference per year , which we used to calculate the seasonal difference at the start ( 1980 ) and end ( 2016 ) of the period of study . Our method of analysing seasonal differences avoids assuming that any specific month or group of months represent highest and lowest number of deaths for a particular cause of death , which is the approach taken by the traditional measure of Excess Winter Deaths . It also allows the maximum and minimum mortality months to vary by age group , sex and cause of death .'}"
      ]
     },
     "execution_count": 24,
     "metadata": {},
     "output_type": "execute_result"
    }
   ],
   "source": [
    "elife_datas[0]"
   ]
  },
  {
   "cell_type": "code",
   "execution_count": null,
   "id": "3a31f71f-0ecb-42c4-bd0b-75bc4e23a093",
   "metadata": {
    "tags": []
   },
   "outputs": [],
   "source": [
    "plos_datas = []\n",
    "with open('./train_plos.jsonl', 'r', encoding=\"utf-8\") as f:\n",
    "    lines = f.readlines()\n",
    "    # print(len(lines)) 26214\n",
    "    for lid in range(len(lines)):\n",
    "        data = json.loads(lines[lid])\n",
    "        plos_datas.append(data)"
   ]
  },
  {
   "cell_type": "code",
   "execution_count": 41,
   "id": "31ac092a-520b-4876-ac97-4f311e48ff73",
   "metadata": {
    "tags": []
   },
   "outputs": [
    {
     "data": {
      "text/plain": [
       "26124"
      ]
     },
     "execution_count": 41,
     "metadata": {},
     "output_type": "execute_result"
    }
   ],
   "source": [
    "len(plos_datas)"
   ]
  },
  {
   "cell_type": "code",
   "execution_count": 16,
   "id": "751ef063-a9b0-4550-8cdb-35b0d0e18521",
   "metadata": {
    "tags": []
   },
   "outputs": [
    {
     "data": {
      "text/plain": [
       "{'doi': '10.1371/journal.pntd.0007210',\n",
       " 'title': 'Evaluation of a novel West Nile virus transmission control strategy that targets Culex tarsalis with endectocide-containing blood meals',\n",
       " 'abstract': 'Control of arbovirus transmission remains focused on vector control through application of insecticides directly to the environment. However, these insecticide applications are often reactive interventions that can be poorly-targeted, inadequate for localized control during outbreaks, and opposed due to environmental and toxicity concerns. In this study, we developed endectocide-treated feed as a systemic endectocide for birds to target blood feeding Culex tarsalis, the primary West Nile virus (WNV) bridge vector in the western United States, and conducted preliminary tests on the effects of deploying this feed in the field. In lab tests, ivermectin (IVM) was the most effective endectocide tested against Cx. tarsalis and WNV-infection did not influence mosquito mortality from IVM. Chickens and wild Eurasian collared doves exhibited no signs of toxicity when fed solely on bird feed treated with concentrations up to 200 mg IVM/kg of diet, and significantly more Cx. tarsalis that blood fed on these birds died (greater than 80% mortality) compared to controls (less than 25% mortality). Mosquito mortality following blood feeding correlated with IVM serum concentrations at the time of blood feeding, which dropped rapidly after the withdrawal of treated feed. Preliminary field testing over one WNV season in Fort Collins, Colorado demonstrated that nearly all birds captured around treated bird feeders had detectable levels of IVM in their blood. However, entomological data showed that WNV transmission was non-significantly reduced around treated bird feeders. With further development, deployment of ivermectin-treated bird feed might be an effective, localized WNV transmission control tool.\\n',\n",
       " 'plain language summary': 'West Nile virus (WNV) is a mosquito-borne virus that causes significant disease and death every year in humans, domesticated animals, and wildlife. Control of WNV transmission is focused on controlling the mosquito vector through applications of insecticides directly to the environment. In this study, we evaluate a novel control strategy for WNV transmission by targeting the main mosquito bridge vector in the Great Plains region, Culex tarsalis, through its blood feeding behavior. Because Culex tarsalis favor taking blood meals from particular bird species, our strategy aims to target these bird species with endectocide-treated bird feed that will result in lethal blood meals for Cx. tarsalis. In this study, we developed a safe and effective formulation of ivermectin-treated diet that resulted in increased mortality for Cx. tarsalis blood fed on birds consuming this treated diet as compared to mosquitoes feeding on control birds. We also conducted a pilot field trial in Fort Collins, Colorado to test this strategy in a natural transmission cycle, which demonstrated promising results.\\n',\n",
       " 'article': 'West Nile virus (WNV) is an arthropod-borne flavivirus, and the leading cause of domestically acquired arboviral disease in the United States [1,2], resulting in significant disease and death every year in humans, domesticated animals, and wildlife. From 1999–2017, >48,000 cases of human WNV disease and >2000 deaths were reported to the CDC [3], but the total number of individuals in the U.S. who have been made ill from WNV is estimated to be greater than 1 million, or approximately 1 of every 5 persons infected (>5 million infected individuals) [4]. Control of WNV transmission remains focused on vector control through larvicide and adulticide applications [5]. Larvicide applications are generally preferred to adulticide applications as they are more cost-effective and less environmentally-damaging due to more direct and efficient targeting of mosquitoes [6,7]. While previous studies have demonstrated the effectiveness of larvicide applications to catch basins, a common Culex larval habitat, in reducing the number of mosquitoes [8,9], the efficacy may vary significantly with suboptimal catch basin design or environmental conditions [10,11]. Aerial spraying can be costly [12], but is effective in reducing target mosquito populations [13–16], and has been linked to reductions in human WNV cases in a treated area relative to an untreated area [15] and in entomological measures of WNV risk [16]. Similar ground ultra-low volume application of adulticides may reduce target mosquito populations under ideal conditions, but studies have provided inconclusive data on their effect on WNV infection rates in mosquitoes or subsequent virus transmission [17–20]. Additionally, off-target effects can occur despite optimal calibration of adulticide applications to host-seeking and active times for target vector species [21–23]. Insecticide applications also often face community opposition due to environmental and toxicity/allergenicity concerns [24–28] and are often restricted to urban and semi-urban communities that can afford to fund them [29,30].\\n\\nWNV is maintained in an enzootic cycle between Culex mosquitoes and avian hosts. The highest WNV disease incidence occurs along the Great Plains region of the United States [31], as the irrigated agriculture provides a supportive habitat for the main WNV bridge vector of the region, Culex tarsalis [32].Therefore, blood meals by Cx. tarsalis from often-bitten avian species may be utilized to selectively target adult females through their blood feeding behavior. Given that the majority of Cx. tarsalis blood meals on the northern Colorado plains may come from select species during the WNV transmission season [33], effective targeting of these preferred hosts with endectocide-treated bird feed could result in control of WNV transmission.\\n\\nPrevious studies have assessed the use of systemic endectocides provided to wild animals to control tick vector populations. Pound et al. evaluated ivermectin (IVM)-treated corn that was fed to white-tailed deer (Odocoileus virginianus) in a treatment pasture to control tick populations [34]. Amblyomma americanum collections from treatment pastures showed a 83.4% reduction in adults, 92.4% in nymphs, and 100.0% in larvae compared to control pastures [34]. IVM-treated feed provided to O. virginianus, which is the definitive host for the reproductive stage of Ixodes scapularis, has also been explored as a method for controlling this vector of Lyme disease. Rand et al. provided an island community of white-tailed deer with IVM-treated corn for 5 consecutive spring and fall seasons [35]. A treatment effect was observed in island deer that reached target IVM sera concentrations resulting in reductions in adult tick density, engorgement, and oviposition rates as well as reduced rates of larval eclosion from any laid eggs compared to collections from untreated deer on a control island [35]. Dolan et al. also conducted a field study that targeted the rodent reservoirs of Lyme disease to reduce the infection prevalence of Borrelia burgdorferi and Anaplasma phagocytophilum with antibiotic-treated bait. Between treated and control areas, they found that B. burgdorferi prevalence was reduced by 87% and A. phagocytophilum by 74% in small mammals, and in questing nymphal ticks, B. burgdorferi prevalence was reduced by 94% and A. phagocytophilum by 92% [36]. A field study testing the passive application of topical acaricide during bait consumption showed reductions of 68% and 84% of nymphal and larval I. scapularis found on white-footed mice, accompanied by a 53% reduction in the B. burgdorferi infection rate of white-footed mice and a 77% decrease in the questing adult I. scapularis abundance between control and treated properties [37].\\n\\nRodent baits with feed-through and systemic insecticide activity have also been evaluated to control the phlebotomine sand fly vectors of zoonotic cutaneous leishmaniasis and visceral leishmaniasis. A wide variety of insecticides have been tested for efficacy against multiple phlebotomine sand fly species using larval and adult blood feeding bioassays in multiple rodents. Methoprene, pyriproxyfen, novularon, eprinomectin, ivermectin, and diflubenzuron have been tested for efficacy within the lab [38–41], while fipronil has been additionally tested in field studies [40,42,43]. Systemic insecticides have also been used to target plague transmission, where field trials have assessed imidalcloprid-treated bait for controlling flea populations in California ground squirrels (Spermphilus beechyi), black-tailed prairie dogs (Cynomys ludovicianus), and other rodents [44–46]. To our knowledge, this strategy of endectocide-treated baits has not been evaluated in birds for arbovirus control.\\n\\nIVM use in birds is primarily off-label; however, IVM has been administered to treat multiple species of parasites that infest birds, including falcons, cockerels, and chickens [47–50]. Moreno et al. characterized the pharmacokinetics, metabolism, and tissue profiles of IVM in laying hens (Gallus gallus) with IVM delivered using intravenous (IV) and oral routes [51]. For both IV and oral routes, expected pharmacokinetic profiles and tissue distributions consistent for a highly lipophilic drug were observed [51]. Bennett et al. demonstrated transfer of IVM through crop milk when adult pigeon pairs were given 3.3 μg/mL IVM dosed in drinking water and housed with brooding squab, and IVM was subsequently detected in squabs following 3 days of daily adult pigeon IVM dosing [52].\\n\\nIn this present study, we evaluated endectocide-treated bird feed as a systemic endectocide to target Cx. tarsalis. 50% lethal concentrations for selamectin, eprinomectin, and ivermectin were determined in artificial blood meals. IVM-treated bird feed was evaluated for safety and consumption rates in chickens. Mosquitocidal effects in Cx. tarsalis fed on IVM-treated birds were also characterized. Lastly, we present the results of a pilot field trial conducted in Fort Collins, CO in 2017 that examined the safety of IVM-treated bird feed in the field and efficacy on entomological indices of WNV transmission.\\n\\nAnimal research was done under CSU IACUC study protocol 16-6552A. Animal euthanasia was applied using sodium pentobarbital as approved in the IACUC study protocol. Field research was done under Colorado Parks and Wildlife Scientific Collection License #17TRb2104 and Fort Collins Natural Areas Permit #914–2017.\\n\\nCx. tarsalis (Bakersfield colony) were reared in standard insectary conditions (28 ˚C, 16:8 light cycle). Approximately 150 larvae were reared in roughly 3 gallons of water and fed 2.5 grams of powdered Tetramin fish food daily until pupation. Adults were housed at approximately 300 per cage and fed ad libitum sugar and water until separated for bioassays. Mosquito bioassays were performed to determine the lethal concentrations resulting in 50% mortality (LC50) by adding drug (eprinomectin, selamectin, and IVM) into defibrinated calf blood (Colorado Serum Company) at serial dilutions for artificial membrane feeding. Following blood feeding, Cx. tarsalis were knocked down with CO2, and fully-engorged females were collected and held for 5 days in the same insectary conditions. For all bioassays, mosquito mortality was recorded every 24 hours and analyzed using Kaplan-Meier survival curves and compared using Mantel-Cox (log-rank) test. LC50 values were calculated using a nonlinear mixed model with probit analysis [53].\\n\\nArtificial membrane blood feeds were also used to test the effects of IVM and WNV on Cx. tarsalis mortality. The WNV strain used was a 2012 Colorado isolate propagated in Vero cells. Negative controls were DMEM (Dulbecco’s Modified Eagle Media) and DMSO (dimethyl sulfoxide) at the same volumes as WNV and IVM, respectively. For the concurrent blood feed of WNV and IVM, IVM at 73.66 ng/mL (LC75) and WNV at low titer (5x105 PFU/mL) or high titer (107 PFU/mL) were fed in a membrane blood meal to Cx. tarsalis and mortality was observed as described above. For the WNV-exposure followed by an IVM blood feed, mosquitoes were fed a first blood meal containing 107 PFU/mL of WNV or DMEM for a mock-exposure. Fully engorged females were sorted and held for 10 days, then fed a second blood meal containing 73.66 ng/mL IVM, after which fully blood fed females were sorted and mortality observed.\\n\\n4–6 weeks old white leghorn chickens were divided into groups (n = 4) that were housed separately, and which were provided clean water daily and control (untreated) diet consisting of a cracked corn mix (Chick Start and Grow, Northern Colorado Feeders Supply) mixed with any additives that were also added to IVM-treated diet for 3 or 7 consecutive days. IVM-treated diet consisted of two formulations: an Ivomec formulation where liquid Ivomec (Merial) was mixed directly into the cracked corn mix and a powder IVM formulation where powder IVM (Sigma-Aldrich) was mixed into all-purpose flour at 5% and then added to the cracked corn mixture to aid in even powder distribution. Chickens were fed ad libitum and feed consumed by each group was measured daily. Chickens were weighed daily and observed for clinical signs of toxicity, including diarrhea, mydriasis, ptosis, stupor and ataxia. The amount of chicken feed consumed was compared between groups using the students t-test and chicken growth rates were compared using linear regression. Blood was collected from these chickens through venipuncture at the end of their IVM diet regimen and for two days following IVM diet withdrawal. Serum was then isolated from the blood samples and stored at -80°C until further analysis.\\n\\nEurasian collared doves (Streptopelia decaocto) were captured by mist net in Wellington, CO and brought back to CSU. They were housed in groups of three and provided ad libitum clean water and either control diet or powder IVM formulation diet of 200 mg IVM/kg of diet for 10 days. Three doves were fed each control and powder IVM formulation diet and then used for mosquito bioassays.\\n\\nMosquito bioassays following blood feeding on birds were conducted on the last day of the IVM diet regimen for each group and for two days following IVM diet removal. For direct blood feeding on birds, the downy breast feathers were trimmed, and the exposed bird breast was placed on top of the mosquito cage. The birds were gently restrained for 30 minutes while the mosquitoes blood fed through the mosquito cage organdy. Given the difficulties of direct mosquito blood feeding on live chickens, supplemental serum-replacement membrane blood feeds were also performed, where frozen chicken serum was used in reconstituted blood meals using red blood cells from defibrinated calf blood [54,55].\\n\\nAll research with animals was reviewed and conducted under authorization by the Colorado State University Institutional Animal Care and Use Committee, protocol 16-6552A. Colorado State University Animal Care and Use is Public Health Service (PHS) and Office for Laboratory Animal Welfare (OLAW) assured (#A3572-01), United States Department of Agriculture (USDA) registered (#84-R-0003), and Association for Assessment and Accreditation of Laboratory Animal Care (AAALAC) accredited (#000834).\\n\\nAll chemicals used in derivatization were HPLC grade and purchased from Sigma-Aldrich. IVM was extracted from serum following methanol precipitation [56]. 400 μL of methanol was added to 100 μL serum and vortexed for 1.5 min. Methanol precipitation was carried out at -80˚C overnight. Samples were centrifuged for 30 min at 16,000 x g. Supernatants were transferred and evaporated to dryness using a Speedvac concentrator (Savant). The dry residue was dissolved in 20 μL acetonitrile. Samples were derivatized according to previously published literature [57].\\n\\nA Waters 700 autosampler system was used to quantify IVM by high-performance liquid chromatography (HPLC)-fluorescence. A mobile phase of acetonitrile/water (3:1, v/v) was pumped through a C8 column (Waters, XBridge BEH C8 XP, 130 Å, 2.5 μm, 2.1x100 mm) at a rate of 0.45 mL/min. Excitation and emission spectra were 365 and 470 nm, respectively. 10 μL of derivatized sample was injected by the autosampler.\\n\\nPrecision was quantified as coefficient of variation (%CV). This was calculated interday and intraday, evaluating drug-free chicken serum samples (n = 5) spiked with IVM at 25, 50, and 100 ng/mL. Instrument CV was 6.11%. Intraday CV ranged between 4.36 and 9.77%. Interday reproducibility was 15.39%. Retention time CV was 1.77%.\\n\\nThe method was linear across the range of concentrations tested in the standard curve (3.125–100 ng/mL). Linear regression curves containing fortified IVM serum samples with concentrations of 3.125, 6.25, 12.5, 25, 50, and 100 ng/mL had a R-square value of 0.9974. Limits of detection and quantification were 1.56 ng/mL and 3.125 ng/mL, respectively.\\n\\nFor the 2017 pilot trial, field sites were located in urban and suburban areas in the City of Fort Collins (mainly in city open space areas and near water sources) that were weekly mosquito trapping sites used by the city for WNV surveillance efforts and have been maintained since 2006 (S1 Fig). Six field sites were chosen based on historical WNV surveillance data from all city trapping sites as those having the highest number of WNV-positive Cx. tarsalis pools since 2006, while excluding trap sites in neighborhoods that are regularly treated with adulticides or used as sentinel sites for the Colorado WNV surveillance system by the state department of health. The 6 chosen sites were all in east Fort Collins and were randomly placed into the treatment group (3 sites; mosquito traps surrounded by IVM-treated bird feed stations) or the control group (3 sites; mosquito traps surrounded by control un-treated bird feed stations). At each field site, an array of three bird feed stations was placed in an approximate triangular perimeter around the mosquito trap at a distance of 50 m (S1 Fig). IVM-treated bird feed was used at a concentration of 200 mg/kg of diet, and the diet was a mixture of white proso millet, cracked corn, and flour (47.5:47.5:5, v/v/v). IVM-treated bird feed was changed daily to account for any effects of IVM degradation due to exposure, which also allowed for daily monitoring of any obvious adverse effects of IVM in local fauna.\\n\\nMotion-activated trail cameras were used to document bird visits to feeders, with each field site having a motion-activated trail camera placed at one of the three feeders. Photos were screened using the Sibley Guide to Birds [58]. Due to an overabundance of pictures, only a random sampling of 6 days from the 2017 season were counted. Bird trapping and sampling of their blood was performed at two IVM sites. Birds were caught using mist nets placed approximately 10 m from an IVM-treated bird feeder. Blood was collected from netted birds using jugular venipuncture and placed into serum separator tubes. Bird sera were analyzed using HPLC-fluorescence and a subset of samples was analyzed using LC-MS. Because 200 μL of blood could not be drawn from the sparrows as needed for HPLC-fluorescence quantification, IVM analysis for sparrows was only documented as presence or absence. Control sera from house sparrows caught in spring 2014 were used as negative controls. Serum from one IVM-positive grackle was also used in a serum-replacement blood feed with colony Cx. tarsalis for a mosquito survival bioassay.\\n\\nMosquitoes were processed as part of the Fort Collins WNV surveillance program according to established protocols [59]. Briefly, mosquitoes were collected weekly by Vector Disease Control International using miniature CDC light traps baited with CO2. Mosquitoes were sorted to species and pooled into groups of typically no more than 50. Mosquito pools were screened at CSU using qRT-PCR using the following primer sequences: forward 5’ 1160-TCAGCGATCTCTCCACCAAAG 3’, reverse 5’ 1209-GGGTCAGCACGTTTGTCATTG 3’, probe 5’ FAM-1186-TGCCCGACCATGGGAGAAGCTC 3’ [59].\\n\\nBird sampling was done under Colorado Parks and Wildlife Scientific Collection License #17TRb2104 and Fort Collins Natural Areas Permit #914–2017.\\n\\nChicken feed consumption was compared between groups using a t-test. Linear regression was done on chicken weights and the rate of weight gain was compared using Analysis of Covariance.\\n\\nFor mosquito bioassays, survival was analyzed using Kaplan-Meier survival curves and compared using Mantel-Cox (log-rank) test. LC50 values were calculated using a nonlinear mixed model with probit analysis [53]. IVM sera concentrations from chickens were compared using ANOVA. IVM sera concentrations from individual chickens were correlated to cumulative mosquito morality from bioassays conducted on the respective chickens using Spearman correlation.\\n\\nThe field trial utilized control and treatment sites located in the City of Fort Collins; however, it was an exploratory trial to test a new trial design and sites, and so was not powered for detecting differences in Cx. tarsalis abundance and WNV infection. Cx. tarsalis abundance from control and treatment sites were compared against each other using a generalized linear mixed model with negative binomial distribution that included site, week of trapping, and treatment. Cx. tarsalis abundance was also shown in comparison to historical data from 2006–2016 (which lacked any bird feed stations surrounding the traps). WNV infection rate was calculated as maximum likelihood estimate (MLE) using the Excel PooledInfRate Add In [60], but Fisher’s exact test was again used to compare the total number of WNV-positive and WNV-negative pools between control and treatment sites.\\n\\nStatistical analyses were done in GraphPad Prism (Version 7) and R (Version 3.3.1).\\n\\nMosquitocidal concentrations of IVM, selamectin, and eprinomectin were determined with mosquito bioassays following blood feeds with serially diluted drug (S2 Fig). IVM had the lowest LC50 concentration at 49.94 ng/mL (Table 1) as compared to eprinomectin with a LC50 of 101.59 ng/mL and selamectin with a LC50 of 151.46 ng/mL. With the lowest effective concentrations, ivermectin was chosen for further characterization in birds.\\n\\nPotential interactions of IVM and WNV on Cx. tarsalis mortality were assessed in a simultaneous blood meal containing IVM (LC75) and WNV. Feeding with IVM only resulted in significantly increased mortality compared to DMSO controls; however, the observed 41% and 83% mortality for IVM control groups (Fig 1A and 1B) reflect the variability of mosquito bioassays, especially for intermediate ranges of lethal concentrations. WNV (both low and high titer) exposure in the absence of IVM did not affect Cx. tarsalis mortality over 5 days immediately after the blood meal (Fig 1A and Fig 1B), or following a second untreated blood meal 10 days later (Fig 1C). On the other hand, Cx. tarsalis given a concurrent blood meal containing low-titer WNV and IVM exhibited significantly increased mortality at 51% compared to the control IVM group not fed WNV with 41% morality (p = 0.0268, χ2 = 4.904) (Fig 1A). However, there was no significant difference (p = 0.2529, χ2 = 1.307) in mortality between Cx. tarsalis fed a concurrent blood meal containing high titer WNV and IVM compared to the control (Fig 1B). Similarly, Cx. tarsalis given a first blood meal of either DMEM control or high titer WNV, and then a second blood meal containing IVM 10 days later, showed no significant differences in mortality (p = 0.1637, χ2 = 1.940) (Fig 1C).\\n\\nOver 7 days of observation, there were no observable clinical signs of IVM neurotoxicity—diarrhea, mydriasis, ptosis, stupor, and ataxia–in groups that consumed either liquid Ivomec or powder formulations of IVM of 200 mg IVM/kg of diet.\\n\\nFor the Ivomec formulation diet, the chickens consumed an average 59.3 g of feed per chicken daily. This was significantly less than the corresponding control group which averaged 121.6 g of feed per chicken per day (p = 0.0045, t = 3.490). Consequently, there was also a significant difference (p <0.0001, F = 19.45) in the rate of weight gain between Ivomec and control groups (S3A Fig). For the powder IVM formulation diet, the IVM group consumed 60.97 g of feed per chicken each day, which was not significantly different from daily control group consumption of 55.2 g of feed per chicken (p = 0.2928, t = 1.100). This was also reflected in similar rates of weight gain between powder IVM and control groups (p = 0.0680, F = 4.022) (S3B Fig).\\n\\nCx. tarsalis mortality following blood feeding on IVM-treated chickens increased as IVM concentration within the diet increased (S4 Fig). There were significant differences in mosquito mortality following blood feeding on chickens given 50 mg IVM/kg of diet (p = 0.0132, χ2 = 6.146) and 100 mg IVM/kg of diet (<0.0001, χ2 = 86.48). However, the largest increase in mortality (p<0.0001, χ2 = 461.1) following blood feeding was at 200 mg IVM/kg of diet with 95.2% mortality in mosquitoes fed on IVM-treated chickens and 2.7% mortality in mosquitoes fed on control chickens. All subsequent experiments used IVM-treated feed at 200 mg IVM/kg of diet.\\n\\nFor the Ivomec formulation at 200 mg IVM/kg of diet, there was a significantly increased mortality in mosquitoes blood fed on chickens consuming Ivomec-diet for either 3 or 7 days as compared to mosquitoes blood fed on control chickens (Fig 2; left and right panels, respectively). On the last day of Ivomec feed administered, for both 3 or 7 days, there was a significant increase (p<0.0001, χ2 = 80.22 and χ2 = 76.41, respectively) in mortality between mosquitoes blood fed on chickens consuming an Ivomec diet with upwards of 80% mortality as compared to mosquitoes blood fed on control chickens with less than 40% mortality (Fig 2A and 2B). This difference in mosquito mortality between treatment and controls decreased when the blood feed occurred 1 day following the withdrawal of the Ivomec diet in the treatment group (Fig 2C and 2D). After 2 days following Ivomec diet withdrawal, there was no significant difference in mosquito mortality between those blood fed on Ivomec-consuming chickens as compared to mosquitoes blood fed on control chickens in the 3 day group, but there was a significant difference in the 7 day IVM group (p = 0.0117, χ2 = 6.354) which is likely due to the variability in mosquito bioassays (Fig 2E and 2F). In addition, the time administered Ivomec-treated diets (3 vs. 7 days) did not affect mosquito survival curves following direct blood feeding on chickens, regardless if the mosquitoes were blood fed on the last day of chicken time on the diets, or if the chickens were 1 or 2 days post withdrawal of the diets (Fig 2, left vs. right panels).\\n\\nThere was also significantly increased mosquito mortality in mosquitoes blood fed on chickens consuming the powder formulation of IVM (200 mg IVM/kg of diet) compared to mosquitoes fed on control chickens (S5 Fig). Because bioassays from the Ivomec formulation and a preliminary powder formulation indicated no differences between mosquitocidal effects for groups given IVM for 3 or 7 days, these and subsequent experiments focused on the 7 day time point. A direct blood feed of mosquitoes on chickens given a powder IVM diet for 7 days resulted in 92.3% mosquito mortality as compared to 25.7% mosquito mortality from those blood fed on control chickens (p<0.0001, χ2 = 41.23) (S5A Fig), while an indirect, serum-replacement blood feed using sera from chickens given a powder IVM diet for 7 days resulted in 79.0% mosquito mortality as compared to 16.7% mortality from those blood fed on control chicken serum (p<0.0001, χ2 = 42.83) (S5B Fig). Furthermore, the mosquito survival curves between those blood fed directly on IVM-treated chickens as compared to sera from IVM-treated chickens were significantly different (red lines in S5A Fig vs. S5B; p<0.0001; hazard ratio 2.007). At 1 day post-powder IVM diet withdrawal, there was still a significant difference (p = 0.001, χ2 = 10.86) in mosquito mortality between those directly blood fed on IVM-diet vs control-diet chickens (S5C Fig; 90.9% vs. 0% mortality). However, this mosquitocidal effect was not apparent in a serum-replacement blood feed derived from chicken blood taken 1 day after IVM diet withdrawal (p = 0.7445, χ2 = 0.1062) (S5D Fig). As above, the mosquito survival curves between those blood fed directly vs. indirectly on treated chickens 1 day post-diet withdrawal were also significantly different (red lines in S5C Fig vs. S5D; p<0.0001; hazard ratio 6.742). At 2 days post-IVM diet withdrawal, blood/serum from treated chickens was no longer mosquitocidal in either direct blood feeding (p = 0.8402, χ2 = 0.04065) or serum-replacement (p = 0.1792, χ2 = 1.804) assays (S5E and S5F Fig).\\n\\nDirect blood feeds of Cx. tarsalis were also conducted on six wild caught Eurasian Collared Doves fed either a powder IVM formulation diet of 200 mg IVM/kg or control diet in the laboratory (Fig 3). There was a significant difference in mosquito mortality (p<0.0001, χ2 = 60.34) with 88.5% mortality in Cx. tarsalis fed on IVM-treated doves as compared to 14.3% mortality from mosquitoes blood fed on control doves. Additionally, there were no clinical signs of IVM toxicity observed in this treated bird species.\\n\\nNeither the IVM formulation nor the time for which the chickens consumed IVM-treated diet resulted in significant differences in average IVM serum concentrations (p = 0.2715, F = 1.472) (Fig 4A, blue vs. green bars). On the last day of IVM diet, the average IVM serum concentrations (with SD) were 88.575 (±43.613) ng/mL for 3-day Ivomec, 45.255 (±70.051) ng/mL for 3-day powder IVM, 21.910 (±20.914) ng/mL for 7-day Ivomec, 45.745 (±33.852) ng/mL for 7-day powder IVM. Chicken IVM serum concentrations decreased following withdrawal of the IVM diet and were nearly undetectable at 2 days post-withdrawal, which corresponded with mosquito bioassay results showing decreases in mosquitocidal activity following IVM-diet removal. Additionally, IVM serum concentrations were correlated to resulting mosquito mortality from blood feeding on these corresponding IVM-powder fed chickens (Fig 4B). There was a higher correlation between IVM serum concentrations and mortality from serum-replacement feeds with a Spearman r of 0.8629 (P = 0.0007), while the correlation between IVM serum concentrations and mortality from direct blood feeds was 0.4153 (p = 0.3062).\\n\\nFor a pilot trial testing IVM feed in a natural transmission cycle, feeder stations were placed in urban and suburban areas within the City of Fort Collins (S1 Fig) and randomized to treatment or control sites. Bird visits to IVM feeders at all sites were dominated by grackles with infrequent visits by house (Passer domesticus) and sagebrush sparrows (Artemisiospiza nevadensis) and black-capped chickadees (Poecile atricapillus) (Table 2). There were also two visits by blue jays (Cyanocitta cristata), and a few other birds which could not be identified from the photographs. A more homogenous mix of grackles, house and brewers (Spizella breweri) sparrows, blue jays, black-capped chickadees, bushtits, and squirrels visited control feeders (Table 2).\\n\\nBirds were also caught by mist net and their sera assayed for IVM at the end of the field season. Ten grackles and 5 sparrows were caught over 4 mornings of sampling on August 30th and September 2nd, 3rd, and 7th. Most birds had been observed feeding from the IVM-treated feeder immediately preceding mist net capture. Nine grackles and 4 sparrows (87% of tested sera) had detectable levels of IVM within their serum, and the negative control sparrow serum from 2014 had no detectable IVM (Table 3). Serum from grackle #5 (Table 3) was plentiful and thus further used in a LC-MS assay to confirm the presence of IVM, and also tested in a serum-replacement bioassay. Interestingly, even though the IVM serum concentration in grackle #5 was measured as 5.7 ng/mL, there was strong mosquitocidal effect from this serum (100% mortality within 2 days; p<0.0001, χ2 = 54.15) compared to control mosquitoes fed on control calf serum (Fig 5).\\n\\nCx. tarsalis abundance over time in 2017 at the urban and suburban field sites was similar to historical data collected from the same traps for 10 years prior (Fig 6A). A generalized linear mixed model with negative binomial distribution did not find a significant difference between Cx. tarsalis abundance at IVM sites compared to control sites (p = 0.161, z = 1.401) (Fig 6B). The low number of WNV infections did not allow for robust statistical analysis, although MLE was calculated (Fig 6C). A combined Fisher’s Exact Test of all 6 field sites showed a non-significant decrease in the proportion of WNV-positive pools to WNV-negative pools among control and treatment traps (p = 0.2081) (Fig 6D).\\n\\nThis study presents a novel characterization of IVM-treated bird feed as a systemic endectocide to control WNV transmission. Lab studies characterized the effects of IVM-treated bird feed in both domestic and wild birds, especially mosquitocidal effects in Cx. tarsalis blood fed on birds consuming this IVM-containing diet. In addition, a pilot field trial was performed over a WNV season to gather preliminary efficacy data on the effects of IVM-treated bird feed within a natural WNV transmission cycle between wild birds and mosquitoes.\\n\\nIVM was determined to be the most effective endectocide tested with the lowest lethal concentrations for Cx. tarsalis. In addition, there did not appear to be a synergistic effect of IVM and WNV on Cx. tarsalis mortality in either a simultaneous blood feed of IVM and high titer WNV or sequential blood feeds, the first containing WNV and the second containing IVM. There was a statistical difference between survival curves of Cx. tarsalis fed a concurrent blood meal of a low WNV titer IVM compared to Cx. tarsalis fed only IVM. However, this increased mortality was likely due to the variable survival response of mosquitoes to IVM particularly at intermediate lethal concentrations, rather than a biologically significant interaction between WNV and IVM as there was no mortality difference between mosquitoes fed a concurrent higher titer WNV+IVM blood meal compared to mosquitoes fed DMEM+IVM. There was also no difference between mosquitoes previously exposed to WNV and then fed IVM as compared to mosquitoes unexposed to WNV and then fed IVM. While there is a study suggesting that IVM can inhibit WNV replication by targeting NS3 helicase activity, this was an in vitro cell-culture study using mammalian cells, and the concentration of IVM needed to inhibit 50% of the RNA synthesis in the Vero cells infected with WNV was considerably higher than what was achieved in our chickens following IVM feed consumption [61].\\n\\nNo clinical signs of toxicity were observed in any of the birds consuming either formulation of IVM feed. This was not surprising as IVM is given therapeutically in bird species in a wide range of doses (0.2 mg/kg to 2 mg/kg), depending on route of administration. However, more detailed studies of IVM toxicity should be conducted in multiple bird species in future controlled experiments. Previous studies have identified neurotoxic effects in pigeons following long-term consumption of a diet containing avermectin [62,63], of which IVM is a safer derivative [64]. Specifically, Chen et al. observed clinical signs of neurotoxicity, ranging from reduced activity and food intake following avermectin consumption for 60 days on a 20 mg/kg diet, to ataxia and spasms following avermectin consumption for 30 days on a 60 mg/kg diet [63]. On the other hand, a characterization of IVM pharmacokinetics, metabolism, and tissue distribution in laying hens treated intravenously (400 μg/kg) or consuming IVM-treated water (400 μg/kg/day) for 5 days did not report any ill effects in the birds [51]. Following the intravenous injection of the hens, the highest IVM plasma concentrations (739.6 ± 50.2 ng/mL) were 30 minutes after administration and plasma concentrations remained below 10 ng/mL after 24 hours [51]. Mean IVM concentrations in our chickens fed exclusively on an IVM-containing diet for 3 and 7 days were approximately 45 ng/mL, and similarly we did not observe any neurotoxicity. It remains to be determined if these results vary among different bird species or longer times on the diet. However, in the field studies, it is unlikely that the IVM-treated bird feed was the sole or even primary source of food for the wild birds visiting the feeders given the abundance of alternative food sources during summer.\\n\\nWhile chickens on the powder IVM and control diets consumed equivalent quantities of food, there was a significant difference in feed consumption among chicken fed the Ivomec diet and their controls. This may be a result of the glycerol formal and propylene glycol carriers in Ivomec that could give an unpleasant taste, as propylene glycol has been identified as a unpleasant and unpalatable feed additive in cattle [65]. Consequently, the decreased Ivomec feed consumption relative to control feed consumption is likely responsible for the significantly reduced rate of weight gain in the Ivomec group as compared to controls.\\n\\nChickens that consumed either a powder IVM or Ivomec diet reached mosquitocidal levels of IVM in their blood within 3 days, as demonstrated by both the IVM serum concentrations in the chickens as well as the significant difference in survival curves of mosquitoes blood fed on IVM-treated chickens compared to controls. There were no notable differences between either IVM diet formulations in mosquitocidal efficacy when considering either time to achieve a mosquitocidal effect and IVM persistence in chicken serum following IVM withdrawal. Furthermore, the time the chickens were placed on the two IVM diets (3 and 7 days) did not significantly affect mosquito mortality, serum concentrations, or the elimination time of IVM from serum following feed withdrawal. This is corroborated by the similar IVM serum concentrations at all time points among the different IVM administration times and formulations. A mosquitocidal effect, but no observable bird toxicity, was demonstrated for wild-caught Eurasian collared doves following consumption of the 200 mg IVM/kg diet, indicating similar mosquitocidal efficacy of the approach in one other bird species and thus potential application to other wild bird species in field settings.\\n\\nThe mosquito mortality in control groups had a greater variation for direct blood feeds (17.75% CV) relative to control groups for serum-replacement blood feeds (3.57% CV), indicating that direct blood feeds results in more inherent variability in mosquito mortality. This increased variability could be a result of increased mosquito handling and rougher conditions during direct blood feeding on birds. It is also possible this higher variability is partly due to smaller sample sizes from the direct blood feeds due to the low success of our colony mosquitoes imbibing full blood meals from live chickens. Regardless, the higher variability among direct blood feed data led to a weaker correlation between IVM serum concentrations and mosquito mortality compared to that from serum-replacement blood feed data. However, despite this higher variability, cumulative mosquito mortality from these direct blood feeds was higher (consistently above 75%) compared to that from the serum-replacement feeds, and mostly independent of measured IVM concentration in the chickens’ sera. One likely possibility for this discrepancy is that the IVM concentration within serum extracted from venous blood may not always be an accurate representation of the IVM concentration in subdermal capillary blood on which mosquitoes blood feed. It has been previously proposed that because IVM is extremely lipophilic and sequestered in fatty tissues, there may exist a concentration gradient of higher IVM or IVM metabolite concentrations in adipose tissue and blood of the surrounding capillaries compared with venous blood [66]. This is also one explanation for the observation that the IVM serum concentrations in chickens correlated with higher cumulative mosquito mortality than would be predicted from the LCx values calculated using artificial membrane feeds. A useful future analysis would be to compare mosquito mortality results from direct skin blood feeding on chickens, membrane blood feeds using venous blood drawn from the chickens, and serum replacement blood feeds using unfrozen serum from the same chickens.\\n\\nThe mosquitocidal effect from chickens on an IVM-containing diet did not extend past one day after IVM-feed withdrawal, and this corresponded with the IVM serum concentrations that were generally below detectable limits by two days post-IVM feed withdrawal. This could potentially be a concern for applying this strategy in the field as it would suggest that frequent bird visits would be necessary to maintain their mosquitocidal blood concentrations of IVM. However, our field data indicated that wild birds were visiting the bird feeders and did have detectable levels of IVM within their sera during multiple days throughout the trial. In addition, one grackle from our 2017 field trial had strongly mosquitocidal serum as assessed in a bioassay, even though the IVM concentration in that serum was surprisingly low. It is promising that a majority of the birds tested had detectable levels of IVM within their sera, indicating that there was an unexpectedly high coverage of IVM in captured birds. However, the placement of mist nets at roughly a 10 m distance from an IVM feeder may have biased the sampling towards birds that visited the feeder, so future studies should more intensively sample birds at wider radii from the feeders. Understanding IVM coverage and persistence within wild birds is an important component of determining the efficacy of this strategy and should be supplemented with detection of IVM in wild-caught blood fed Cx. tarsalis in future field seasons. This could also be coupled with mosquito survival bioassays using wild bird sera to assess mosquitocidal activity as we performed here.\\n\\nThis use of IVM-treated feed as a systemic endectocide to control WNV transmission is based on targeting Cx. tarsalis by medicating its preferred host species. Previous studies in California implicate Cx. tarsalis as a regionally adaptive, opportunistic blood feeder with a preference for avian hosts, and the diversity of available blood meal sources is reflected in the composition of its blood meals [67–71]. Important avian hosts for Cx. tarsalis in small rural towns within Weld County, which is adjacent to our Fort Collins field site area, include American Robins, doves, and other Passeriformes [33]. American Robins are an important Cx. tarsalis blood meal source and WNV amplification host that does not frequent bird feeders and would not be targeted by this current strategy [33,72,73]. However, doves and passerines are preferred blood meal sources of Cx. tarsalis and contribute to the cumulative number of WNV-positive Cx. tarsalis at estimated rates of approximately 30% in June, 60% in July, and 85% in August [33]. This represents a large proportion of Cx. tarsalis blood meal sources and WNV-positive contributions from birds that consume grain and seed that could be targeted throughout the summer season. However, our trail camera data did not show a large proportion of visits from these species identified as regionally important. For example, grackles were predominantly visiting our IVM-treated feeders, while control feeders were visited mostly by grackles, blue jays, brewer’s sparrows, and squirrels. However, the single trail camera we employed per site may not have fully documented bird visits to other feeders at the field site. Camera placement was limited to tree-filled areas where a feeder could be placed with a camera locked to a tree across from the feeder, and this may have biased the camera data against bird species that feed in open space or brush rather than among trees. This limitation of the field camera data is illustrated by our detection of IVM in house sparrows caught by mist net, but we had no documentation of sparrow visits on the trail camera for this specific field site. An important future direction will also be to gather a more updated understanding of the Cx. tarsalis blood meal sources within urban and suburban area of the City of Fort Collins, which might allow for specific targeting of these bird species with attractive bird feed compositions and an optimized bird feeder design.\\n\\nIn addition to a better characterization of avian blood meal sources for Cx. tarsalis, a more complete understanding of bird and Cx. tarsalis spatial dynamics is also important for determining the best placement for the IVM-treated feeders. Because our field sites were chosen based on historical mosquito and WNV surveillance, we did not account for crucial bird parameters that may have influenced mosquito sampling. For example, birds may have fed at the IVM-treated feeders and returned to their communal roosts where they would have been blood fed on by Cx. tarsalis [33,70,74], representing a treatment effect in a different population of Cx. tarsalis than sampled at our traps. Accounting for these bird-mosquito spatial dynamics by placing IVM-treated feeders near communal roosts of granivorous birds and sampling mosquitoes within close range may show the greatest entomological treatment effect, especially as Kent et al. gives an example of a house sparrow roost serving as both a major blood meal and amplification source of WNV-positive Cx. tarsalis [33]. While communal bird roosts could present a critical target, this strategy should continue to be tested in areas of increased human use such as parks and backyards. This highlights that future studies should also consider the best placement of bird feeders in the context of both human land use, and bird and mosquito interactions.\\n\\nOur pilot field trial was ultimately inconclusive and did not find a significant difference in Cx. tarsalis abundance or WNV infection due to IVM treatment. This is likely due to three field sites for each trial arm being underpowered to observe a significant effect. However, these preliminary field data will serve as important effect size variables with which to properly power future field trials. In addition, this strategy of controlling vector pathogen transmission with an endectocide like IVM is based on shifting the mosquito population age structure in a treatment area from older, infectious mosquitoes to younger, non-infectious mosquitoes, and is less dependent on reducing total mosquito abundance. This has been modeled, as well as observed with empirical data, in trials testing IVM for malaria transmission control [75,76]. We would also expect to see a shift in the age structure of the population to fewer older, infectious Cx. tarsalis and more uninfected, younger mosquitoes. However, our preliminary results from ovary dissections and parity scoring according to Detinova [77] showed consistently high parous rates within the field-caught Cx. tarsalis. This suggested that autogeny, or the ability to develop a batch of eggs without imbibing a blood meal, could be present among the Cx. tarsalis in our study area and confounded our data, and we chose to not conduct further parity scoring during our pilot field trial. As determining age structure of the wild Cx. tarsalis population would be additional way to evaluate this control strategy, future studies should integrate other age-grading techniques such as near infrared spectroscopy (NIRS) [78,79].\\n\\nOur characterization of IVM as a systemic endectocide in birds demonstrates its feasibility to be developed into a novel WNV transmission control tool. We have demonstrated that birds readily consume IVM-treated feed in the lab and field with our formulation and concentration, while not displaying any observable clinical signs of toxicity following consumption. Furthermore, Cx. tarsalis mosquitoes blood feed on these IVM-treated birds and often die as a result. Our pilot field trial testing IVM-treated feed in natural transmission cycles within wild birds and mosquitoes was ultimately inconclusive, but did provide critical effect size variables to inform future trial design. Important future directions will be to optimize treated bird feed formulations for the field and better characterize the pharmacokinetics and pharmacodynamics of this diet within multiple bird species, especially in relation to mosquitocidal activity and physiological/clinical signs of toxicity. In addition, a more-updated, regionally-specific understanding of the blood meal host preferences of Cx. tarsalis across urban, suburban and rural habitats would allow for better targeting of these preferred host species through the design of an attractive bird feed composition, discriminating bird feeders, and optimized bird feeder location for application to different geographic areas. Finally, our field study provides an important template for future field studies across multiple WNV seasons that will be adequately-powered for measuring effect sizes in entomological and other outcomes.\\n'}"
      ]
     },
     "execution_count": 16,
     "metadata": {},
     "output_type": "execute_result"
    }
   ],
   "source": [
    "plos_datas[0]"
   ]
  },
  {
   "cell_type": "code",
   "execution_count": 212,
   "id": "a8b77a66-dc52-4c56-9127-81a4bf7015f9",
   "metadata": {
    "tags": []
   },
   "outputs": [],
   "source": [
    "\n",
    "elife_prompt = {\n",
    "    \"prompt_input_pls\": \"Please give me a layman summary of the following paper from eLife dataset.\\nBelow is a paper.\\n{context}\\nNow the paper ends.\",\n",
    "    \"prompt_input_exp\": \"Please give me an expert summary of the following paper from eLife dataset.\\nBelow is a paper.\\n{context}\\nNow the paper ends.\"\n",
    "}\n",
    "\n",
    "plos_prompt = {\n",
    "    \"prompt_input_pls\": \"Please give me a layman summary of the following paper from PLOS dataset.\\nBelow is a paper.\\n{context}\\nNow the paper ends.\",\n",
    "    \"prompt_input_exp\": \"Please give me an expert summary of the following paper from PLOS dataset.\\nBelow is a paper.\\n{context}\\nNow the paper ends.\"\n",
    "}\n",
    "\n",
    "\n",
    "elife_query_prompt = {\n",
    "    \"prompt_input_pls\": \"Please answer one or several layman questions of the following paper from eLife dataset. Question: {question}\\nBelow is a paper.\\n{context}\\nNow the paper ends.\",\n",
    "    \"prompt_input_exp\": \"Please answer one or several expert questions of the following paper from eLife dataset. Question: {question}\\nBelow is a paper.\\n{context}\\nNow the paper ends.\"\n",
    "}\n",
    "\n",
    "plos_query_prompt = {\n",
    "    \"prompt_input_pls\": \"Please answer one or several layman questions of the following paper from PLOS dataset. Question: {question}\\nBelow is a paper.\\n{context}\\nNow the paper ends.\",\n",
    "    \"prompt_input_exp\": \"Please answer one or several expert questions of the following paper from PLOS dataset. Question: {question}\\nBelow is a paper.\\n{context}\\nNow the paper ends.\"\n",
    "}\n",
    "\n",
    "\n",
    "# query generation:\n",
    "# elife_qg_prompt = {\n",
    "#     \"prompt_input_pls\": \"Please propose 10 layman questions that are diverse and cover all parts of the following paper from eLife dataset, and then give me the answer of each question.\\nBelow is a paper.\\n{context}\\nNow the paper ends.\",\n",
    "#     \"prompt_input_exp\": \"Please propose 10 expert questions that are diverse and cover all parts of the following paper from eLife dataset, and then give me the answer of each question.\\nBelow is a paper.\\n{context}\\nNow the paper ends.\"\n",
    "# }\n",
    "elife_qg_prompt = {\n",
    "    \"prompt_input_pls\": \"Please propose 10 layman questions that are diverse and cover all parts of the following paper from eLife dataset.\\nBelow is a paper.\\n{context}\\nNow the paper ends.\",\n",
    "    \"prompt_input_exp\": \"Please propose 10 expert questions that are diverse and cover all parts of the following paper from eLife dataset.\\nBelow is a paper.\\n{context}\\nNow the paper ends.\"\n",
    "}\n",
    "\n",
    "plos_qg_prompt = {\n",
    "    \"prompt_input_pls\": \"Please propose 10 layman questions that are diverse and cover all parts of the following paper from PLOS dataset.\\nBelow is a paper.\\n{context}\\nNow the paper ends.\",\n",
    "    \"prompt_input_exp\": \"Please propose 10 expert questions that are diverse and cover all parts of the following paper from PLOS dataset.\\nBelow is a paper.\\n{context}\\nNow the paper ends.\"\n",
    "}"
   ]
  },
  {
   "cell_type": "code",
   "execution_count": 219,
   "id": "b77840dd-5811-43bd-80f7-cdd1c92d764c",
   "metadata": {
    "tags": []
   },
   "outputs": [],
   "source": [
    "# def apply_prompt_elife_pls_template(sample):\n",
    "#     return {\n",
    "#         \"instruction\": elife_prompt['prompt_input_pls'].format(context=sample['article'].replace('\\n',' ').strip()),\n",
    "#         \"input\": \"\",\n",
    "#         \"output\": merge_spaces(sample[\"plain language summary\"].replace('\\n',' ')).strip(),\n",
    "#         \"history\": []\n",
    "#     }\n",
    "# def apply_prompt_elife_exp_template(sample):\n",
    "#     return {\n",
    "#         \"instruction\": elife_prompt['prompt_input_exp'].format(context=sample['article'].replace('\\n',' ').strip()),\n",
    "#         \"input\": \"\",\n",
    "#         \"output\": merge_spaces(sample[\"abstract\"].replace('\\n',' ')).strip(),\n",
    "#         \"history\": []\n",
    "#     }\n",
    "\n",
    "# def apply_prompt_plos_pls_template(sample):\n",
    "#     return {\n",
    "#         \"instruction\": plos_prompt['prompt_input_pls'].format(context=merge_spaces(sample['article'].replace('\\n',' ')).strip()),\n",
    "#         \"input\": \"\",\n",
    "#         \"output\": merge_spaces(sample[\"plain language summary\"].replace('\\n',' ')).strip(),\n",
    "#         \"history\": []\n",
    "#     }\n",
    "# def apply_prompt_plos_exp_template(sample):\n",
    "#     return {\n",
    "#         \"instruction\": plos_prompt['prompt_input_exp'].format(context=merge_spaces(sample['article'].replace('\\n',' ')).strip()),\n",
    "#         \"input\": \"\",\n",
    "#         \"output\": merge_spaces(sample[\"abstract\"].replace('\\n',' ')).strip(),\n",
    "#         \"history\": []\n",
    "#     }\n",
    "def apply_prompt_elife_pls_template(article,summary):\n",
    "    return {\n",
    "        \"instruction\": elife_prompt['prompt_input_pls'].format(context=article.replace('\\n',' ').strip()),\n",
    "        \"input\": \"\",\n",
    "        \"output\": merge_spaces(summary.replace('\\n',' ')).strip(),\n",
    "        \"history\": []\n",
    "    }\n",
    "def apply_prompt_elife_exp_template(article,summary):\n",
    "    return {\n",
    "        \"instruction\": elife_prompt['prompt_input_exp'].format(context=article.replace('\\n',' ').strip()),\n",
    "        \"input\": \"\",\n",
    "        \"output\": merge_spaces(summary.replace('\\n',' ')).strip(),\n",
    "        \"history\": []\n",
    "    }\n",
    "\n",
    "def apply_prompt_plos_pls_template(article,summary):\n",
    "    return {\n",
    "        \"instruction\": plos_prompt['prompt_input_pls'].format(context=merge_spaces(article.replace('\\n',' ')).strip()),\n",
    "        \"input\": \"\",\n",
    "        \"output\": merge_spaces(summary.replace('\\n',' ')).strip(),\n",
    "        \"history\": []\n",
    "    }\n",
    "def apply_prompt_plos_exp_template(article,summary):\n",
    "    return {\n",
    "        \"instruction\": plos_prompt['prompt_input_exp'].format(context=merge_spaces(article.replace('\\n',' ')).strip()),\n",
    "        \"input\": \"\",\n",
    "        \"output\": merge_spaces(summary.replace('\\n',' ')).strip(),\n",
    "        \"history\": []\n",
    "    }"
   ]
  },
  {
   "cell_type": "code",
   "execution_count": 213,
   "id": "64df6192-b37c-4b01-a6c5-82687c4be8c8",
   "metadata": {
    "tags": []
   },
   "outputs": [],
   "source": [
    "\n",
    "def apply_prompt_elife_query_pls_template(context,question,answer):\n",
    "    return {\n",
    "        \"instruction\": elife_query_prompt['prompt_input_pls'].format(context=context.replace('\\n',' ').strip(),question=question),\n",
    "        \"input\": \"\",\n",
    "        \"output\": \"Answer: \" + answer.replace('\\n',' ').strip(),\n",
    "        \"history\": []\n",
    "    }\n",
    "def apply_prompt_elife_query_exp_template(context,question,answer):\n",
    "    return {\n",
    "        \"instruction\": elife_query_prompt['prompt_input_exp'].format(context=context.replace('\\n',' ').strip(),question=question),\n",
    "        \"input\": \"\",\n",
    "        \"output\": \"Answer: \" + answer.replace('\\n',' ').strip(),\n",
    "        \"history\": []\n",
    "    }\n",
    "\n",
    "def apply_prompt_plos_query_pls_template(context,question,answer):\n",
    "    return {\n",
    "        \"instruction\": plos_query_prompt['prompt_input_pls'].format(context=context.replace('\\n',' ').strip(),question=question),\n",
    "        \"input\": \"\",\n",
    "        \"output\": \"Answer: \" + answer.replace('\\n',' ').strip(),\n",
    "        \"history\": []\n",
    "    }\n",
    "def apply_prompt_plos_query_exp_template(context,question,answer):\n",
    "    return {\n",
    "        \"instruction\": plos_query_prompt['prompt_input_exp'].format(context=context.replace('\\n',' ').strip(),question=question),\n",
    "        \"input\": \"\",\n",
    "        \"output\": \"Answer: \" + answer.replace('\\n',' ').strip(),\n",
    "        \"history\": []\n",
    "    }"
   ]
  },
  {
   "cell_type": "code",
   "execution_count": null,
   "id": "88c3c0d4-3255-4c31-8920-4aff99f05687",
   "metadata": {},
   "outputs": [],
   "source": [
    "\n",
    "def apply_prompt_elife_qg_pls_template(context,qa_pairs):\n",
    "    return {\n",
    "        \"instruction\": elife_qg_prompt['prompt_input_pls'].format(context=context.replace('\\n',' ').strip()),\n",
    "        \"input\": \"\",\n",
    "        \"output\": qa_pairs.strip(),\n",
    "        \"history\": []\n",
    "    }\n",
    "def apply_prompt_elife_qg_exp_template(context,qa_pairs):\n",
    "    return {\n",
    "        \"instruction\": elife_qg_prompt['prompt_input_exp'].format(context=context.replace('\\n',' ').strip()),\n",
    "        \"input\": \"\",\n",
    "        \"output\": qa_pairs.strip(),\n",
    "        \"history\": []\n",
    "    }\n",
    "\n",
    "def apply_prompt_plos_qg_pls_template(context,qa_pairs):\n",
    "    return {\n",
    "        \"instruction\": plos_qg_prompt['prompt_input_pls'].format(context=merge_spaces(context.replace('\\n',' ')).strip()),\n",
    "        \"input\": \"\",\n",
    "        \"output\": qa_pairs.strip(),\n",
    "        \"history\": []\n",
    "    }\n",
    "def apply_prompt_plos_qg_exp_template(context,qa_pairs):\n",
    "    return {\n",
    "        \"instruction\": plos_qg_prompt['prompt_input_exp'].format(context=merge_spaces(context.replace('\\n',' ')).strip()),\n",
    "        \"input\": \"\",\n",
    "        \"output\": qa_pairs.strip(),\n",
    "        \"history\": []\n",
    "    }"
   ]
  },
  {
   "cell_type": "code",
   "execution_count": 373,
   "id": "4dd7dadc-9036-410a-87c8-ca252f1093b8",
   "metadata": {
    "tags": []
   },
   "outputs": [
    {
     "name": "stderr",
     "output_type": "stream",
     "text": [
      "100%|██████████| 1500/1500 [00:05<00:00, 279.89it/s]\n"
     ]
    }
   ],
   "source": [
    "\n",
    "from tqdm import tqdm\n",
    "\n",
    "\n",
    "pdata_lists = []\n",
    "pdata_qa_lists = []\n",
    "# elife_sets, plos_sets \n",
    "# \n",
    "sorted_datas = sorted(plos_datas, key=lambda x: len(merge_spaces(x['article'].replace('\\n',' ')).split(' ')))[:3000]\n",
    "indexed_datas = {sorted_data[\"doi\"]:sorted_data for sorted_data in sorted_datas}\n",
    "# for data in clip_plos_datas:\n",
    "#     data_lists.append(apply_prompt_plos_query_exp_template(data))\n",
    "#     data_lists.append(apply_prompt_plos_query_pls_template(data))\n",
    "# for data in clip_elife_datas:\n",
    "#     data_lists.append(apply_prompt_elife_query_exp_template(data))\n",
    "#     data_lists.append(apply_prompt_elife_query_pls_template(data))\n",
    "# for plos_pair in plos_exp_query_pairs:\n",
    "#     if \n",
    "# list(elife_sets)[0],list(plos_sets)[0]\n",
    "\n",
    "for nid, plos_id in enumerate(tqdm(list(plos_sets)[:1500])):\n",
    "    exp_pairs = plos_exp_query_pairs[plos_id]\n",
    "    pls_pairs = plos_pls_query_pairs[plos_id]\n",
    "    \n",
    "    # context = merge_spaces(sorted_datas[plos_id]['article'].replace('\\n',' ')).strip()\n",
    "    context = merge_spaces(indexed_datas[plos_id]['article'].replace('\\n',' ')).strip()\n",
    "    lay = merge_spaces(indexed_datas[plos_id]['plain language summary'].replace('\\n',' ')).strip()\n",
    "    expert = merge_spaces(indexed_datas[plos_id]['abstract'].replace('\\n',' ')).strip()\n",
    "    \n",
    "    pdata_lists.append(apply_prompt_plos_exp_template(context,expert))\n",
    "    # data_lists.append(apply_prompt_plos_pls_template(context,lay))\n",
    "    \n",
    "    if nid < 100:\n",
    "        for exp_pair in exp_pairs[:10]:\n",
    "            question, answer = exp_pair[0].replace(\"Question:\",\"\").strip(), exp_pair[1].replace(\"Answer:\",\"\").strip()\n",
    "            pdata_qa_lists.append(apply_prompt_plos_query_exp_template(context,question,answer))\n",
    "        # data_lists.append(apply_prompt_plos_exp_template(context,expert))\n",
    "    \n",
    "    pdata_lists.append(apply_prompt_plos_pls_template(context,lay))\n",
    "    \n",
    "    if nid < 100:\n",
    "        for pls_pair in pls_pairs[:10]:\n",
    "            question, answer = pls_pair[0].replace(\"Question:\",\"\").strip(), pls_pair[1].replace(\"Answer:\",\"\").strip()\n",
    "            pdata_qa_lists.append(apply_prompt_plos_query_pls_template(context,question,answer))\n",
    "        # data_lists.append(apply_prompt_plos_pls_template(context,lay))\n",
    "        "
   ]
  },
  {
   "cell_type": "code",
   "execution_count": 336,
   "id": "a7ab0ba9-077a-4f1f-997e-8ed787197bca",
   "metadata": {
    "tags": []
   },
   "outputs": [],
   "source": [
    "sorted_datas = sorted(elife_datas, key=lambda x: len(merge_spaces(x['article'].replace('\\n',' ')).split(' ')))[:2000]\n",
    "indexed_datas = {sorted_data[\"doi\"]:sorted_data for sorted_data in sorted_datas}"
   ]
  },
  {
   "cell_type": "code",
   "execution_count": 337,
   "id": "26c86740-50b0-494d-87f2-c551b6a0b847",
   "metadata": {
    "tags": []
   },
   "outputs": [
    {
     "data": {
      "text/plain": [
       "'elife-39356-v1'"
      ]
     },
     "execution_count": 337,
     "metadata": {},
     "output_type": "execute_result"
    }
   ],
   "source": [
    "list(indexed_datas.keys())[0]"
   ]
  },
  {
   "cell_type": "code",
   "execution_count": 380,
   "id": "77d247c3-3b7e-4e8c-a635-c2a42cbc3dd4",
   "metadata": {},
   "outputs": [],
   "source": [
    "edata_lists = []\n",
    "edata_qa_lists = []\n",
    "\n",
    "sorted_datas = sorted(elife_datas, key=lambda x: len(merge_spaces(x['article'].replace('\\n',' ')).split(' ')))[:2000]\n",
    "indexed_datas = {sorted_data[\"doi\"]:sorted_data for sorted_data in sorted_datas}\n",
    "enum = 0\n",
    "\n",
    "for nid, elife_id in enumerate(list(indexed_datas.keys())[:1500]):\n",
    "    \n",
    "    exp_pairs , pls_pairs = [],[]\n",
    "    \n",
    "    if elife_id in list(elife_sets):\n",
    "        exp_pairs = elife_exp_query_pairs[elife_id]\n",
    "        pls_pairs = elife_pls_query_pairs[elife_id]\n",
    "        enum += 1\n",
    "    \n",
    "    # context = merge_spaces(sorted_datas[plos_id]['article'].replace('\\n',' ')).strip()\n",
    "    context = merge_spaces(indexed_datas[elife_id]['article'].replace('\\n',' ')).strip()\n",
    "    lay = merge_spaces(indexed_datas[elife_id]['plain language summary'].replace('\\n',' ')).strip()\n",
    "    expert = merge_spaces(indexed_datas[elife_id]['abstract'].replace('\\n',' ')).strip()\n",
    "    \n",
    "    edata_lists.append(apply_prompt_elife_exp_template(context,expert))\n",
    "    \n",
    "    if enum <= 100:\n",
    "        for exp_pair in exp_pairs[:10]:\n",
    "            question, answer = exp_pair[0].replace(\"Question:\",\"\").strip(), exp_pair[1].replace(\"Answer:\",\"\").strip()\n",
    "            edata_qa_lists.append(apply_prompt_elife_query_exp_template(context,question,answer))\n",
    "            # data_lists.append(apply_prompt_elife_exp_template(context,expert))\n",
    "    \n",
    "    edata_lists.append(apply_prompt_elife_pls_template(context,lay))\n",
    "    \n",
    "    if enum <= 100:\n",
    "        for pls_pair in pls_pairs[:10]:\n",
    "            question, answer = pls_pair[0].replace(\"Question:\",\"\").strip(), pls_pair[1].replace(\"Answer:\",\"\").strip()\n",
    "            edata_qa_lists.append(apply_prompt_elife_query_pls_template(context,question,answer))\n",
    "            "
   ]
  },
  {
   "cell_type": "code",
   "execution_count": 396,
   "id": "09bab472-b8f1-47a5-a911-401e73ca3a0d",
   "metadata": {
    "tags": []
   },
   "outputs": [
    {
     "data": {
      "text/plain": [
       "2000"
      ]
     },
     "execution_count": 396,
     "metadata": {},
     "output_type": "execute_result"
    }
   ],
   "source": [
    "len(edata_qa_lists)"
   ]
  },
  {
   "cell_type": "code",
   "execution_count": 397,
   "id": "a2515580-9abd-4d68-8812-b59b84fc0956",
   "metadata": {
    "tags": []
   },
   "outputs": [],
   "source": [
    "# list1 = [1, 2, 3, 4, 5, 6, 7, 8, 9, 10]\n",
    "# list2 = ['a', 'b', 'c', 'd', 'e', 'f', 'g', 'h', 'i', 'j']\n",
    "\n",
    "\n",
    "length = min(len(pdata_lists), len(pdata_qa_lists))\n",
    "\n",
    "\n",
    "mixed_list = []\n",
    "\n",
    "\n",
    "for i in range(0, length, 4):\n",
    "    mixed_list.extend(pdata_lists[i:i+4])\n",
    "    mixed_list.extend(pdata_qa_lists[i:i+4])\n",
    "    mixed_list.extend(edata_lists[i:i+4])\n",
    "    mixed_list.extend(edata_qa_lists[i:i+4])\n",
    "\n",
    "mixed_list.extend(pdata_lists[length:])\n",
    "mixed_list.extend(edata_lists[length:])\n",
    "\n",
    "# print(mixed_list)"
   ]
  },
  {
   "cell_type": "code",
   "execution_count": 415,
   "id": "5dc79016-23cf-4af1-bb1f-c25d966dce49",
   "metadata": {
    "tags": []
   },
   "outputs": [
    {
     "data": {
      "text/plain": [
       "10000"
      ]
     },
     "execution_count": 415,
     "metadata": {},
     "output_type": "execute_result"
    }
   ],
   "source": [
    "len(mixed_list)"
   ]
  },
  {
   "cell_type": "code",
   "execution_count": 414,
   "id": "af3315aa-fb6a-41de-87e4-0fe369465c94",
   "metadata": {
    "tags": []
   },
   "outputs": [
    {
     "name": "stdout",
     "output_type": "stream",
     "text": [
      "JSON 文件写入成功！\n"
     ]
    }
   ],
   "source": [
    "file_path = 'train_query_c3_alpaca.json'\n",
    "\n",
    "with open(file_path, 'w') as file:\n",
    "    json.dump(mixed_list, file)"
   ]
  },
  {
   "cell_type": "code",
   "execution_count": 18,
   "id": "6e2f3e7b-c70e-4af5-bb06-291db3fd138a",
   "metadata": {
    "tags": []
   },
   "outputs": [],
   "source": [
    "def merge_spaces(input_string):\n",
    "    output_string = re.sub(r'\\s+', ' ', input_string)\n",
    "    return output_string"
   ]
  },
  {
   "cell_type": "code",
   "execution_count": 30,
   "id": "79c8b857-bdfa-4e60-8532-da29ddb795f6",
   "metadata": {
    "tags": []
   },
   "outputs": [],
   "source": [
    "clip_plos_datas = []\n",
    "for data in plos_datas:\n",
    "    train_text = merge_spaces(data['article'].replace('\\n',' ')).strip()\n",
    "    if len(train_text.split(' ')) <= 5000:\n",
    "        clip_plos_datas.append(data)"
   ]
  },
  {
   "cell_type": "code",
   "execution_count": 31,
   "id": "1f932700-ab19-46ef-b461-1af5bcfbf070",
   "metadata": {
    "tags": []
   },
   "outputs": [
    {
     "data": {
      "text/plain": [
       "10121"
      ]
     },
     "execution_count": 31,
     "metadata": {},
     "output_type": "execute_result"
    }
   ],
   "source": [
    "len(clip_plos_datas)"
   ]
  },
  {
   "cell_type": "code",
   "execution_count": 15,
   "id": "dcc04469-1394-4c10-9e69-991803f822df",
   "metadata": {
    "tags": []
   },
   "outputs": [],
   "source": [
    "clip_elife_datas = []\n",
    "for data in elife_datas:\n",
    "    train_text = data['article'].replace('\\n',' ').strip()\n",
    "    if len(train_text.split(' ')) <= 10000:\n",
    "        clip_elife_datas.append(data)"
   ]
  },
  {
   "cell_type": "code",
   "execution_count": 16,
   "id": "3e6b775e-b967-4223-85a5-f489ef02e9bc",
   "metadata": {
    "tags": []
   },
   "outputs": [
    {
     "data": {
      "text/plain": [
       "2347"
      ]
     },
     "execution_count": 16,
     "metadata": {},
     "output_type": "execute_result"
    }
   ],
   "source": [
    "len(clip_elife_datas)"
   ]
  },
  {
   "cell_type": "code",
   "execution_count": 32,
   "id": "c9005a51-fa67-4e1f-9460-b27f6f4ccbf1",
   "metadata": {
    "tags": []
   },
   "outputs": [],
   "source": [
    "data_lists = []\n",
    "\n",
    "for data in clip_plos_datas:\n",
    "    data_lists.append(apply_prompt_plos_exp_template(data))\n",
    "    data_lists.append(apply_prompt_plos_pls_template(data))\n",
    "for data in clip_elife_datas:\n",
    "    data_lists.append(apply_prompt_elife_exp_template(data))\n",
    "    data_lists.append(apply_prompt_elife_pls_template(data))"
   ]
  },
  {
   "cell_type": "code",
   "execution_count": 33,
   "id": "0c03618d-5005-4654-a498-961df532b78b",
   "metadata": {
    "tags": []
   },
   "outputs": [
    {
     "data": {
      "text/plain": [
       "24936"
      ]
     },
     "execution_count": 33,
     "metadata": {},
     "output_type": "execute_result"
    }
   ],
   "source": [
    "len(data_lists)"
   ]
  },
  {
   "cell_type": "code",
   "execution_count": 34,
   "id": "91058d0d-51b6-48ab-ac87-2aabda3b740a",
   "metadata": {
    "tags": []
   },
   "outputs": [
    {
     "data": {
      "text/plain": [
       "{'instruction': 'Please give me a layman summary of the following paper from PLOS dataset.\\nBelow is a paper.\\nEbola virus belongs to the Filoviridae family of enveloped viruses and contains a non-segmented negative-strand RNA genome [1,2]. Infection in humans can cause Ebola hemorrhagic fever, with exceptionally high case-fatality rates of more than 50% [3,4]. The incubation period of Ebola virus disease (EVD) is 2 to 21 days [5]. The clinical signs and symptoms are extremely similar to those of the Marburg virus and include fever, body aches, vomiting, diarrhea, rash and, in some cases, both internal and external bleeding [5]. Patients usually die of multiple-organ failure or hypovolemic shock. No licensed therapeutic or prophylactic treatments are currently available. The largest outbreak of EVD has been ongoing in West Africa since December 2013. As of April 15, 2015, 25,826 cases (10,704 deaths [41.4%]) had been reported by the World Health Organization (WHO) [6]. Although direct contact is the main route of transmission [7–10], EVD is still easily contagious, and healthcare workers have constituted a considerable proportion of all cases. In particular, by April 11, 2015, 864 healthcare workers (503 deaths [58.2%]) had been infected [6]. Ebola virus is classified as a biosafety level-4 agent. Clinical specimen inactivation should be performed in a biosafety level-3 laboratory, and subsequent to this step, routine testing can be performed in a biosafety level-2 laboratory. However, at the time of the outbreak, West Africa had few high-level biosafety facilities, so scientists had to work under difficult and dangerous conditions associated with potential exposure risks [11]. It would take a fairly long time, a large staff and many resources to construct a new fixed biosafety facility, thus delaying prevention and control of the epidemic. Therefore, a mobile unit [12,13] with both biosafety and flexibility was urgently needed to manage epidemics and emergent public health incidents such as the EVD outbreak. In September 2014, China responded to the appeal made by the United Nations and WHO and offered assistance to the government of Sierra Leone. A truck-based mobile biosafety level-3 laboratory (MBSL-3 Lab) and a well-trained diagnostic team were then dispatched and deployed to the Sierra Leone-China Friendship Hospital, in one of the hardest-hit areas, near Freetown, to assist in EVD diagnosis. The team members and aid supplies arrived on September 17, 2014. It took approximately one week to rebuild part of the hospital into multiple functional regions to meet the specimen testing requirements, including a specimen-receiving region, a supply-storage region, a waste-incineration region, a nucleic-acid-detection region, and a staff-rest area, among others. The MBSL-3 Lab was transported by an airlift jet aircraft (Antonov An-124 Ruslan, Russia) from Beijing Capital International Airport on September 24, 2014, at 03:00 (Beijing time) to Freetown International Airport on September 25, 2014, at 14:00 (Freetown time), with a flight duration of 43 h. It took another three and a half hours to drive the MBSL-3 Lab to the Sierra Leone-China Friendship Hospital. With strict training and standard operating procedures (SOPs), clinical specimen testing began within 60 h after the arrival of the MBSL-3 Lab, enabling the diagnosis of suspected EVD cases in less than 4 hours from the time of sample receiving. In total, 1,635 suspected EVD cases (824 positive [50.4%]) were tested from September 28 to November 11, 2014, and none of the staff members was infected with Ebola virus or other pathogens. Here, we provide a brief overview of the MBSL-3 Lab and the biosafety precautions applied to manage the EVD outbreak. This Ebola outbreak response was a humanitarian aid mission. The SOPs used were approved by the WHO and the Sierra Leone Ministry of Health and Sanitation (MoHS). The diagnostic results were released immediately after the specimen analyses were completed. Specimens were delivered to our worksite daily from two sources: the emergency operations center jointly established by the Sierra Leone MoHS and the China medical aid team who accompanied us and was also deployed to the Sierra Leone-China Friendship Hospital. When picking up the specimens, the staff wore one layer of personal protective equipment (PPE), including a protective suit (Lakeland INC or DuPont, USA), an N95 mask (3M, USA), an anti-impact goggle (3M, USA), two pairs of latex gloves with the inner pair taped to the protective suit and a pair of dedicated shoes and waterproof shoe covers (S1 Fig). The surface of the specimen bucket and the packing bag were disinfected by spraying with 0.25% chlorine-containing disinfectants. The staff extracted RNA in the BSL-3 Lab wearing two layers of PPE. The inner PPE included a protective suit, an N95 mask, a pair of inner gloves and a pair of dedicated shoes and waterproof shoe covers (S1 Fig). The external PPE included a HEPA filter-equipped powered air purifying respirator (3M, USA), a disposable sterilized surgical gown, a pair of external gloves and waterproof shoe covers (S1 Fig). The specimen bucket was opened within the biosafety cabinet. As Buffer AVL in the QIAamp Viral RNA Mini Kit (Qiagen, Germantown, MD, USA) was insufficient to inactivate samples [14], a combination of physical and chemical inactivation was performed to enhance the inactivation efficiency. The specimens were first inactivated by incubation in a water bath at 62°C for 1h before opening the tube cap to pipette the samples and were then further inactivated by the addition of Buffer AVL to the samples. RNA was extracted using the QIAamp Viral RNA Mini Kit (Qiagen, Germantown, MD, USA) according to the manufacturer’s protocol. All waste was first chemically inactivated (with 0.25% chlorine-containing disinfectant), then sterilized using a double-leaf autoclave and finally incinerated. Quantitative real-time PCR (Q-RT-PCR) assays were performed using a set of published primers and probes [15], targeting regions of the glycoprotein gene (F: 5’-TGGGCTGAAAAYTGCTACAATC-3’; R: 5’-CTTTGTGMACATASCGGCAC-3’; Probe: FAM-5′-CTACCAGCAGCGCCAGACGG-3′-TAMRA). RNA was amplified using the One Step PrimeScript RT-PCR Kit (TaKaRa, Japan), and 40-cycle Q-RT-PCR assays were run on the LightCycle 96 System (Roche, Switzerland). Melt curve analysis was performed to confirm the identity of the amplification products. The specimens were considered positive if there was an apparent logarithmic phase in the amplification curve, with melting point confirmed amplification products and the Ct value≤36 (Ct value<26, intense positive; 26≤Ct value≤ 36, weak positive). In contrast, the specimens were considered negative if there was no apparent logarithmic phase, with the Ct value undetermined, and they were considered suspect when 36<Ct value≤40. The MBSL-3 Lab was equipped with a -20°C freezer and a -80°C freezer, and there was another -80°C freezer outside the MBSL-3 Lab. As a result, we could store a total of 1500–2000 specimens. For short-term storage, namely, within 1 day, we stored the specimens at -20°C. For long-term storage, we stored the specimens at -80°C. The specimens were well packed and surface disinfected with 0.25% chlorine-containing disinfectant before storage. The Sierra Leone-China Friendship Hospital was guarded by the military guard of Sierra Leone, and the freezers were well locked. Every patient was assigned a unique Outbreak Case ID by the emergency operations center jointly established by the MoHS. Each time a sample was collected, the patient was asked to complete a “VIRAL HEMORRHAGIC FEVER CASE INVESTIGATION FORM”. The sample tube and the investigation form were marked with the Outbreak Case ID and patient name and were then delivered to us. Therefore, the Outbreak Case ID provided a unique number for tracking the patient, the specimen and the test result. The information in our testing report included the Outbreak Case ID, the Ct value yielded by Q-RT-PCR and the confirmed result (Yes/No/Suspect). According to an agreement with the MoHS, we usually did not contact hospitals directly. Instead, we submitted the testing report to the WHO and the MoHS, which was in charge of delivering the results to hospitals. In particular, the China medical aid team who came with us and was also deployed to the Sierra Leone-China Friendship Hospital could get testing results from us directly. The China MBSL-3 Lab arrived in Sierra Leone on September 25, 2014, and specimen tests were carried out within 60 h of its arrival. The worksite layout was shown in Fig 1. After receiving specimens, scientists sent them to the MBSL-3 Lab, where RNA was extracted. One room in the hospital was rebuilt and used for subsequent Q-RT-PCR analysis. The MBSL-3 Lab was powered by alternate use of 200kW diesel generators. Lab and household trash was incinerated away from the lab or structures in a pit. There were surveillance cameras all around the worksite and inside every experimental room, and scientists could watch real-time surveillance video and communicate with the experimenters in the laboratory. An overview of the composition of the China mobile laboratory diagnostic team and the team members’ tasks was shown in Table 1. One scientist was in charge of contacting the MoHS to coordinate issues such as sending specimens and releasing analysis results. In addition, eight scientists engaged in virus detection. Technical support personnel were in charge of the operation of the MBSL-3 Lab, including overseeing the water and electricity supply, maintenance and repair of equipment, sterilization and incineration of lab trash as well as watching and recording the daily experimental process. Two medical doctors monitored the health conditions of every staff member. The MBSL-3 Lab was composed of three container vehicles. The container encompassing the BSL-3 laboratory was called the main container (L×W×H: 9125×2438×2896mm); the second container, of the same size, was used for personnel cleaning and technology support and was called the auxiliary container; and the third container was the command container (L×W×H: 6300×2460×2100mm). As shown in Fig 2, the main and auxiliary containers were connected by an airtight soft connection and together formed a complete BSL-3 Lab. From the entrance to the inside, in order, there was the outside locker room (0-5Pa), the inside locker room (Buffer room-2, -10Pa), the semi-contaminated channel (-20±5Pa), the air lock room (Buffer room-1, -45±5Pa) and the BSL-3 laboratory (-70±10Pa). The doors were interlocking. The checklist for the different workplaces and instruments in the MBSL-3 Lab was listed in S1 Table. The MBSL-3 Lab provided triple protection for humans, specimens and the environment. The main performance of the MBSL-3 Lab was detailed as follows. “Four Flows” management were the key elements of biosafety measures in the MBSL-3 Lab (Fig 4). To assess the aerosol exposure risk when working in or around the MBSL-3 Lab, air samples were collected from the BSL-3 lab, locker rooms, water treatment room, equipment room, exhaust outlet and command container and were concentrated for EVD detection every 15 days (S1 Fig). Fortunately, all results were negative. We also collected swabs from the surfaces of potentially contaminated objects to determine whether there was an existing exposure risk (S2 Table). On one occasion, the pipette used to pipette samples from the blood-collection tubes tested positive for EVD, with a Ct value of 27.75. The diagnostic algorithm for laboratory testing and the rationale for positive/negative/suspect test results were presented in Fig 5. We repeated the testing of the suspect and negative cases and strongly recommended collecting specimens again if collection was performed <3 days post onset of symptoms. We found no evidence of RNA contamination during the entire operation. We added positive and negative controls to every experiment, and all controls produced the expected results. Overall, 1,635 suspected EVD specimens were tested from September 28 to November 11, 2014, primarily blood/serum samples (69.2%) and oral swabs (30.8%). The sample sources and test results were presented in Table 2. In total, 824 cases (50.4%) were identified as positive, and the positive rate of the swab samples (41.9%) was slightly lower than that of the blood samples (54.2%). The number of various paroxysmal public health events has been growing, and most have occurred in poverty-stricken areas. However, the resources for medical treatment, outbreak management and laboratory research are concentrated in developed regions, and substantial expenditure would be required to build new medical systems in these areas. Because epidemic situations are always urgent, scientists thus work under inadequate conditions and face exposure risks. Therefore, rapid, safe and flexible outbreak response capacity is urgently needed [17]. A mobile laboratory unit can easily be promptly deployed when needed and can provide a safe working environment, which will be a vital part of the outbreak response to emerging public health events or bioterrorism acts and will make great contributions to lessening and controlling epidemics. Several mobile units have previously been used in natural disaster scenarios [18,19], in health surveys [20,21], during the outbreak of severe infectious diseases [22–24] and in military campaigns [25]. Our MBSL-3 Lab meets the requirements of on-site collection, isolation, cultivation and detection of emergent infectious pathogens. This laboratory also protects humans as well as the environment and specimens, and it was designed to be functional in a field setting, even without logistical support. The major challenges in a remote location may be power supply and water supply, but there are ways to overcome them. There was an 80kVA (≈70kW) diesel generating set in the auxiliary container of the MBSL-3 Lab. Full fuel in the oil box can power the MBSL-3 Lab in continuous operation for 24h. We can bring as much fuel with us as possible using oil tanks, and wherever the MBSL-3 Lab can arrive, a refueling truck could also arrive. The MBSL-3 Lab is also equipped with a water storage tank and a water softener, and water can be re-supplied with water from a well or clear stream. If the experimenters could do not take a shower in the MBSL-3 Lab, the water requirement is not large, approximately 200L per day. In addition, the MBSL-3 Lab is equipped with a leveling system, but it still needs a 20m×8m level ground. This was the first time that we executed a mission in Africa. In total, 1,635 specimens were tested from September 28 to November 11, 2014, accounting for more than one quarter of the nation’s specimen volume during the same period. In all, 824 (50.4%) specimens were EVD-positive, representing 33.3% of the total number of confirmed cases reported in Sierra Leone during the same period. The maximum number of specimens that we could reasonably process in one day is approximately 120–150. We developed strict SOPs, adopted comprehensive protective measures and used comprehensive medical and logistical support systems to ensure safe and orderly performance of the virus diagnosis task. In particular, the “Four Flows” biosafety protocol was strictly followed. We monitored the exposure risk during clinical specimen testing. Air samples were collected from every workspace, and the test results were all negative, indicating that the working environment was relatively safe. The surfaces of potentially contaminated objects were also swabbed. On one occasion, the pipette used to pipette samples from blood-collection tubes tested positive. Given that a portion of the specimens contained only a small sample volume, the pipette had to be placed deep into the tubes and was easily contaminated by touching the inner wall. Therefore, it was suggested that the barrel of the pipette should be disinfected with disinfectant-containing gauze after pipetting each sample to avoid personnel infection and cross-contamination of samples. The test results played an important role in the disposal of symptomatic individuals and might, in a sense, determine their fates. For positive cases, the patients would be properly isolated and treated without visiting family members, and traditional religious funerals for the dead were forbidden. For negative cases, the patients would be separated from the positive cases and kept in an observation ward for follow-up testing or discharge to relieve the limited wards. Hence, the accuracy of the test results was crucial. False-positive results might lead to the individual being infected by positive patients, whereas false-negative results might lead to the spread of EVD to families and even the community. Our diagnostic algorithm suggested a suspect conclusion when 36<Ct value≤40 and strongly recommended resampling and considering clinical information and epidemiological links. Q-RT-PCR is now a preferred method for pathogen diagnosis due to its rapid and sensitive features [26], but it is prone to contamination and may result in false-positive results. Therefore, we conducted every experiment in the biosafety cabinet. The cabinet and PCR room were exposed periodically to ultraviolet radiation to eliminate nucleic acid contamination. Additionally, PCR tubes were never opened. Every control included in the PCR assays produced the expected result, indicating high experimental accuracy. Moreover, the MoHS was in charge of retrospective look at the disease progresses of the patients, and to date, we have not received any feedback regarding a false diagnostic case from the MoHS. We have shown that the positive rate of oral swabs was lower than that of blood samples. The technique and efficiency of swabbing might be one of the most important factors. Swab samples should be obtained by vigorous sampling to acquire sufficient biologic material for testing [27]. A quality-control PCR target (housekeeping gene target), such as Beta 2 Microglobulin (B2M), should be added for sample integrity assessment in the future. Our MBSL-3 Lab continuously worked for six months and managed 4,867 specimens for EVD diagnostics. During that time, the China CDC established a fixed BSL-3 Lab near the Sierra Leone-China Friendship Hospital for long-term surveillance and to serve as the public health system for future outbreaks and epidemics. Currently, the EVD epidemic situation is under effective control, and our MBSL-3 Lab has been proven to be an important force for disease control and emergency disposal.\\nNow the paper ends.',\n",
       " 'input': '',\n",
       " 'output': 'A Mobile Biosafety Level-3 Laboratory (MBSL-3 Lab) and a well-trained diagnostic team were dispatched to Sierra Leone to assist in Ebola virus disease (EVD) diagnosis when the largest outbreak of EVD to date emerged in West Africa in 2014. This setup allowed for the diagnosis of suspected EVD cases in less than 4 hours from the time of sample receiving. The laboratory was composed of three container vehicles and was equipped with advanced ventilation system, communication system, electricity and gas supply system. Multiple safety precautions were strictly applied to reduce exposure risks. A total of 1,635 suspected EVD cases were evaluated from September 28 to November 11, 2014, and none of the staff members was infected with Ebola virus or other pathogens. The China mobile laboratory was thus instrumental in the EVD outbreak response by providing timely and accurate diagnostics. Therefore, the MBSL-3 Lab played a significant role in establishing a suitable laboratory response capacity during the emergence of EVD in Sierra Leone.',\n",
       " 'history': []}"
      ]
     },
     "execution_count": 34,
     "metadata": {},
     "output_type": "execute_result"
    }
   ],
   "source": [
    "data_lists[1]"
   ]
  },
  {
   "cell_type": "code",
   "execution_count": 35,
   "id": "e00a4dd2-0b8f-42b0-a3a9-6c835dcd5502",
   "metadata": {
    "tags": []
   },
   "outputs": [],
   "source": [
    "import random\n",
    "random.shuffle(data_lists)"
   ]
  },
  {
   "cell_type": "code",
   "execution_count": 42,
   "id": "511be5e5-2eaf-4e17-baeb-fdc47f4c8e43",
   "metadata": {
    "tags": []
   },
   "outputs": [
    {
     "data": {
      "text/plain": [
       "{'instruction': \"Please give me an expert summary of the following paper from eLife dataset.\\nBelow is a paper.\\n1 Introduction Poly ( ADP-ribose ) polymerase 1 ( PARP1 ) serves as a first responder to DNA damage and is the founding member and most abundant representative of the large family of diphtheria toxin-like ADP-ribosyltransferases ( ARTDs ) ( Bai , 2015; Bock and Chang , 2016; Beck et al . , 2014; Daniels et al . , 2015; De Vos et al . , 2012; Mashimo et al . , 2014; Morales et al . , 2014 ) . Binding to either single or double-strand DNA breaks ( SSBs or DSBs ) enzymatically activates PARP1 to use NAD+ in polymerizing long chains of poly ( ADP ) -ribose ( PAR ) onto itself and other nuclear acceptor proteins such as histones and DNA repair proteins . These PAR chains then recruit the appropriate DNA repair machinery containing PAR-binding motifs ( Karlberg et al . , 2013; Teloni and Altmeyer , 2016 ) . PARP1 is of special interest because it is a validated target for cancer therapy ( Tangutoori et al . , 2015; Liu et al . , 2014 ) . Most notably , olaparib and rucaparib are in clinical use for treatment of ovarian and/or breast cancer in BRCA1/2 negative patients , and there are many on-going phase III clinical trials for inhibitors of PARPs either as monotherapy or in combination with chemo- or radiotherapy . Overall , the domain structures of the 16 members of the ARTD family are quite diverse , but they all share a common catalytic core domain ( ~40 kDa ) ( Barkauskaite et al . , 2015 ) . Clinically relevant inhibitors of PARP1 bind in the catalytic domain . The N-terminal region of PARP1 contains five additional domains; three Zn-finger domains , an automodification domain that contains a BRCT-fold , and a WGR domain ( Figure 1A ) . Seminal work from the Pascal laboratory has provided a molecular understanding of how Zn1 , Zn2 , Zn3 , and the WGR domain collaborate to recognize DNA strand breaks in a structure-specific and sequence-independent manner , and subsequently activate the catalytic activity of PARP1 . Zn1 and Zn2 separately ( Langelier et al . , 2011a ) , and together in the context of an SSB ( Eustermann et al . , 2015 ) , bind one DNA end each using two points of contact , termed the phosphate backbone grip and the base stacking loop . In the context of a DSB , this grip-loop interaction mode is maintained by Zn1 , while the Zn3 and WGR domains make additional contacts to the DNA ( Figure 1B ) ( Langelier et al . , 2012 ) . Importantly , stepwise assembly of the different domains of PARP1 on DNA leads to the destabilization of the helical subdomain ( HD ) of the catalytic domain , which results in activation of its ADP-ribosyl transferase activity ( Eustermann et al . , 2015; Langelier et al . , 2018; Dawicki-McKenna et al . , 2015 ) . In cells , PARP1 is known to contribute to many types of DNA repair mechanisms , including base excision repair , homologous recombination , nucleotide excision repair , and alternative non-homologous end-joining ( de Murcia et al . , 1997 ) . In vitro , PARP1 is activated by a wide variety of DNA damage models including nicks , gaps , blunt ends , 5’- or 3’- extensions , all with or without a 5’-phosphate ( Langelier et al . , 2014 ) . There is now clear evidence from multiple laboratories that PARP1 also binds tightly to undamaged DNA . For example , the Kraus laboratory has shown that PARP1 binds to and condenses intact chromatin , represses Pol II-dependent transcription , and is activated for auto-PARylation ( Kim et al . , 2004 ) . We have previously shown that PARP1 serves as a chromatin architectural protein and interacts tightly ( Kd\\xa0~nM ) with and is activated by various nucleosome constructs ( Clark et al . , 2012; Muthurajan et al . , 2014 ) . Additionally , atomic force microscopy has shown that PARP1 binds not only to DNA ends or specific nicks , but also has significant affinity for undamaged DNA ( Sukhanova et al . , 2016 ) . Most recently , single molecule tightrope assays have demonstrated that PARP1 interacts with and moves along undamaged DNA ( Liu et al . , 2017 ) . Thus PARP1 faces a similar ‘speed-stability’ paradox ( Mirny et al . , 2009; Zandarashvili et al . , 2015; Halford and Marko , 2004 ) as transcription factors that need to find their target recognition site in an overwhelming excess of non-specific sites for which they also have significant affinity . PARP1 must rapidly search the genome for damaged DNA , yet it has significant affinity for the billions of base pairs of undamaged DNA that are present at concentrations of\\xa0~100 mg/mL in the nucleus ( Krebs et al . , 2017 ) . In fact , laser micro-irradiation experiments in live cells have shown that PARP1 significantly accumulates at DNA damage sites in less than 10 s ( Mortusewicz et al . , 2007 ) . The conundrum is that repeated cycles of release of PARP1 from undamaged DNA , random diffusional collisions , and rebinding to a different location may not be fast enough to explain how PARP1 can rapidly localize to sites of DNA damage . Various models have been put forth and tested for explaining how ‘facilitated diffusion’ could accelerate this search process , all of which recognize the importance , as opposed to hindrance , of non-specific binding to DNA for efficient site localization ( Halford and Marko , 2004; Berg et al . , 1981; Iwahara et al . , 2006; Doucleff and Clore , 2008 ) . These models include binding followed by one-dimensional sliding along DNA , hopping to a near-by site in the same chain , and intersegment transfer via an intermediate loop that is formed when the protein binds two different DNA sites at the same time . While some localized sliding along DNA has been reported for PARP1 ( Liu et al . , 2017 ) , a more thorough kinetic characterization of binding to and dissociation from DNA is needed in order to address how PARP1 can efficiently localize to sites of DNA damage to initiate repair . PARP1 has been found to associate more tightly with DNA in vivo in the presence of clinically relevant inhibitors . This phenomenon , known as PARP ‘trapping' ( Tangutoori et al . , 2015; Brown et al . , 2016; Shen et al . , 2015; Murai et al . , 2012; Pommier et al . , 2016 ) is thought to be in part responsible for the clinical effects of PARP inhibitors and has been used to explain the numerous discrepancies between in vitro inhibition of PARP1 vs . potency in preclinical models . For example , talazoparib is 100-fold more potent at trapping PARP1 on DNA and\\xa0>50 fold more potent at killing cancer cells than rucaparib and olaparib , although the apparent IC-50’s for all three compounds are quite similar ( 1–5 nM ) ( Shen et al . , 2015 ) . Further complicating matters , extensive biochemical investigations of PARP1 trapping failed to provide evidence for an allosteric interaction between DNA- and inhibitor-binding ( Hopkins et al . , 2015 ) , suggesting that trapping is due solely to inhibition of catalytic activity ( but see [Langelier et al . , 2018] ) . Thus , an evaluation of PARP inhibitors in a quantitative assay that measures DNA binding and release has the potential to shed further light on this controversial issue . Here , we report on the kinetics of association and dissociation of PARP1 with DNA . We find that association of PARP1 with DNA is extremely fast , and that dissociation depends on the formation of a ternary complex where a second DNA molecule binds before release of the original DNA . We find that the WGR-domain , more specifically the conserved residue Trp589 , is essential for triggering DNA-dependent release of DNA from PARP1 , and we demonstrate the importance of this mechanism of DNA release for the accumulation of PARP1 at sites of DNA damage in the cell . Finally , we find that clinically relevant inhibitors do not perturb the rate or mechanism of release of DNA from PARP1 . 2 Results We began our investigations by measuring the rate of association of PARP1 with DNA . Varying concentrations of PARP1 ( 60–250 nM ) were mixed in a stopped-flow apparatus with fixed concentrations ( 30 nM ) of a fluorescently labeled model of a double-strand break with a 5’-phosphate ( p18mer* ) . Addition of protein results in an increase in fluorescence anisotropy that is not observed by addition of buffer alone ( Figure 2A ) . The data at all concentrations of PARP1 could be fitted with a single exponential to yield kobs with very good residuals ( Figure 2A ) . Under idealized experimental conditions wherein the concentration of PARP1 greatly exceeds the concentration of p18mer* , one would expect a replot of kobs vs . the concentration of PARP1 to yield a straight line , as was indeed observed here ( Figure 2A , inset ) . The slope of such a line equals the apparent second order rate constant of association , whereas the y-intercept equals the first-order rate constant of dissociation . To analyze the data more rigorously , we used Kintek Explorer , a powerful fitting program that allows for global model-dependent fitting that does not require adherence to limiting conditions ( Figure 2B ) . Our analysis yields a k1 of 3 . 1 nM−1s−1 ( Scheme 1 , Table 1 ) , which is significantly greater than previously reported for PARP1 associating with DNA as measured using surface plasmon resonance ( Jorgensen et al . , 2009 ) . The rate of dissociation ( k-1 ) could not be determined from this experiment since no significant dissociation occurs over the 25 ms time course of the experimental observation . Using global fitting , we could derive an upper bound for k-1 of 10 s−1 . Thus , the true equilibrium dissociation constant ( KD ) of a double-strand break under these conditions is\\xa0<3 nM ( Figure 4—figure supplement 2 ) , lower than the previously reported KDs of 31 nM ( Clark et al . , 2012 ) , 14 nM ( Langelier et al . , 2010 ) , and 97 nM ( Langelier et al . , 2018 ) ( see Discussion ) . Because we were unable to determine the rate of DNA dissociation from PARP1 in the previous experiment , we designed an experiment to explicitly measure this rate using competition . Here , we pre-form a complex between PARP1 and fluorescently labeled DNA and use an excess of unlabeled DNA to compete away the labeled DNA and prevent its re-association with PARP1 . We began these investigations by first performing a label-swap experiment to ensure that unlabeled p18mer behaves similarly to fluorescein labeled p18mer* . Since the experimental read-out is based on the change in fluorescence anisotropy of p18mer* , we used a fixed and limiting concentration of total labeled DNA such that no excess p18mer* is present . PARP1 ( 37 nM ) , pre-bound to either p18mer or p18mer* ( 25 nM ) was mixed with 25 nM p18mer* or p18mer ( respectively ) in a stopped-flow apparatus . Dissociation of p18mer or p18mer* ( followed by binding of the competitor ) was monitored by an increase or decrease in fluorescence anisotropy , respectively ( Figure 3—figure supplement 1 ) . The similarity of these two experiments is best visualized by plotting the sum of the signal to generate a flat line equal to the probe concentration ( 25 nM ) , a pseudo-residual indicating that p18mer and p18mer* are kinetically indistinguishable in our assay . In order to probe the mechanism of DNA dissociation from PARP1 , we next varied the concentrations of competitor DNA . Under ideal experimental conditions , where the concentration of competitor DNA ( >500 nM ) greatly exceeds the probe concentration ( 25 nM ) , and assuming the simplest model wherein the rate of dissociation is rate-determining ( k’1 [DNA]>>k-1 , Scheme 2 ) , we expect that kobs would be independent of the concentration of competitor DNA . PARP1 ( 37 nM ) , pre-bound to p18mer* ( 25 nM ) , was mixed with various concentrations of competitor DNA ( p18mer , 500 nM – 4000 nM ) in a stopped-flow apparatus and dissociation of p18mer* was monitored by a decrease in fluorescence anisotropy ( Figure 3 ) . The data could be fitted to a single exponential to yield kobs with very good residuals ( Figure 3 ) . However , as seen in the data in Figure 3 by comparing dissociation in the presence of 2 . 2 vs 4 µM DNA , and in the replot of kobs vs . multiple concentrations of competitor DNA , kobs increases at increasing concentrations of competitor DNA ( Figure 3 , inset ) . Additionally , attempts to fit these data with Scheme 2 in Kintek Explorer yielded very poor fits and highly skewed residuals ( Figure 4—figure supplement 2 ) . Thus , a different kinetic scheme is needed to fit these data , one where competitor DNA is actively contributing to the dissociation of the pre-bound p18mer* . The simplest model to explain active participation of a competitor DNA in the dissociation of an already bound DNA is formation of a ternary complex wherein the competing DNA binds to PARP1 prior to the dissociation of the pre-bound DNA ( Scheme 3 ) . This model consists of four rate constants: k2 , ( formation of the ternary complex ) , k-2 ( release of the competing DNA to regenerate the pre-bound complex ) , k3 ( release of the pre-bound DNA to generate PARP1 only bound to the competing DNA ) , and k-3 ( re-formation of the ternary complex ) . Experimentally , both the starting pre-bound complex and the ternary complex are assigned a high anisotropy , whereas the final complex bound only to competing , unlabeled DNA is assigned a low anisotropy . In order to best constrain the four rate constants required to describe Scheme 3 , we used a broader range of competing DNA concentrations ( 50 nM – 4000 nM ) . Also , each concentration series was independently determined and fitted using Kintek Explorer at least three times . Representative fits of this model to the data are shown in Figure 4 , and the residuals indicate very good agreement between the data and this model , even at low concentrations of competitor DNA where kobs does not fit to a simple exponential and the apparent extent of exchange is significantly lower than at high concentrations . The aggregated rate constants are shown in Table 1 and the derived dissociation constants are shown in Figure 4—figure supplement 1 . The quality of the fits with the kinetic model in Scheme 3 provides strong support for the requisite formation of a ternary complex in the dissociation of DNA from PARP1 . The second order rate constant of association for the second DNA molecule is 0 . 043 nM−1s−1 is almost two orders of magnitude lower than that for association of the first DNA oligomer . The KD for the second DNA strand is 2600 nM , explaining why this complex would be rarely if ever detected under typical experimental conditions performed at nanomolar concentrations of PARP1 . Note that the rates of association and dissociation for the second DNA are not ‘symmetrical’ ( i . e . k2 ≠ k-3 and k-2 ≠ k3 ) . This asymmetry is most pronounced in the comparison between k-2 and k3: the pre-bound DNA is less likely to dissociate than the second competitor DNA . This observation makes intuitive sense in that the newly incoming DNA presumably binds to a different ( weaker ) site than the originally more tightly bound DNA . Although there is a lack of symmetry in the rate constants , the kinetically derived dissociation constants ( KDs ) are quite similar ( Figure 4—figure supplement 1 ) . Formation of a ternary complex with two different DNA molecules bound simultaneously requires two separate DNA binding sites . PARP1 has four domains that are known to contribute to DNA binding: Zn1 , Zn2 , Zn3 , and WGR ( Figure 1 ) . In order to identify if one or more of these domains selectively contributes to the formation of the ternary complex required for efficient DNA release , we generated constructs of PARP1 lacking each of these individual domains . To facilitate proper assembly of the remaining domains , we inserted a flexible 30 amino acid linker into each deletion , except for the N-terminal deletion of Zn1 . All mutants were purified to near homogeneity and were tested for DNA-dependent PARylation activity ( Figure 1—figure supplement 1 ) . As previously reported ( Langelier et al . , 2012 ) , Zn1 , Zn3 , and WGR are essential for catalytic activity , and thus deletion of these domains disrupts PARylation activity . On the other hand , the deletion of the non-essential Zn2 domain does not affect PARylation activity . We next measured the rates of association to , and dissociation from p18mer* for each of the individual deletions of the DNA-binding domains , using the stopped-flow anisotropy assays described above . As for wild-type PARP1 , each deletion construct was assayed at multiple different concentrations of protein or DNA , and the data were analyzed using global fitting in Kintek Explorer . Despite each construct missing one DNA-binding domain , all four bound to DNA with similar second-order rate constants ( k1s , Table 1 , Figure 2—figure supplements 1–4 ) . In the dissociation experiment , the Zn deletions ( ΔZn1 , ΔZn2 , and ΔZn3 ) behaved essentially like wild-type PARP1: increasing competitor DNA concentrations yielded increasing kobs , and the data were best described by global fitting of the kinetic model of Scheme 3 with the formation of a ternary complex ( Figure 4—figure supplements 3–5 , Table 1 ) . In contrast , the ΔWGR mutant behaved dramatically differently; increasing concentrations of competitor DNA did not yield higher kobss , and globally the data were best described by Scheme 2 ( Figure 5A , Table 1 ) . In the structure of PARP1 bound to a DSB , Trp589 in the WGR domain stacks against the ribose sugar of the 5’-end of the DNA ( Figure 1 ) ( Langelier et al . , 2012 ) . Since deletion of the entire WGR domain disrupted formation of the ternary complex , we tested whether the more conservative W589A substitution could recapitulate this effect . PARP1-W589A was prepared ( Figure 1—figure supplement 1 ) and tested in both the association and dissociation assays . The W589A point mutation is properly folded , as the mutant and wild-type PARP1 have identical melting temperatures ( 43 . 9\\xa0±\\xa00 . 3 vs . 43 . 3 ± 0 . 3°C ) . Similar to what was observed with the deletion of the entire WGR domain , the W589A mutant also bound to free DNA rapidly ( Figure 2—figure supplement 5 ) , and released DNA via the simple mechanism in Scheme 2 that is not dependent on binding a second DNA molecule ( Figure 5B , Table 1 ) . If PARP1 movement around the nucleus is indeed facilitated by the monkey-bar mechanism , then undamaged DNA , not just a short oligomer , should also promote release of pre-bound DNA . To address this question , we used plasmid DNA as a competitor of p18mer* pre-bound to PARP1 . Intact plasmid ( 4 . 5 kb;~90% supercoiled and 10% nicked ) at 5 nM is a surprisingly effective competitor of a pre-formed 25 nM complex , yielding a kobs comparable to what is observed with 1 µM p18mer ( Figure 6A ) . For comparison , 5 nM of p18mer yields no observable release of p18mer ( Figure 6A ) . These results demonstrate that undamaged DNA is an effective trigger for the release of pre-bound p18mer* . To validate these results further , we prepared increasing numbers of free ends ( models for DSBs ) by restriction digests of the plasmid with different enzymes ( Figure 6—figure supplement 1 ) . If DNA ends are the actual triggers for release of pre-bound p18mer* , we would expect the purposeful increase in the numbers of ends ( using the same amount of total plasmid ) to yield increasing rates of release ( see insert to Figure 3 ) . Instead , we observe an unchanged kobs , regardless of whether the concentration of ends is 10 nM ( cut once ) , 20 nM ( cut twice ) , 30 nM ( cut thrice ) , or 240 nM ( cut 24 times ) ( Figure 6A ) . In the hallmark experiment of inter-strand transfer , we demonstrate the concentration-dependence of intact competitor plasmid on the apparent rate of release of p18mer* , wherein the data were analyzed using global fitting in Kintek Explorer . As seen for p18mer , increasing competitor DNA concentrations of plasmid DNA yielded increasing kobs , and the data were best described by global fitting of the kinetic model of Scheme 3 with the formation of a ternary complex ( Figure 6B ) . In fact , the k-2 , k3 , and k-3 are all similar to the values seen previously using p18mer ( Table 1 ) . In order to have 5 nM plasmid release all the 25 nM pre-bound p18mer* , we can assume there are minimally five binding sites per plasmid . At the other extreme , estimating that one can place one PARP1 every 10 bp , there are maximally\\xa0~450 binding sites . Thus , one can place limits on the true value for k2 of 0 . 04–3 . 7 nM−1s−1 . Interestingly , the lower limit of this rate of association is similar to that measured for p18mer ( Table 1 ) , suggesting that undamaged DNA is a very effective competitor of damaged DNA . We conclude that intact DNA can also engage the monkey-bar mechanism to facilitate the movement of PARP1 around the nucleus . In order to test the physiological relevance of the mechanism of DNA-dependent release of DNA from PARP1 revealed in our in vitro experiments with p18mer and intact plasmid , we compared the rate and magnitude of accumulation of wild-type PARP1 with the W589A mutant at sites of DNA damage in cells . Mouse embryo fibroblasts were transiently transfected with GFP-tagged PARP1 ( wild-type or W589A ) , and DNA damage was induced by laser microirradiation at a designated region of interest ( ROI ) within the nucleus . Accumulation of PARP1 in the ROI was monitored by confocal microscopy for 1–5 min and the diffusion coefficient ( Deff ) and magnitude of PARP1 accumulation ( F ) were derived as recently described ( Mahadevan and Rudolph , 2018 ) . As seen in Table 2 , the W589A mutant accumulated to a lower level and with a significantly slower diffusion coefficient than wild-type PARP1 . Given the uncertain experimental basis for PARP1 trapping on DNA in cells treated with clinically relevant inhibitors of PARP1 ( Shen et al . , 2015 ) , we used the rigorous in vitro assay described above to investigate whether these inhibitors lead to a change in the rate or mechanism of DNA dissociation . We monitored the dissociation of p18mer* from PARP1 by fluorescence anisotropy in the presence of four different tight-binding inhibitors of PARP1 , using 1 µM competitor p18mer , conditions which lead to the inhibition of auto-PARylation ( Figure 7—figure supplement 1 ) . The observed dissociation curves were fit with a first-order exponential and the calculated rates were essentially identical to the DMSO control for olaparib , veliparib , niraparib , and talazoparib ( Figure 7A ) . To ensure that in the presence of inhibitor , DNA dissociation was still dependent on binding of competitor DNA ( Scheme 3 ) , we investigated the DNA concentration dependence of p18mer* dissociation in the presence of talazoparib , the most potent PARP1-trapping compound ( Shen et al . , 2015 ) . The dissociation of p18mer* in the presence of talazoparib ( 50 nM ) was measured at varying concentrations of competitor p18mer ( 1–4 µM ) and a concentration-dependent increase in kobs was observed just as for the control without inhibitor ( Figure 7B ) . We conclude that these inhibitors do not change the rate or mechanism of DNA dissociation from PARP1 . 3 Discussion Our results regarding the mechanisms of association and dissociation of PARP1 to and from DNA have important implications for our understanding of how PARP1 can move around the nucleus to scan for DNA damage . In vitro , PARP1 binds to DNA at or above the commonly accepted diffusion-limited rate ( Record et al . , 1991 ) of 1–2 nM−1s−1 , consistent with its extremely rapid accumulation at sites of DNA damage in vivo ( Mortusewicz et al . , 2007; Aleksandrov et al . , 2018 ) . In fact , compared to other model systems using DNA oligomers , PARP1 – DNA association is among the fastest previously reported . For comparison , the rates of association of eukaryotic mismatch repair complex Msh2-Msh6 ( Biro et al . , 2010 ) , RNA polymerase ( Johnson and Chester , 1998 ) , 8-oxoguanine-DNA-glycosylase ( Lukina et al . , 2017 ) , and papillomavirus E2 protein ( Ferreiro and de Prat-Gay , 2003 ) with double-stranded DNA are 0 . 002 , 0 . 004 , 0 . 13 , and 0 . 6–1 . 4 nM−1s−1 , respectively , effectively spanning three orders of magnitude . The fast association of PARP1 with DNA means that when dissociation does occur , re-association is most likely to the same site on the same DNA , as association is faster than diffusion carrying PARP1 away from its original binding site . This observation suggests that PARP1 , like other DNA-binding proteins such as transcription factors ( Mirny et al . , 2009 ) , must have a mechanism for moving around the genome that does not rely on simple dissociation and re-association . Although protein sliding along DNA in one-dimension has previously been invoked as a potential mechanism for accelerating the search for specific binding sites ( Berg et al . , 1981 ) , more recent publications point out potential difficulties with such a long-distance sliding model ( Halford , 2009 ) , which is even more difficult to envision given the organization of DNA into nucleosomes in the eukaryotic genome . Instead , we have found that PARP1 dissociation from DNA is triggered by binding of an additional DNA oligomer or undamaged plasmid prior to dissociation from the first DNA oligomer . We envision a ‘monkey bar’ model ( Vuzman et al . , 2010a; Vuzman et al . , 2010b ) , wherein PARP1 moves from one DNA molecule to another DNA molecule , much like a child swings from bar to bar , transferring one hand at a time . This mechanism allows PARP1 to effectively scan the genome , moving to new and different sections of DNA . In the absence of competing DNA , PARP1 would remain effectively stuck at or near one site given its fast rate of association . Interestingly , undamaged DNA appears to be very effective at promoting the monkey-bar mechanism ( Table 1 ) , raising the question of how PARP1 remains stationary at sites of DNA damage . We have found that the WGR domain provides the other weaker ‘hand’ to facilitate the movement from one DNA strand to the next . Based on the structure of PARP1 bound to a DSB ( Langelier et al . , 2012 ) , the WGR domain would need to first dissociate from the bound DNA prior to association with a second different molecule of DNA . Such a model is consistent with an NMR study that provides evidence for the stepwise assembly of PARP1 on a site of DNA damage where the Zn1 , Zn2 , and Zn3 domains engage a DNA molecule prior to final engagement of the WGR and catalytic domains ( Eustermann et al . , 2015 ) . Thus , one can readily imagine a partial reversal of this process wherein the WGR domain releases the original DNA to bind the incoming DNA , followed by release of the original DNA and subsequent rearrangement of the domain around the newly bound DNA ( Figure 8 ) . A recent study of PARP1 using single-molecule DNA tightrope assays provides strong evidence for such a monkey bar mechanism ( Liu et al . , 2017 ) . It was shown that micro-dissociation of one of PARP1’s multiple DNA-binding domains from DNA allows it to bind to a free 37 bp fragment , thus preventing rebinding of the domain to the tightrope and accelerating overall macro-dissociation . Our mechanism for DNA-dependent DNA dissociation also provides a compelling explanation for the wide diversity and significantly weaker dissociation constants previously reported for PARP1 with DNA ( Langelier et al . , 2018; Clark et al . , 2012; Langelier et al . , 2010 ) : the measured apparent KD depends strongly on the experimental conditions ( i . e . [DNA] ) under which the experiment is performed , since higher concentrations of DNA promote release of DNA . Strong in vitro evidence for a monkey bar mechanism , also known as intersegment transfer , exists for various other proteins , all of them transcription factors . Kinetic experiments similar to ours have demonstrated strong dependence of DNA release on additional DNA for the lac repressor ( Ruusala and Crothers , 1992 ) , cAMP receptor protein ( Fried and Crothers , 1984 ) and glucocorticoid receptor ( Lieberman and Nordeen , 1997 ) . NMR methods have demonstrated that both HoxD9 ( Iwahara et al . , 2006 ) and Oct1 ( Doucleff and Clore , 2008 ) can bridge one DNA strand to another . A combination of methods including NMR , rate measurements , and computational modeling have elegantly demonstrated how EgrI uses its three Zn fingers to both bind and scan other DNA fragments as it moves between different recognition sites on different DNA molecules ( Zandarashvili et al . , 2015 ) . Interestingly , mutagenesis of specific residues in EgrI was used to shift the equilibrium between binding and scanning modes . One major caveat to any biochemical investigation of the mechanism of DNA – protein interactions is the artificial nature of a DNA oligomer compared to intact chromatin . This limitation affects studies of PARP1 interactions with DNA in particular because it is quite difficult to prepare completely intact DNA without ends or nicks , preferably wrapped around nucleosomes . Thus , it was important to test the significance of the monkey bar mechanism in a more physiologically relevant model . We have demonstrated the validity of interstrand transfer in vivo by demonstrating that the point mutant W589A , which disrupts DNA-dependent release of DNA , accumulates slower and to a lesser amount than wild-type PARP1 at sites of laser microirradiation ( Table 2 ) . The slower accumulation of W589A in cells is a particularly powerful demonstration of the importance of the monkey bar mechanism for PARP1 in finding sites of DNA damage for two reasons . First , the rate of dissociation for W589A from DNA is greater than for wild-type ( 20 s−1 vs . <\\xa010 s−1 ) . Second , the apparent KD of W589A for DNA is weaker than that of wild-type PARP1 ( 5 nM vs . <\\xa03 nM , respectively ) . Simplistically , these two observations might suggest that W589A should arrive at sites of DNA damage more rapidly than wild-type PARP1 since its interaction with DNA is not as tight or as long-lived ( i . e . it spends less time occupying irrelevant sites ) ; yet we observe the opposite . The monkey bar mechanism provides the explanation for these results: high concentrations of intranuclear DNA allow PARP1 to explore the nucleus rapidly . A dysfunctional monkey ( W589A ) surrounded by a lot of DNA does not move as rapidly . Thus , we have quantitatively demonstrated the importance of intersegment transfer in the accumulation of a DNA-binding protein at its target destination in vivo . Finally , our results also provide further insight into the much-discussed topic of PARP1 ‘trapping’ , wherein cells treated with inhibitors of PARP1 exhibit a shift of PARP1 from the soluble fraction to a chromatin-associated insoluble fraction ( Murai et al . , 2012 ) . Many cell-based studies have since confirmed the phenomenon of PARP-trapping ( Pommier et al . , 2016 ) . Our data showing no effect of four different tight-binding inhibitors of PARP1 on the release of DNA agree with a previous thorough biochemical analysis that also could not find any effects of inhibitors on DNA binding constants or rates of dissociation ( Hopkins et al . , 2015 ) . Thus , the mechanistic basis for PARP-trapping is more complex than can be reconstituted in vitro . Our results are in agreement with recent findings that PARP inhibitors lead to defective fork recovery and/or homologous recombination-mediated repair , and thus an increase in DNA damage where PARP1 is bound to DNA , and lacking activity due to inhibitor binding ( Maya-Mendoza et al . , 2018 ) . 4 Materials and methods NAD+ was obtained from Sigma . Olaparib , veliparib , niraparib , and talazoparib were obtained from Selleck . DNA oligonucleotides and their complementary strands were obtained from IDT: p18mer: 5’-phosphate-GGGTTGCGGCCGCTTGGG-3’ . Labeled oligonucleotides with a 5’-fluorescein dye ( * ) were also obtained from IDT . Double-stranded fragments were prepared by annealing at 100 µM DNA in 10 mM Tris-HCl ( pH 7 . 5 ) , 100 mM NaCl , and 0 . 1 mM EDTA . The DNA was heated to 95°C for 5 min and then slowly cooled at 0 . 1 °C/second to 4°C . Annealing was confirmed by 10% ( wt/vol ) native TBE-PAGE at 200 V for 30 min . Intact supercoiled plasmid ( pUC19-601-147-12copy ) is a pUC derivative that was prepared as described ( Dyer et al . , 2004 ) . Restriction enzymes were obtained from New England Biolabs . The pET28a vector encoding cDNA of full-length human PARP1 was used to design constructs lacking various domains of PARP1 following the method outlined in Hansson et al ( Hansson et al . , 2008 ) . Briefly , primer one was designed as a reverse complement of the sequence that corresponds to 20–25 bases upstream of the DNA sequence to be deleted , followed by 20–25 bases corresponding to the downstream sequence . Primer two corresponds to the complementary strand . These primers were used in a PCR reaction to loop out the DNA encoding individual domains of PARP1: ΔZn1 ( M1-K97 ) , ΔZn2 ( G96-linker-K207 ) , Δn3 ( G215-linker-A367 ) , and ΔWGR ( N517-linker-L655 ) . After PCR , DpnI digestion was used to degrade the template plasmid and was then transformed to generate clones . Next , a linker DNA sequence encoding amino acids LLA ( GS ) 4GAAL was inserted in place of the deleted domain using partially overlapping primers comprising the entire sequence of the insert followed by 20–25 bases of the downstream sequence . Thereafter , another step of insertion of linker DNA sequence encoding amino acids ALA ( GS ) 5GLAL upstream of the previous insert was performed in a similar manner . The plasmids used to express various domain deletion PARP1 mutants eventually all contained the 30 amino acid linker ALA ( GS ) 5GLALLLA ( GS ) 4GAAL in place of the deleted PARP1 domain . The W589A mutant of PARP1 was generated using QuikChange Mutagenesis ( Agilent ) following the manufacturer’s instructions . All constructs were verified by DNA sequencing of the entire PARP1 gene . Wild-type PARP1 , all deletion constructs , and the W589A mutant of PARP1 were expressed and purified from E . coli as previously described ( Clark et al . , 2012; Langelier et al . , 2011b ) with the minor modification that PARP1 was eluted from the nickel-NTA column using a gradient from 20 to 400 mM imidazole . PARylation activity was evaluated by incubating 0 . 5 µM PARP1 with 1 µM p18mer and 500 µM NAD+ in 50 mM Tris- HCl ( pH 7 . 5 ) , 50 mM NaCl , and 1 mM MgCl2 , for 5 min . Reactions were quenched in Laemmli buffer , boiled for 5 min , and then resolved on SDS-PAGE ( 4–20% ) . PARP1 stability was evaluated using the Protein Thermal Shift Dye Kit from Applied Biosystems and a BioRad C1000 ThermalCycler with a CFX96 RealTime module . A SX20 Stopped-Flow Spectrometer ( Applied Photophysics ) was used for measuring fluorescence anisotropy using an excitation wavelength of 485 nm and cut-off filters in the parallel and perpendicular detectors at 515 nm . Association reactions were measured by mixing equal volumes of p18mer* ( 60 nM ) with three\\xa0to\\xa0eight different concentrations of PARP1 ( 60–250 nM ) and monitoring the anisotropy at 20°C for 25 ms . All indicated concentrations are after mixing . Although PARP1 can bind to both ends of p18mer* ( and p18mer ) simultaneously ( Langelier et al . , 2012 ) , we treat each DNA oligomer as one equivalent ( not two ) because fluorescence anisotropy detects only the first binding event . Control reactions used for determining background signal lacked PARP1 . For measuring dissociation , a pre-formed complex of PARP1 ( 37 nM ) and p18mer* ( 25 nM ) was mixed with 5–15 different concentrations of p18mer ( 100 nM – 8 µM ) and anisotropy was monitored at 20°C for 1–5 s . Control reactions for determining background signal lacked p18mer . All reactions were performed in 50 mM Tris-HCl ( pH 7 . 5 ) , 50 mM NaCl , 1 mM MgCl2 , 0 . 1 mM EDTA , and 0 . 01% IGEPAL . For all stopped-flow reactions , data were collected in log mode , and 10–12 shots were averaged for each different concentration of reagents . All experiments consisting of series of different concentrations of PARP1 ( for association ) or of p18mer ( for dissociation ) were performed on at least three different days with a least two different preparations of protein . Plasmids for dissociation experiments were either untreated or digested at 0 . 25 mg/mL using 50–1000 U of the appropriate restriction enzyme at 37°C overnight . SacI , DrdI , EarI , and EcoRV were used to generate 1 , 2 , 3 , and 24 cuts , respectively . ( Digestion with EcoRV yields the parent plasmid and 12 identical inserts of 147 bp DNA ) . Dissociation experiments in the presence of inhibitors ( 50 nM ) of PARP1 were compared to DMSO controls ( <2 %v/v ) . Data were initially analyzed for fitting to single exponential kinetics using the software from Applied Photophysics ( ProDataTSV ) . Global analysis incorporating multiple different concentrations of protein or competing DNA were performed using KinTek Explorer ( KinTek Corporation ) . For association kinetics , control reactions in the absence of protein were used to determine the baseline , and the maximum anisotropy signal ( identical at all protein concentrations ) was used to convert anisotropy units to concentration values . For dissociation kinetics , control reactions in the absence of DNA were used to determine the baseline , and the maximum anisotropy signal at high concentrations of p18mer ( 1–4 µM ) were used to convert anisotropy units to concentration values . For dissociation kinetics using plasmid , global fitting was performed by assuming 5–450 binding sites/4 . 5 kb plasmid , which as consequence implies that the value of k2 is subject to this assumption ( Scheme 3 ) . However , values for k-2 , k3 , and k-3 are independent of this assumption . For clarity , only a subset of the concentrations used experimentally are shown in the figures . Mammalian expression plasmid ( pEGFP-C3 , 250 ng/20 , 000 cells ) encoding full-length GFP-tagged human PARP1 was transfected using jetPEI ( Polyplus Transfection ) into wild-type mouse embryo fibroblasts ( MEFs ) cultured in DMEM supplemented with 50 μg/ml of gentamicin and 10% FBS , as previously described ( Mahadevan et al , in preparation ) . Cells were sensitized with Hoechst 33342 ( Invitrogen ) ( 10 μg/ml ) for 10 min prior to induction of DNA damage using a 405 nm diode laser ( 100% power for 1 s ) . Cells were imaged for 1–5 min using excitation at 488 nm within a heated environmental chamber set to 37°C and 5% CO2 ( Nikon A1R confocal laser scanning; frame size of 512 × 512 ) . Analysis of the fluorescent images was carried out using custom codes in MATLAB and Mathematica to allow derivation of the diffusion coefficient ( Deff ) and mobile fraction of PARP1 ( F ) ( Mahadevan and Rudolph , 2018 ) . These codes are provided as DNA Repair Analysis Toolbox . mtlbx ( Source code 1 ) , Bioformats Image Toolbox ( v1 . 0 . 4b ) . mltbx ( Source code 2 ) , and Q-FADD 0 . 13 . nb ( Source code 3 ) .\\nNow the paper ends.\",\n",
       " 'input': '',\n",
       " 'output': 'Poly ( ADP-ribose ) polymerase 1 ( PARP1 ) is both a first responder to DNA damage and a chromatin architectural protein . How PARP1 rapidly finds DNA damage sites in the context of a nucleus filled with undamaged DNA , to which it also binds , is an unresolved question . Here , we show that PARP1 association with DNA is diffusion-limited , and release of PARP1 from DNA is promoted by binding of an additional DNA molecule that facilitates a ‘monkey bar’ mechanism , also known as intersegment transfer . The WGR-domain of PARP1 is essential to this mechanism , and a point mutation ( W589A ) recapitulates the altered kinetics of the domain deletion . Demonstrating the physiological importance of the monkey bar mechanism for PARP1 function , the W589A mutant accumulates at sites of DNA damage more slowly following laser micro-irradiation than wild-type PARP1 . Clinically relevant inhibitors of PARP1 did not alter the rate or mechanism of the release of PARP1 from DNA .',\n",
       " 'history': []}"
      ]
     },
     "execution_count": 42,
     "metadata": {},
     "output_type": "execute_result"
    }
   ],
   "source": [
    "data_lists[4999]"
   ]
  },
  {
   "cell_type": "code",
   "execution_count": 320,
   "id": "3890c1e5-1ee3-456d-8c62-f7a7a7addf3b",
   "metadata": {
    "tags": []
   },
   "outputs": [
    {
     "name": "stdout",
     "output_type": "stream",
     "text": [
      "JSON 文件写入成功！\n"
     ]
    }
   ],
   "source": [
    "file_path = 'train_query_alpaca.json'\n",
    "\n",
    "with open(file_path, 'w') as file:\n",
    "    json.dump(data_lists, file)"
   ]
  },
  {
   "cell_type": "code",
   "execution_count": 137,
   "id": "c1ba047d-ab3d-4808-97d7-4d7c388cd803",
   "metadata": {
    "tags": []
   },
   "outputs": [
    {
     "name": "stdout",
     "output_type": "stream",
     "text": [
      "10.1371/journal.pgen.0040034\t1: What are two genetic engineering strategies that can disrupt the expression of a gene?Answer: Targeted recombination and viral integration of gene trap cassettes.2: Who were the recipients of the Nobel Prize in Physiology or Medicine for their pioneering work in targeted recombination mutagenesis in mammals?Answer: Capecchi, Evans, and Smithies.3: When was the discovery of microRNAs made?Answer: Nearly a decade ago.4: What are microRNAs classified as?Answer: MicroRNAs are classified as a class of non-coding genes.5: How many microRNAs are predicted to exist in the mouse genome?Answer: Over 1000 microRNAs are predicted to exist in the mouse genome.6: Where are more than 50% of known microRNAs located?Answer: More than 50% of known microRNAs are located within introns of coding genes.7: What did the researchers investigate in relation to knockout mouse models?Answer: The possibility of coincidentally deleting or disrupting intronic microRNAs in these mouse models.8: What did the researchers find when searching for cases of disrupted microRNA expression in knockout studies?Answer: They found almost 200 cases where microRNA expression may have been disrupted along with another gene.9: What does the study suggest about future knockout studies?Answer: The need for careful planning to minimize the unintentional disruption of microRNAs.10: What possibility does the data raise about knockout studies and their phenotypic consequences?Answer: The possibility that loss of a microRNA may contribute to the phenotypic consequences attributed to loss of a protein-encoding gene, necessitating reexamination of many knockout studies.\n",
      "\n"
     ]
    }
   ],
   "source": [
    "import re\n",
    "with open(\"plos_exp_query.txt\") as f:\n",
    "    for line in f.readlines()[:1]:\n",
    "        print(line)\n",
    "        # line = re.sub(r'\\b\\d+:', '\\nQuestion:', line.split('\\t')[-1]).replace('Answer:',\" Answer:\").strip()\n",
    "        # with open('./filter_doc.txt', 'a+', encoding='utf-8') as f:\n",
    "        #     # print(line.replace(' Answer:',\"\\nAnswer:\"))\n",
    "        #     f.write(line.replace(' Answer:',\"\\nAnswer:\") + '\\n\\n')"
   ]
  },
  {
   "cell_type": "code",
   "execution_count": 180,
   "id": "293aa556-8007-45c0-a688-53ae0b4c45da",
   "metadata": {
    "tags": []
   },
   "outputs": [],
   "source": [
    "sorted_datas = sorted(plos_datas, key=lambda x: len(merge_spaces(x['article'].replace('\\n',' ')).split(' ')))"
   ]
  },
  {
   "cell_type": "code",
   "execution_count": 181,
   "id": "4f0a9424-f0ee-46e2-b255-592ecef10a30",
   "metadata": {
    "tags": []
   },
   "outputs": [
    {
     "data": {
      "text/plain": [
       "{'doi': '10.1371/journal.pgen.0040034',\n",
       " 'title': 'Unintentional miRNA Ablation Is a Risk Factor in Gene Knockout Studies: A Short Report',\n",
       " 'abstract': 'One of the most powerful techniques for studying the function of a gene is to disrupt the expression of that gene using genetic engineering strategies such as targeted recombination or viral integration of gene trap cassettes. The tremendous utility of these tools was recognized this year with the awarding of the Nobel Prize in Physiology or Medicine to Capecchi, Evans, and Smithies for their pioneering work in targeted recombination mutagenesis in mammals. Another noteworthy discovery made nearly a decade ago was the identification of a novel class of non-coding genes called microRNAs. MicroRNAs are among the largest known classes of regulatory elements with more than 1000 predicted to exist in the mouse genome. Over 50% of known microRNAs are located within introns of coding genes. Given that currently about half of the genes in mouse have been knocked out, we investigated the possibility that intronic microRNAs may have been coincidentally deleted or disrupted in some of these mouse models. We searched published murine knockout studies and gene trap embryonic stem cell line databases for cases where a microRNA was located within or near the manipulated genomic loci, finding almost 200 cases where microRNA expression may have been disrupted along with another gene. Our results draw attention to the need for careful planning in future knockout studies to minimize the unintentional disruption of microRNAs. These data also raise the possibility that many knockout studies may need to be reexamined to determine if loss of a microRNA contributes to the phenotypic consequences attributed to loss of a protein-encoding gene.\\n',\n",
       " 'plain language summary': 'To determine the function of a gene, it is often informative to first disrupt the expression of that gene through targeted recombination or the insertion of gene trap cassettes. In our study, we point out that these approaches may be confounded by the presence of small non-coding elements known as microRNAs. MicroRNAs constitute one of the largest classes of regulatory elements, and over 50% of known microRNAs have been identified within an intron of a coding gene. Disruption of a gene could therefore also result in the disruption of microRNAs in the region. In this study, we searched databases of gene-trapped cell lines as well as previously published knockout studies and report almost 200 examples where microRNA expression may have been unintentionally disrupted. Our results are of broad interest and importance because they raise the possibility that a number of protein function studies may need to be reexamined to determine whether the loss of a microRNA may have contributed to the phenotype previously attributed to the loss of a protein.\\n',\n",
       " 'article': 'In the mouse, stable disruption of a gene is typically accomplished using gene trap mutagenesis or targeted homologous recombination. We wish to communicate the overlooked possibility of unintentionally disrupting microRNA (miRNA) genes along with a targeted gene. Because miRNAs play key roles in many cellular processes, the unintended ablation of these species may have significant consequences that complicate the interpretation of gene knockout studies.\\nGiven that many miRNAs are located within introns of longer coding transcripts, we reasoned that a gene trap disrupting a host gene could also alter miRNA expression in one of two ways. The trapping cassette could either ablate miRNA expression with a terminal polyadenylation sequence (Figure 1A) or overexpress an miRNA via an internal promoter (Figure 1B). To determine the potential extent of these unintended changes in miRNA expression, we compared the genomic position all mouse gene traps listed in the International Gene Trap Consortium (IGTC) [1] to the loci of 367 annotated mouse miRNA genes as well as candidate miRNA genes computationally identified by Berezikov et al., 28% of which have been validated to date [2,3]. In the cases where an miRNA was located within an intron of a host gene, we identified any gene traps which inserted within the host gene transcript and upstream of the miRNA. Using the same set of annotated and candidate miRNAs, we next identified all protein-coding genes with an miRNA located within the transcribed loci, in either the sense or the antisense orientation. We cross-referenced these genes with all homologous recombination studies listed in the Mouse Genome Informatics (MGI) database (v. 3.54) [4] to assemble a list of studies where the miRNA and coding gene were potentially co-ablated (Table S1). The boundaries of the deleted loci were bioinformatically verified for each study.\\nOur analysis of the IGTC database revealed 98 annotated or candidate miRNAs potentially misregulated in 420 gene trap cell lines (Table S2). A study of the slit3 gene [5] is an example of a potential unintended double-knockout scenario produced from a gene trap cell line. To ablate slit3, the authors used a trap located upstream of exon 6, which produced a truncated slit3 mRNA. Mir-218–2 is located within intron 14 of slit3, and the potential loss of mir-218–2 expression may contribute to the phenotype resulting from the loss of functional slit3.\\nThe analysis of the MGI database yielded a small but significant number of studies where miRNAs may have been unintentionally disrupted (Table S1). In addition to 20 studies where an annotated or candidate miRNA was completely ablated by the targeting strategy (Figure 1C), there were also numerous studies describing the deletion of regions immediately upstream (78 cases) or downstream (55 cases) of a miRNA (Figure 1D), or in the promoter of the host gene (4 cases). MiRNAs have been shown to be transcribed in conjunction with a host transcript or from an independent promoter [6]. Therefore, the disruption of host promoters or of regions adjacent to miRNAs may compromise promoter and/or enhancer sites for these miRNAs.\\nWhile 71 of the studies in our analysis were published prior to the expansion of the miRNA field in 2002, the fact that 90 were published since may indicate that miRNAs in targeted loci continue to be overlooked. To avoid inadvertent double-knockout scenarios, we wish to alert investigators to consider non-coding elements in the locus to be deleted. Because not all non-coding elements have been annotated, it may be preferable to employ methods that minimize the deletion of endogenous DNA. We also wish to raise the interesting possibility that a number of studies may need to be reevaluated to dissociate the consequences of ablating an miRNA from the consequences of ablating the targeted gene.'}"
      ]
     },
     "execution_count": 181,
     "metadata": {},
     "output_type": "execute_result"
    }
   ],
   "source": [
    "sorted_datas[0]"
   ]
  },
  {
   "cell_type": "code",
   "execution_count": 1,
   "id": "ab74ac4d-3750-4d87-86af-7fb2b5b212eb",
   "metadata": {
    "tags": []
   },
   "outputs": [],
   "source": [
    "plos_exp_query_pairs = {}\n",
    "plos_pls_query_pairs = {}\n",
    "\n",
    "from collections import defaultdict"
   ]
  },
  {
   "cell_type": "code",
   "execution_count": 3,
   "id": "abe38e50-0527-498d-829a-6f47b7957a6e",
   "metadata": {
    "tags": []
   },
   "outputs": [
    {
     "ename": "NameError",
     "evalue": "name 'sorted_datas' is not defined",
     "output_type": "error",
     "traceback": [
      "\u001b[0;31m---------------------------------------------------------------------------\u001b[0m",
      "\u001b[0;31mNameError\u001b[0m                                 Traceback (most recent call last)",
      "Cell \u001b[0;32mIn[3], line 10\u001b[0m\n\u001b[1;32m      4\u001b[0m \u001b[38;5;28;01mwith\u001b[39;00m \u001b[38;5;28mopen\u001b[39m(\u001b[38;5;124m\"\u001b[39m\u001b[38;5;124mplos_pls_query.txt\u001b[39m\u001b[38;5;124m\"\u001b[39m) \u001b[38;5;28;01mas\u001b[39;00m f:\n\u001b[1;32m      6\u001b[0m     \u001b[38;5;28;01mfor\u001b[39;00m nid, cline \u001b[38;5;129;01min\u001b[39;00m \u001b[38;5;28menumerate\u001b[39m(f\u001b[38;5;241m.\u001b[39mreadlines()):\n\u001b[1;32m      7\u001b[0m         \n\u001b[1;32m      8\u001b[0m         \u001b[38;5;66;03m# cur_dict = {}\u001b[39;00m\n\u001b[0;32m---> 10\u001b[0m         \u001b[38;5;28;01massert\u001b[39;00m \u001b[43msorted_datas\u001b[49m[nid][\u001b[38;5;124m'\u001b[39m\u001b[38;5;124mdoi\u001b[39m\u001b[38;5;124m'\u001b[39m] \u001b[38;5;241m==\u001b[39m cline\u001b[38;5;241m.\u001b[39msplit(\u001b[38;5;124m'\u001b[39m\u001b[38;5;130;01m\\t\u001b[39;00m\u001b[38;5;124m'\u001b[39m)[\u001b[38;5;241m0\u001b[39m]\n\u001b[1;32m     12\u001b[0m         \u001b[38;5;28;01mif\u001b[39;00m cline\u001b[38;5;241m.\u001b[39msplit(\u001b[38;5;124m'\u001b[39m\u001b[38;5;130;01m\\t\u001b[39;00m\u001b[38;5;124m'\u001b[39m)[\u001b[38;5;241m-\u001b[39m\u001b[38;5;241m1\u001b[39m][:\u001b[38;5;241m2\u001b[39m] \u001b[38;5;241m==\u001b[39m \u001b[38;5;124m\"\u001b[39m\u001b[38;5;124m1.\u001b[39m\u001b[38;5;124m\"\u001b[39m:\n\u001b[1;32m     13\u001b[0m             vline \u001b[38;5;241m=\u001b[39m \u001b[38;5;124m\"\u001b[39m\u001b[38;5;124m1:\u001b[39m\u001b[38;5;124m\"\u001b[39m \u001b[38;5;241m+\u001b[39m cline\u001b[38;5;241m.\u001b[39msplit(\u001b[38;5;124m'\u001b[39m\u001b[38;5;130;01m\\t\u001b[39;00m\u001b[38;5;124m'\u001b[39m)[\u001b[38;5;241m-\u001b[39m\u001b[38;5;241m1\u001b[39m][\u001b[38;5;241m2\u001b[39m:]\n",
      "\u001b[0;31mNameError\u001b[0m: name 'sorted_datas' is not defined"
     ]
    }
   ],
   "source": [
    "# sum = 0\n",
    "with open(\"plos_pls_query.txt\") as f:\n",
    "    \n",
    "    for nid, cline in enumerate(f.readlines()):\n",
    "        \n",
    "        # cur_dict = {}\n",
    "        \n",
    "        assert sorted_datas[nid]['doi'] == cline.split('\\t')[0]\n",
    "        \n",
    "        if cline.split('\\t')[-1][:2] == \"1.\":\n",
    "            vline = \"1:\" + cline.split('\\t')[-1][2:]\n",
    "        else:\n",
    "            vline = cline.split('\\t')[-1]\n",
    "            \n",
    "        for i in range(2,11):\n",
    "            vline = vline.replace(f\".{i}. \", f\".{i}: \").replace(f\"{i}: \", f\".{i}: \")\n",
    "        # print(vline)\n",
    "        \n",
    "        line = re.sub(r'\\b\\d+: ', '\\nQuestion: ', vline).replace('Answer:',\" Answer:\").strip().replace(' Answer:',\"\\nAnswer:\")\n",
    "        # with open('./filter_doc.txt', 'a+', encoding='utf-8') as f:\n",
    "        # print(cline)\n",
    "        # print(len(line.split('\\n')))\n",
    "        \n",
    "        # assert len(line.split('\\n')) % 2 == 0, cline\n",
    "        if  len(line.split('\\n')) != 20:\n",
    "            # print(cline,line.split('\\n'))\n",
    "            continue\n",
    "        \n",
    "        # sum +=1\n",
    "        my_list = line.split('\\n')\n",
    "        paired_list = [(my_list[i].strip(), re.sub(r'\\.{2,}$', '.', my_list[i+1].strip())) for i in range(0, len(my_list), 2)]\n",
    "        \n",
    "        # cur_dict[merge_spaces(sorted_datas[nid]['article'].replace('\\n',' ')).strip()] = paired_list\n",
    "        # cur_dict[cline.split('\\t')[0]] = paired_list\n",
    "        \n",
    "        plos_pls_query_pairs[cline.split('\\t')[0]] = paired_list\n",
    "        \n",
    "        # print(paired_list)"
   ]
  },
  {
   "cell_type": "code",
   "execution_count": 1,
   "id": "6b9a57eb-9cb4-4143-8d32-b8e4814e9187",
   "metadata": {
    "tags": []
   },
   "outputs": [
    {
     "ename": "NameError",
     "evalue": "name 'plos_pls_query_pairs' is not defined",
     "output_type": "error",
     "traceback": [
      "\u001b[0;31m---------------------------------------------------------------------------\u001b[0m",
      "\u001b[0;31mNameError\u001b[0m                                 Traceback (most recent call last)",
      "Cell \u001b[0;32mIn[1], line 1\u001b[0m\n\u001b[0;32m----> 1\u001b[0m \u001b[38;5;28mlen\u001b[39m(\u001b[43mplos_pls_query_pairs\u001b[49m\u001b[38;5;241m.\u001b[39mkeys())\n",
      "\u001b[0;31mNameError\u001b[0m: name 'plos_pls_query_pairs' is not defined"
     ]
    }
   ],
   "source": [
    "len(plos_pls_query_pairs.keys())"
   ]
  },
  {
   "cell_type": "code",
   "execution_count": 189,
   "id": "39f8ed5d-e457-4ed0-8348-c6351c00958c",
   "metadata": {
    "tags": []
   },
   "outputs": [],
   "source": [
    "sorted_datas = sorted(elife_datas, key=lambda x: len(x['article'].replace('\\n',' ').strip().split(' ')))"
   ]
  },
  {
   "cell_type": "code",
   "execution_count": 190,
   "id": "06a8064d-46be-456d-b874-f7eafd1dabdf",
   "metadata": {
    "tags": []
   },
   "outputs": [
    {
     "data": {
      "text/plain": [
       "{'doi': 'elife-39356-v1',\n",
       " 'abstract': 'Tissue mechanics is important for development; however , the spatio-temporal dynamics of in vivo tissue stiffness is still poorly understood . We here developed tiv-AFM , combining time-lapse in vivo atomic force microscopy with upright fluorescence imaging of embryonic tissue , to show that during development local tissue stiffness changes significantly within tens of minutes . Within this time frame , a stiffness gradient arose in the developing Xenopus brain , and retinal ganglion cell axons turned to follow this gradient . Changes in local tissue stiffness were largely governed by cell proliferation , as perturbation of mitosis diminished both the stiffness gradient and the caudal turn of axons found in control brains . Hence , we identified a close relationship between the dynamics of tissue mechanics and developmental processes , underpinning the importance of time-resolved stiffness measurements .',\n",
       " 'plain language summary': 'Neurons in the brain form an intricate network that follows a precise template . For example , in a young frog embryo , the neurons from the eyes send out thin structures , called axons , which navigate along a well-defined path and eventually connect with the visual centres of the brain . This journey requires the axons to take a sharp turn so they can wire with the right brain structures . Axons find their paths not only by following chemical signals but also by reacting to the stiffness of their environment . In an older frog embryo for instance , the brain is stiffer at the front , and softer at the back . As neurons from the eyes make their way through the brain , they turn to follow this gradient , moving away from stiffer areas towards the softer regions . Here , Thompson , Pillai et al . investigate when and how this stiffness gradient is established in frogs . To do so , a new technique was developed . Called time-lapse in vivo atomic force microscopy , the method measures how brain stiffness changes over time in a live embryo , while also taking images of the growing axons . The experiments show that the stiffness gradient arose within tens of minutes , just as the first ‘pioneering’ axons from the eyes began to grow across the brain . These axons then responded to the gradient , turning towards the softer tissue . Changes in the number of cells in the underlying brain tissue governed the formation of the gradient , with rapidly stiffening areas containing more cells than those that remained soft . In fact , using drugs that stop cells from dividing reduced both the mechanical gradient and the turning response of the axons . The technique developed by Thompson , Pillai et al . is a useful tool that can help elucidate how variations in stiffness control the brain wiring process . It could also be used to look into how other developmental or regenerative processes , such as the way neurons reconnect after injuries to the brain or spinal cord , may be regulated by mechanical tissue properties .',\n",
       " 'article': '1 Materials and methods All animal experiments were approved by the Ethical Review Committee of the University of Cambridge and complied with guidelines set by the UK Home Office . Single-cell-stage , wild-type Xenopus laevis embryos of both sexes were obtained via in vitro fertilisation . Embryos were reared in 0 . 1×\\xa0Modified Barth’s Saline ( MBS ) at 14–18°C to reach the desired developmental stage , as described by Nieuwkoop and Faber , 1958 . All embryos used in this study were below stage 45 . Data were collected from at least three independent experiments ( N\\xa0≥\\xa03 ) . The order of data collection was randomized with no blinding and no data were excluded from the analysis . Non-parametric tests as well as linear regression analysis were used for statistical analyses of the data as described in the figure captions . R2 values provide an estimate of the quality of the fits used in the plots . Pearson’s correlation coefficient , on the other hand , provides a measure of the magnitude of correlation between the cell body density gradient and the stiffness gradient .'}"
      ]
     },
     "execution_count": 190,
     "metadata": {},
     "output_type": "execute_result"
    }
   ],
   "source": [
    "sorted_datas[0]"
   ]
  },
  {
   "cell_type": "code",
   "execution_count": 191,
   "id": "484f4715-5473-4f52-b9f4-f0524ee0d230",
   "metadata": {
    "tags": []
   },
   "outputs": [],
   "source": [
    "elife_exp_query_pairs = {}\n",
    "elife_pls_query_pairs = {}"
   ]
  },
  {
   "cell_type": "code",
   "execution_count": 194,
   "id": "7588f200-8c63-404e-b055-55d5a372640e",
   "metadata": {
    "tags": []
   },
   "outputs": [],
   "source": [
    "with open(\"elife_pls_query.txt\") as f:\n",
    "    for nid, cline in enumerate(f.readlines()):\n",
    "        \n",
    "        # cur_dict = {}\n",
    "        \n",
    "        assert sorted_datas[nid]['doi'] == cline.split('\\t')[0]\n",
    "        \n",
    "        if cline.split('\\t')[-1][:2] == \"1.\":\n",
    "            vline = \"1:\" + cline.split('\\t')[-1][2:]\n",
    "        else:\n",
    "            vline = cline.split('\\t')[-1]\n",
    "            \n",
    "        for i in range(2,11):\n",
    "            vline = vline.replace(f\".{i}. \", f\".{i}: \").replace(f\"{i}: \", f\".{i}: \")\n",
    "        # print(vline)\n",
    "        \n",
    "        line = re.sub(r'\\b\\d+: ', '\\nQuestion: ', vline).replace('Answer:',\" Answer:\").strip().replace(' Answer:',\"\\nAnswer:\")\n",
    "        # with open('./filter_doc.txt', 'a+', encoding='utf-8') as f:\n",
    "        # print(cline)\n",
    "        # print(len(line.split('\\n')))\n",
    "        \n",
    "        # assert len(line.split('\\n')) % 2 == 0, cline\n",
    "        if  len(line.split('\\n')) != 20:\n",
    "            # print(cline,line.split('\\n'))\n",
    "            continue\n",
    "        \n",
    "        sum +=1\n",
    "        my_list = line.split('\\n')\n",
    "        paired_list = [(my_list[i].strip(), re.sub(r'\\.{2,}$', '.', my_list[i+1].strip())) for i in range(0, len(my_list), 2)]\n",
    "        \n",
    "        # cur_dict[merge_spaces(sorted_datas[nid]['article'].replace('\\n',' ')).strip()] = paired_list\n",
    "        # cur_dict[cline.split('\\t')[0]] = paired_list\n",
    "        elife_pls_query_pairs[cline.split('\\t')[0]] = paired_list\n",
    "        \n",
    "        # elife_exp_query_pairs .append(cur_dict)"
   ]
  },
  {
   "cell_type": "code",
   "execution_count": 202,
   "id": "a683bb17-fc04-4904-9f1f-6a2a39bcff23",
   "metadata": {
    "tags": []
   },
   "outputs": [],
   "source": [
    "elife_sets = set(elife_exp_query_pairs.keys()).intersection(set(elife_pls_query_pairs.keys()))\n",
    "plos_sets = set(plos_exp_query_pairs.keys()).intersection(set(plos_pls_query_pairs.keys()))"
   ]
  },
  {
   "cell_type": "code",
   "execution_count": 286,
   "id": "688e889a-a92b-457b-81ad-503d1d5ed3a9",
   "metadata": {
    "tags": []
   },
   "outputs": [],
   "source": [
    "sum,max = 0, 0\n",
    "\n",
    "for k,v in plos_pls_query_pairs.items():\n",
    "    for q,a in v:\n",
    "        if max <= len(a.split(' ')):\n",
    "            max = len(a.split(' '))\n",
    "        sum += len(a.split(' '))"
   ]
  },
  {
   "cell_type": "code",
   "execution_count": 287,
   "id": "297e98af-2ba8-435d-b5c4-600e14445407",
   "metadata": {},
   "outputs": [
    {
     "data": {
      "text/plain": [
       "(62, 16.617878930079776)"
      ]
     },
     "execution_count": 287,
     "metadata": {},
     "output_type": "execute_result"
    }
   ],
   "source": [
    "max, sum/(10*len(plos_pls_query_pairs.keys()))"
   ]
  },
  {
   "cell_type": "code",
   "execution_count": 311,
   "id": "bb6dddda-8372-45e1-afbd-809fa4b11ce7",
   "metadata": {},
   "outputs": [
    {
     "data": {
      "text/plain": [
       "995"
      ]
     },
     "execution_count": 311,
     "metadata": {},
     "output_type": "execute_result"
    }
   ],
   "source": [
    "len(set(elife_exp_query_pairs.keys()).intersection(set(elife_pls_query_pairs.keys())))"
   ]
  }
 ],
 "metadata": {
  "kernelspec": {
   "display_name": "Python 3 (ipykernel)",
   "language": "python",
   "name": "python3"
  },
  "language_info": {
   "codemirror_mode": {
    "name": "ipython",
    "version": 3
   },
   "file_extension": ".py",
   "mimetype": "text/x-python",
   "name": "python",
   "nbconvert_exporter": "python",
   "pygments_lexer": "ipython3",
   "version": "3.8.10"
  }
 },
 "nbformat": 4,
 "nbformat_minor": 5
}
