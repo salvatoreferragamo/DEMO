{
 "cells": [
  {
   "cell_type": "code",
   "execution_count": 1,
   "id": "014b29d0-adb2-47e0-be92-dfce788273b8",
   "metadata": {
    "tags": []
   },
   "outputs": [],
   "source": [
    "import json,re\n",
    "plos_datas = []\n",
    "# with open('./train_plos.jsonl', 'r', encoding=\"utf-8\") as f:\n",
    "with open('./test_plos.jsonl', 'r', encoding=\"utf-8\") as f:\n",
    "    lines = f.readlines()\n",
    "    # print(len(lines)) 26214\n",
    "    for lid in range(len(lines)):\n",
    "        data = json.loads(lines[lid])\n",
    "        plos_datas.append(data)"
   ]
  },
  {
   "cell_type": "code",
   "execution_count": 2,
   "id": "381d07bd-fc83-4a9e-90c7-2d3840c2795b",
   "metadata": {
    "tags": []
   },
   "outputs": [],
   "source": [
    "import json,re\n",
    "elife_datas = []\n",
    "# with open('./train_elife.jsonl', 'r', encoding=\"utf-8\") as f:\n",
    "with open('./test_elife.jsonl', 'r', encoding=\"utf-8\") as f:\n",
    "    lines = f.readlines()\n",
    "    # print(len(lines)) 26214\n",
    "    for lid in range(len(lines)):\n",
    "        data = json.loads(lines[lid])\n",
    "        elife_datas.append(data)"
   ]
  },
  {
   "cell_type": "code",
   "execution_count": 3,
   "id": "f02f0783-020b-4fbb-91aa-b02b27fe01e5",
   "metadata": {
    "tags": []
   },
   "outputs": [],
   "source": [
    "def merge_spaces(input_string):\n",
    "    output_string = re.sub(r'\\s+', ' ', input_string)\n",
    "    return output_string"
   ]
  },
  {
   "cell_type": "code",
   "execution_count": 19,
   "id": "9dcd1396-1807-4aa7-adcf-97d270a7852e",
   "metadata": {
    "tags": []
   },
   "outputs": [
    {
     "data": {
      "text/plain": [
       "1000"
      ]
     },
     "execution_count": 19,
     "metadata": {},
     "output_type": "execute_result"
    }
   ],
   "source": [
    "len(plos_datas)"
   ]
  },
  {
   "cell_type": "code",
   "execution_count": 5,
   "id": "421cdf2d-4c16-43bd-8646-45db682f33c7",
   "metadata": {
    "tags": []
   },
   "outputs": [
    {
     "data": {
      "text/plain": [
       "241"
      ]
     },
     "execution_count": 5,
     "metadata": {},
     "output_type": "execute_result"
    }
   ],
   "source": [
    "len(elife_datas)"
   ]
  },
  {
   "cell_type": "code",
   "execution_count": 56,
   "id": "db655db2-c808-47af-ac3c-65fb8783d990",
   "metadata": {
    "tags": []
   },
   "outputs": [],
   "source": [
    "sorted_datas = sorted(plos_datas, key=lambda x: len(merge_spaces(x['article'].replace('\\n',' ')).strip().split(' ')))"
   ]
  },
  {
   "cell_type": "code",
   "execution_count": 84,
   "id": "20077be0-6be8-4921-9bb3-2550660b4e44",
   "metadata": {
    "tags": []
   },
   "outputs": [],
   "source": [
    "sorted_datas = sorted(elife_datas, key=lambda x: len(merge_spaces(x['article'].replace('\\n',' ')).strip().split(' ')))"
   ]
  },
  {
   "cell_type": "code",
   "execution_count": 25,
   "id": "8a237cae-d536-41df-b9ca-031fce0903d7",
   "metadata": {
    "tags": []
   },
   "outputs": [
    {
     "data": {
      "text/plain": [
       "{'doi': '10.1371/journal.pntd.0004934',\n",
       " 'title': 'Identifying Leprosy and Those at Risk of Developing Leprosy by Detection of Antibodies against LID-1 and LID-NDO',\n",
       " 'abstract': 'Leprosy is caused by Mycobacterium leprae infection and remains a major public health problem in many areas of the world. Challenges to its timely diagnosis result in delay in treatment, which is usually associated with severe disability. Although phenolic glycolipid (PGL)-I has been reported as auxiliary diagnostic tool, currently there is no serological assay routinely used in leprosy diagnosis. The aim of this study was to evaluate the effectiveness of two related reagents, LID-1 and LID-NDO, for the detection of M. leprae infection. Sera from 98 leprosy patients, 365 household contacts (HHC) and 98 endemic controls from Rio Grande do Norte, Brazil, were evaluated. A subgroup of the HHC living in a hyperendemic area was followed for 7–10 years. Antigen-specific antibody responses were highest in multibacillary (MB) at the lepromatous pole (LL/BL) and lowest in paucibacillary (PB) at the tuberculoid pole (TT/BT). A positive correlation for both anti-LID-1 and anti-LID-NDO antibodies was found with bacterial burden (LID-1, r = 0.84, p<0.001; LID-NDO, r = 0.82, p<0.001), with higher sensitivity than bacilloscopy. According to Receiver Operating Curve, LID-1 and LID-NDO performed similarly. The sensitivity for MB cases was 89% for LID-1 and 95% for LID-NDO; the specificity was 96% for LID-1 and 88% for LID-NDO. Of the 332 HHC that were followed, 12 (3.6%) were diagnosed with leprosy in a median time of 31 (3–79) months after recruitment. A linear generalized model using LID-1 or LID-NDO as a predictor estimated that 8.3% and 10.4% of the HHC would become a leprosy case, respectively. Together, our findings support a role for the LID-1 and LID-NDO antigens in diagnosing MB leprosy and identifying people at greater risk of developing clinical disease. These assays have the potential to improve the diagnostic capacity at local health centers and aid development of strategies for the eventual control and elimination of leprosy from endemic areas.\\n',\n",
       " 'plain language summary': 'Despite the substantial decrease in its prevalence, leprosy continues to be a worldwide challenge. Early diagnosis and treatment are important to interrupt transmission. Currently, there is no gold standard for the diagnosis of leprosy. Bacilloscopy and histopathology studies are complementary exams that provide high specificity but low sensitivity. It is therefore important to seek alternative tools to achieve rapid and accurate diagnosis. The state of Rio Grande do Norte, in Brazil, has municipalities’ that are considered hyperendemic for leprosy, such as Mossoró, the one included in this study. This city presented an average of new case detection rate (NCDR) of 45.4/100.000 inhabitants per year from 2001 to 2013, much higher than Brazil’s NCDR, which is currently 15.3. Here, we show that the utility of the recombinant antigens LID-1 and LID-NDO to diagnose MB patients and detect asymptomatic M. leprae infection. In addition, we showed that antibody levels were related to the clinical form of leprosy as well as to the bacillary load. Interestingly, we observed that serum levels of LID-1/LID-NDO antibodies can be used to predict leprosy development among HHC. The assays have the potential to eventually be implemented as point of care at local health centers.\\n',\n",
       " 'article': 'Leprosy is caused by Mycobacterium leprae infection and, despite the availability of free, effective multidrug therapy (MDT), it remains a major public health problem. Leprosy is the leading worldwide cause of non-traumatic peripheral neuropathy. Challenges to timely diagnosis result in delay in treatment, which leads to severe disability [1]. Of importance, one third of the leprosy cases develop immunopathologic reactions, which tend to be an additional cause of disability [2–4]. India and Brazil are the two countries with the largest number of cases [5].\\n\\nInfection with M. leprae can evolve into a wide range of outcomes, from asymptomatic infection to disseminated disease. Presentation of clinical leprosy is also on a spectrum, varying between tuberculoid and lepromatous poles [6]. The tuberculoid pole (TT) is characterized by few, well-defined, hypopigmented, hypoesthetic lesions. Histopathologic analysis of lesions of TT patients usually has few or no bacilli [7]. In contrast, patients at the lepromatous pole (LL) present with numerous skin lesions, infiltration of skin and sometimes internal organs. Histology reveals foamy macrophages containing large numbers of bacilli within a disorganized lymphocytic infiltrate. Between these two poles, there are intermediate clinical forms as borderline-tuberculoid (BT), borderline-borderline (BB) and borderline-lepromatous (BL) [6]. People with TT leprosy present a strong Th1 cell mediated immune response and are usually seronegative for anti-M. leprae antibodies, while people with LL leprosy skew toward a Th2 pole and a strong antibody-mediated responses that do not control bacilli replication and are usually seropositive [8;9].\\n\\nThe diagnosis of leprosy is based on clinical examination, bacilloscopy and histopathology. Although, bacilloscopy and histopathology provide a high specificity, they have low sensitivity [10]. These tests also present technical and practical limitations because of their invasive nature, required materials, and need for specific technical expertise. The World Health Organization (WHO) developed a simpler classification to be applied in areas that lack the ability to carry on histopathological studies. Under WHO guidelines, patients are classified as paucibacillary (PB) when presenting with up to five lesions, and as multibacillary (MB) if they present with more than five lesions [11–13]. It is important to seek alternative and practical tools that can help to achieve the earliest possible diagnosis and therapy to interrupt both disease development and M. leprae transmission.\\n\\nSerological tests can be used following finger-prick blood collection to evaluate antibody responses to M. leprae specific antigens. Phenolic glycolipid (PGL)-I has been used as the antigen [14–16]. Patients who have multibacillary leprosy produce large amounts of IgM directed towards PGL-I. The magnitude of anti-PGL-I IgM correlates well with the bacillary load [17]. Serologic responses are also detected against many proteins. The recombinant protein antigens ML0405 and ML2331 have exhibited high sensitivity for the detection of leprosy remove throughout the clinical spectrum when tested against large panels of sera from many different geographic regions (Philippines, Brazil and Japan) [18–20]. A fusion protein, LID-1 (leprosy IDRI diagnostic-1) was developed by fusing the ml0405 and ml2331 genes to produce a single chimeric protein with a better sensitivity than the original proteins alone [21;22]. Recently, LID-1 and PGL-I epitopes were conjugated to form LID-NDO. Prospective studies using LID-NDO showed high sensitivity and specificity [23].\\n\\nThe sensitivity of serological tests for leprosy varies depending on the geographic origin of the sera; therefore, response profile to a particular antigen needs to be evaluated in diverse populations [24]. As such, the primary objective of this study was to evaluate the ability of LID-1 and LID-NDO to discriminate the different clinical forms of leprosy in the state of Rio Grande do Norte, Brazil. We also evaluated whether positive responses against these antigens could provide a predictive value for leprosy development in household contacts of clinically identified leprosy cases.\\n\\nInitially, to evaluate the ability of LID-1 and LID-NDO to detect the different clinical forms of leprosy and asymptomatic infection, we used samples collected at diagnosis and household contacts from different areas in the State of Rio Grande do Norte (Fig 1).\\n\\nA total of 98 cases of leprosy were recruited from two leprosy referral centers in the state of Rio Grande do Norte, Brazil, between 2005–2014. Patients were recruited at Hospital Rafael Fernandes, Mossoró, and Hospital Giselda Trigueiro, Natal. According to the State of Rio Grande do Norte Health Secretariat database, Mossoró and Natal are the two municipalities with the largest number of leprosy cases in the state of Rio Grande do Norte [25;26]. Cases of leprosy were diagnosed as PB or MB by standard criteria and blood samples were collected prior to the initiation of MDT [11]. A subgroup of those patients (n = 50) which there were available biopsy results were characterized in accordance to Ridley and Jopling classifications [6].\\n\\nHealthy household contacts (HHC) were recruited, as described in Moura et al (2013) [27]. Serum samples of these HHC were studied to assess the utility of serological assays to predict disease development. A total of 365 household contacts were clinically screened for leprosy, of whom 183 were contacts of PB and 167 were MB contacts. Serum samples from people residing in the endemic area, but with no history of contact with a leprosy case was used as endemic control (EC, n = 98). Epidemiological data for the groups are presented in Table 1. The mean age of leprosy cases was 45.6 years, 52% were female and 67.3% of the cases were MB. A subgroup of the HHC (n = 332) living in the hyperendemic area of Mossoró (recruited from 2006 to 2008) were followed for 7–10 years (Fig 1). In this cohort, through the analysis of Rio Grande do Norte leprosy database, it was identified those HHC that became a leprosy case in this interval of time.\\n\\nAntibodies to LID-1 and LID-NDO were detected by enzyme linked immunoassay (ELISA), following previously established protocol [28]. The optical density (OD) for each sample in antigen-specific ELISA was obtained after subtracting the OD reading obtained in the placebo plate. Two control samples were included in each plate to normalize the overall data and account for inter-plate variations.\\n\\nThe protocol was assessed and approved by the Universidade Federal do Rio Grande do Norte Ethical Committee (CEP-UFRN) and by the Brazilian National Ethical Committee (CONEP/CNS/ Ministério da Saúde, Brasília). All participants or their legal guardians signed informed consent forms prior to sample collection.\\n\\nWe used analysis of variance (ANOVA) with the post-hoc Tukey’s test to evaluate mean differences between groups, assuming that OD values were normally distributed. The cut-offs used for sensitivity and specificity calculations were based on optimized OD thresholds generated by Receiver Operating Characteristic (ROC) analysis, assuming three different scenarios for the use of the antigens, which included: 1. The diagnose of multibacillary leprosy in a general endemic population; 2. The diagnose of multibacillary in a high risk population and 3. To identify asymptomatic M. leprae infected subjects. The diagnostic performances of LID-1 and LID-NDO tests were assessed by comparison of the Area Under the Curve (AUC) with DeLong’s test. We used the longitudinal setting (Fig 1) to estimate the predicted probability of a household contact (HHC) to develop leprosy, through simple logistic regression model using OD values as predictor variable. Additionally, we ran multiple logistic regression adjusting for age and sex, but no confounding effects were detected. All statistical analyses were performed in R, assuming a significance level of 0.05.\\n\\nWe evaluated the specific antibody profile to M. leprae antigens for leprosy cases, household contacts and endemic controls (Fig 1). The magnitude of the antibody responses varied according to the operational classification of patients (as either PB or MB), (Fig 2). For both antigens, MB patients presented higher levels of antibodies compared to all other groups (Fig 2A and 2B). PB patients presented low levels of antibodies, which was not different from those presented by EC or HHC of PB patients. As expected, HHC of MB patients presented a mean OD higher than that observed in HHC of PB patients, although this difference was only significant when LID-NDO was used (Fig 2B). MB patients showed a great variability in the levels of specific antibodies, which was readily apparent when samples were stratified by Ridley and Jopling classification (Fig 3A). By applying a polynomial model, we detected a linear increase of antibody levels across the spectrum from TT to LL, for both LID-1 and LID-NDO (Fig 3A and 3B). The comparison of LID-1 and LID-NDO mean OD between the different clinical forms of leprosy is presented in S1 and S2 Tables, respectively. There was an increment of 0.299 on the LID-1 mean from TT to LL poles (p < 0.001) (Fig 3A). For LID-NDO, this increment was of 0.319 (p<0.001) (Fig 3B).\\n\\nTo compare the ability of the two recombinant antigens to diagnose MB leprosy in ELISA assay and to establish a threshold for positive responses we compared data in both a 2x2 table which had the mean OD of the endemic control plus three times the standard deviation was used (S3 Table) and the ROC curve (Table 2 and Fig 4). The use of a 2x2 table showed that despite a high specificity obtained for both antigens, a relatively low sensitivity was found, especially when considering PB cases (either PB alone or combined with MB) (S3 Table). Therefore, we used ROC curves to determine the optimal threshold for identification of positive samples to compare the performance of the two recombinant antigens. Our analysis considered three different applicability for the ELISA to: 1. To diagnose MB cases in a general endemic population; 2. To diagnose MB cases in a high risk population (e.g. household contacts); and 3. To identify asymptomatic-infected individuals (Table 2). The sensitivity of ELISA to diagnose MB cases in the endemic population was 89% for LID-1 and 95% for LID-NDO; the specificity was 96% for LID-1 and 88% for LID-NDO.\\n\\nThe ROC curves used to compare the ability of LID-1 and LID-NDO ELISA to detect MB patients in either the general population or a high-risk population are presented in Fig 4. The AUC was 0.913 for LID-1 and 0.943 for LID-NDO, with no significant difference between the two antigens (p = 0.1796) to identify MB cases among the general population (Fig 4A). To identify MB cases among HHC, the antigens performance was also similar (p = 0.2861) (Fig 4B).\\n\\nThe scatter plot in Fig 5 represents the mean OD obtained for each sample with LID-1 and LID-NDO and the cut-offs obtained considering the scenarios 1 and 2. Despite the strong correlation between the levels of anti-LID-1 and anti-LID-NDO (r = 0.84, p<0.001), we observed that some PB patients were negative for LID-1 and positive for LID-NDO. However, all PB patients that were positive for LID-1 were also positive for LID-NDO. Considering scenario 1, the net sensitivity (95%) and net specificity (88%) were similar to those observed with the use of LID-1 or LID-NDO alone. However, considering the scenario 2 the net sensitivity (85%) and specificity (91%) were higher than those observed with the use of only one of the tests.\\n\\nWe observed strong positive correlations for both anti-LID-1 (r = 0.84, p<0.001) and anti-LID-NDO (r = 0.82, p<0.001) ELISA data with the bacterial index of leprosy cases (Fig 6A and 6B). However, the ELISA presented with a higher sensitivity than bacilloscopy exam. Among a total of 50 leprosy patients examined, bacilloscopy was negative in 28 cases (i.e. Bacterial Index = 0). In contrast, LID-NDO ELISA identified 5/20 and 5/8 of these PB and MB cases, respectively. These numbers yield a sensitivity to diagnose leprosy per se equal to 44% (22/50) for bacilloscopy but increased to 64% (32/50) for LID-NDO ELISA.\\n\\nIt is well documented that HHC of a leprosy case are at higher risk of being exposed to M. leprae and, consequently, of developing leprosy than the general population. We therefore, considered the distribution of specific antibodies levels, establishing a cut-off to define those HHC exposed to M. leprae and a cut-off to determine those HHC that presented positive responses equivalent to MB leprosy case. Irrespective of the antigen used, it is apparent that most of the HHC that was recruited in our study were previously exposed to M. leprae infection (Fig 7A and 7B). We also observed that some of the HHC presented high antibody levels, with OD similar to those measured in sera from MB patients (Fig 7A and 7B).\\n\\nTo determine if antigen-specific antibody responses could predict disease development, we followed 332 HHC from Mossoró for a minimum of 7 years. Among those HHC, 12 (3.6%) developed leprosy, as reported to the Minister of Health. The diagnosis of leprosy among these HHC occurred at a median of 31 (3–79) months after their recruitment into the study. Among the HHC that developed disease, at the time of recruitment 25% (3/12) presented detectable antibody responses against LID-1 and 33.3% (4/12) had responses against LID-NDO. These positivity percentages were approximately twice the percentages observed for all HHC recruited in the study (LID-1 = 11.9% and LID-NDO = 17.8%). It was observed that 50% (6/12) of the HHC that developed leprosy presented as MB. Interestingly, when we compared the mean OD of HHC that developed disease (LID-1 OD = 0.480 and LID-NDO OD = 0.879) against the mean OD of HHC that did not develop disease (LID-1 OD = 0.267 and LID-NDO OD = 0.492) a significant difference was observed between these groups (p = 0.01 for LID-1 and p = 0.003 for LID-NDO).\\n\\nIn order to evaluate the ability of the serological test to predict disease, we modeled the log odds of the individual being a MB as function of LID-1 and LID-NDO OD values. The predicted probabilities were then calculated from the fitted logit model, as\\n\\n\\n\\n\\nlogodds(Yi=MB)=β0\\xa0+\\xa0β1ODi\\n\\n\\n\\n\\n\\n\\n\\npi.hat=eβ0\\xa0+\\xa0β1ODi1+eβ0\\xa0+\\xa0β1ODi\\n\\n\\n(1)\\n\\n\\nFor this analysis, we included household contacts (n = 332) and leprosy cases (n = 50, encompassing 8 PB and 42 MB) from the hyperendemic region of Mossoró. Fig 8A and 8B show the predicted probabilities (pi.hat) as a function of LID-1 and LID-NDO values, respectively. By computing the mean probability among all contacts, we projected a new case detection rate (i.e. incidence) of 8.3% based on LID-1 ELISA (Fig 8A) and 10.4% with LID-NDO ELISA (Fig 8B). The cut-off values for scenarios 2 (to diagnose MB cases in a high-risk population) and 3 (to identify asymptomatic-exposed individuals) were used to group individuals by risk (LR: low risk; MR: moderate risk; HR: high risk). The incidence rate for each group according to the antigen tested is in Table 3. The relative risk (RR) using LR as reference of a HHC classified as HR to develop disease was at least 7.7 times greater than those classified as LR. Interestingly, no HHC that developed leprosy in the longitudinal analysis was on the LR group (Fig 8A and 8B).\\n\\nDespite the significant decrease in the global prevalence of leprosy, since the introduction of MDT, there are still many regions where the detection of new leprosy cases remains high [29]. Overall, active case finding studies indicate that the true prevalence of leprosy is still probably grossly underestimated. Diagnostic limitations hinder large-scale control programs aimed at the eventual elimination of this disease. In this sense, studies have shown that serologic tests may contribute to early diagnosis, even before the appearance of lesions [18;30;31]. In this study, we evaluated the presence of antibodies against the recombinant fusion protein LID-1 and the glycoprotein conjugate LID-NDO, in groups of individuals with leprosy or with prolonged exposure to M. leprae. Our data indicate that ELISA detecting antibodies against LID-1 and LID-NDO had high sensitivity and specificity to aid the diagnosis of leprosy and to identify people with asymptomatic M. leprae infection prior to lesion development.\\n\\nWe observed the highest antibody responses in MB with the clinical forms LL/BL and the magnitude of response declined throughout the clinical spectrum, with the lowest values observed in TT patients. Accordingly, the titers of specific antibodies correlated positively with bacillary indexes of patients [23;32]. These data confirm that these serum antibody responses can closely reflect infection levels and indicate that this could be a simpler, less invasive technique than skin slit smears to estimate M. leprae bacterial burden. Importantly, the serological tests were more sensitivity than bacilloscopy. Thus, these tests can certainly contribute to the accurate leprosy diagnosis, especially in areas where histopathological exams are not available.\\n\\nDue to a shared environment, and likely an increased exposure, it is recognized that HHC represent a higher risk group for the development of leprosy. This is especially true when contact is with a heavily infected MB case [33–35]. As indicated by circulating antibody levels, our study suggests that a large proportion of the HHC evaluated were likely to have been previously exposed to M. leprae infection. This was expected since the participants were recruited in a hyperendemic area of Rio Grande do Norte [26]. We found that HHC of MB cases had, on average, higher levels of anti-LID-NDO than HHC of PB cases. Interestingly, HHC of MB patients also presented with higher level of antibodies than PB patients. This finding is in accordance with the results obtained for LID-1 and LID-NDO in another population in Brazil [23]. A possible explanation for this is that PB leprosy case mount an effective cellular immune response to control bacterial replication, and, consequently, mitigating antibody responses [8;9]. On the other hand, as our longitudinal study indicates, household contacts of MB patients may develop an antibody response, while either resolving infection or the possibility of subsequently developing clinical disease. In Leishmania infantum infection which can also have a spectrum of outcomes as M. leprae, an inverse correlation between antibody and cellular immune responses was observed [36].\\n\\nStudy of the seropositivity rates against PGL-I in Minas Gerais, Brazil, detected responses among HHC at a rate of 10.4% [34]. In our analysis, considering the cut-off used to define HHC positive for MB diagnosis, we found that seropositivity rates among the HHC of 11.9% and 17.8% for LID-1 and LID-NDO, respectively. This is a relatively high percentage, likely related to the high endemicity within the area from where this population was recruited [27]. In fact, when we considered the cut-off based on EC, the majority of HHC recruited into our study presented with antibody levels indicative of asymptomatic M. leprae infection, emphasizing the potential for leprosy to emerge and become a greater problem in the region.\\n\\nMost people exposed to M. leprae develop a protective immune response and do not develop leprosy [37]. However, especially in hyperendemic areas, it is critical to develop strategies to control the transmission of M. leprae. Although not yet formally shown for LID-NDO, a previous study showed the application of LID-1 for the detection of cases up to a year before the recognition of lesions [18]. In our longitudinal study, among the 332 HHC recruited between 2006 and 2008 in the hyperendemic area of Mossoró, 3.6% were reported as developing leprosy at a later date. Interestingly, some of these HHC presented with positive serum antibody responses against LID-1 and/or LID-NDO years before the onset of clinical signs of leprosy. This suggests that LID-1 or LID-NDO could be used as a tool for early identification of M. leprae-infected individuals to increase vigilance to expedite the diagnosis of leprosy.\\n\\nWe compared the results obtained in our cohort with a model to predict leprosy development for HHC based on antibody levels. The probability of a HHC with positive serology to develop leprosy was 8.3% for LID-1 or 10.4% for LID-NDO. The difference between the value estimated by the model and the one observed in the cohort (3.6%) may arise due to passive case detection in the area, since studies show that the actual incidence of the disease can be much higher during active case finding [27;38]. Taken together, at a minimum, this indicates that these antigens could have helped in monitoring these individuals to provide the early diagnosis of new cases.\\n\\nAccording to the levels of specific antibodies presented by HHC, we were able to define three groups based on risk of developing leprosy. Interestingly, when we investigated our cohort for HHC who developed leprosy we observed that they arose from the moderate and high risk groups, but not from the low risk. This reinforces the importance of conducting serological surveys in populations considered at risk (i.e. HHC) in endemic regions.\\n\\nIn summary, our data indicate that both LID-1 and LID-NDO ELISA represent important tools for the diagnosis of leprosy. Our data also indicate that these ELISA can be used to estimate the bacterial load of patients. In a leprosy endemic country like Brazil it is essential that new auxiliary techniques become available for disease control in various states and municipalities. Serological tests that do not require significant labor and can detect asymptomatic M. leprae infection may contribute to the control and eradication of leprosy.\\n'}"
      ]
     },
     "execution_count": 25,
     "metadata": {},
     "output_type": "execute_result"
    }
   ],
   "source": [
    "plos_datas[395]"
   ]
  },
  {
   "cell_type": "code",
   "execution_count": 3,
   "id": "4493019e-ad61-43e9-b048-343329718473",
   "metadata": {
    "tags": []
   },
   "outputs": [],
   "source": [
    "plos_exp_query_recs = {}\n",
    "plos_pls_query_recs = {}\n",
    "\n",
    "from collections import defaultdict"
   ]
  },
  {
   "cell_type": "code",
   "execution_count": 6,
   "id": "8d461b8a-07b8-4ad1-a2f3-8b056f96a916",
   "metadata": {
    "tags": []
   },
   "outputs": [],
   "source": [
    "elife_qg_prompt = {\n",
    "    \"prompt_input_pls\": \"Please propose 10 layman questions that are diverse and cover all parts of the following paper from eLife dataset.\\nBelow is a paper.\\n{context}\\nNow the paper ends.\",\n",
    "    \"prompt_input_exp\": \"Please propose 10 expert questions that are diverse and cover all parts of the following paper from eLife dataset.\\nBelow is a paper.\\n{context}\\nNow the paper ends.\"\n",
    "}\n",
    "\n",
    "plos_qg_prompt = {\n",
    "    \"prompt_input_pls\": \"Please propose 10 layman questions that are diverse and cover all parts of the following paper from PLOS dataset.\\nBelow is a paper.\\n{context}\\nNow the paper ends.\",\n",
    "    \"prompt_input_exp\": \"Please propose 10 expert questions that are diverse and cover all parts of the following paper from PLOS dataset.\\nBelow is a paper.\\n{context}\\nNow the paper ends.\"\n",
    "}"
   ]
  },
  {
   "cell_type": "code",
   "execution_count": 8,
   "id": "dce4424b-a516-4227-93bc-b497dff876c3",
   "metadata": {
    "tags": []
   },
   "outputs": [],
   "source": [
    "def apply_prompt_elife_qg_pls_template(context,qa_pairs):\n",
    "    return {\n",
    "        \"instruction\": elife_qg_prompt['prompt_input_pls'].format(context=context.replace('\\n',' ').strip()),\n",
    "        \"input\": \"\",\n",
    "        \"output\": qa_pairs.strip(),\n",
    "        \"history\": []\n",
    "    }\n",
    "def apply_prompt_elife_qg_exp_template(context,qa_pairs):\n",
    "    return {\n",
    "        \"instruction\": elife_qg_prompt['prompt_input_exp'].format(context=context.replace('\\n',' ').strip()),\n",
    "        \"input\": \"\",\n",
    "        \"output\": qa_pairs.strip(),\n",
    "        \"history\": []\n",
    "    }\n",
    "\n",
    "def apply_prompt_plos_qg_pls_template(context,qa_pairs):\n",
    "    return {\n",
    "        \"instruction\": plos_qg_prompt['prompt_input_pls'].format(context=merge_spaces(context.replace('\\n',' ')).strip()),\n",
    "        \"input\": \"\",\n",
    "        \"output\": qa_pairs.strip(),\n",
    "        \"history\": []\n",
    "    }\n",
    "def apply_prompt_plos_qg_exp_template(context,qa_pairs):\n",
    "    return {\n",
    "        \"instruction\": plos_qg_prompt['prompt_input_exp'].format(context=merge_spaces(context.replace('\\n',' ')).strip()),\n",
    "        \"input\": \"\",\n",
    "        \"output\": qa_pairs.strip(),\n",
    "        \"history\": []\n",
    "    }"
   ]
  },
  {
   "cell_type": "code",
   "execution_count": 54,
   "id": "8161ec24-b0b1-4520-aef3-13f4cc383e06",
   "metadata": {
    "tags": []
   },
   "outputs": [
    {
     "data": {
      "text/plain": [
       "{'doi': '10.1371/journal.ppat.1000156',\n",
       " 'title': 'BSE Case Associated with Prion Protein Gene Mutation',\n",
       " 'abstract': 'Bovine spongiform encephalopathy (BSE) is a transmissible spongiform encephalopathy (TSE) of cattle and was first detected in 1986 in the United Kingdom. It is the most likely cause of variant Creutzfeldt-Jakob disease (CJD) in humans. The origin of BSE remains an enigma. Here we report an H-type BSE case associated with the novel mutation E211K within the prion protein gene (Prnp). Sequence analysis revealed that the animal with H-type BSE was heterozygous at Prnp nucleotides 631 through 633. An identical pathogenic mutation at the homologous codon position (E200K) in the human Prnp has been described as the most common cause of genetic CJD. This finding represents the first report of a confirmed case of BSE with a potential pathogenic mutation within the bovine Prnp gene. A recent epidemiological study revealed that the K211 allele was not detected in 6062 cattle from commercial beef processing plants and 42 cattle breeds, indicating an extremely low prevalence of the E211K variant (less than 1 in 2000) in cattle.\\n',\n",
       " 'plain language summary': 'Bovine spongiform encephalopathy (BSE or Mad Cow Disease), a transmissible spongiform encephalopathy (TSE) or prion disease of cattle, was first discovered in the United Kingdom in 1986. BSE is most likely the cause of a human prion disease known as variant Creutzfeldt Jakob Disease (vCJD). In this study, we identified a novel mutation in the bovine prion protein gene (Prnp), called E211K, of a confirmed BSE positive cow from Alabama, United States of America. This mutation is identical to the E200K pathogenic mutation found in humans with a genetic form of CJD. This finding represents the first report of a confirmed case of BSE with a potential pathogenic mutation within the bovine Prnp gene. We hypothesize that the bovine Prnp E211K mutation most likely has caused BSE in “the approximately 10-year-old cow” carrying the E221K mutation.\\n',\n",
       " 'article': 'Transmissible spongiform encephalopathy (TSE) agents induce fatal neurodegenerative diseases in humans and in some mammalian species [1]. According to the prion-only hypothesis, infectious prions are composed of an abnormal isoform of a host-encoded glycoprotein, called prion protein (PrPc). The disease-associated form, PrPd, is derived from PrPc by a post-translational mechanism that involves conformational change [1]. Human TSEs include Creutzfeldt–Jakob disease (CJD), Gerstmann–Sträussler–Scheinker syndrome, Kuru and Fatal Familial Insomnia [1]. In animals, several distinct TSE diseases are recognized: Scrapie in sheep and goats, transmissible mink encephalopathy in mink, chronic wasting disease in cervids, and bovine spongiform encephalopathy (BSE) in cattle [2]. BSE was first detected in 1986 in the United Kingdom and is the most likely cause of variant CJD (vCJD) in humans. The origin of the original case(s) of BSE still remains an enigma. Hypotheses include (i) sheep- or goat-derived scrapie-infected tissues included in meat and bone meal fed to cattle, (ii) a previously undetected sporadic or genetic bovine TSE contaminating cattle feed or (iii) origination from a human TSE through animal feed contaminated with human remains [3]. This study will provide support to the hypothesis that BSE originated from a previously undetected genetic bovine TSE contaminating cattle feed in the U.K.\\n\\nHere we report a case of bovine BSE associated with a mutation within the prion protein gene (Prnp) sequence, not previously described for the bovine Prnp. The animal (called “U.S. BSE Alabama”) was an approximately 10 year-old red crossbred (Bos indicus×Bos taurus) hybrid beef cow from Alabama (see Materials and Methods). The ELISA-based BSE test (see Materials and Methods) on brainstem from this animal was repeated five times and revealed a strongly positive reaction with mean optical density (OD) value of 2.40±0.57, whereas the OD value of bovine control obex was <0.04.\\n\\nConfirmatory BSE tests employing Western Blot (WB) and immunohistochemical (IHC) analyses for presence of PrPd were subsequently performed (see Materials and Methods). Immunoblots (Figure 1A) revealed (i) presence of PrPd and (ii) intensity of reaction with antibody P4 similar as with antibody 6H4 at identical milligram equivalent amounts. This reaction pattern was described as being unusual or atypical for BSE [4]. Molecular weight analysis revealed unglycosylated and monoglycosylated isoforms of PrPd migrated with an apparent molecular weight higher than respective isoforms of classical or C-type BSE isolates (Figure 1A). A similar migration pattern was observed for the U.S. BSE 2004 isolate, an H-type BSE isolate [4]. Obvious lesions of spongiform encephalopathy diagnostic for BSE were not present in the brainstem, however it was positive for the presence of PrPd by IHC (Figure 1B). Distribution of PrPd in the brainstem of this animal was not as uniform or as intense as seen with the C-type U.S. BSE case from 2003 (Figure 1C) [4]. We concluded from these studies, that this animal contracted an H-type BSE phenotype. Recent work on the molecular characterization of cattle PrPd has allowed to define criteria for the identification of atypical BSE cases in cattle, which showed molecular features of the PrPd distinct from the majority of cattle with C-type BSE [4]–[6]. There have been two molecular types of unusual BSE isolates described in the literature [5],[6]: (i) a type with a lower molecular mass of the unglycosylated isoform (L-type) and (ii) a type with higher molecular mass of the unglycosylated isoform (H-type) when compared to C-type of BSE.\\n\\nIn order to confirm the specimen from this case was of cattle origin and to determine whether the case was associated with a Prnp mutation, the full coding sequence from exon 3 of the Prnp was amplified from DNA isolated from fresh brainstem material (see Materials and Methods) and aligned with known Prnp sequences from cattle, sheep and cervids (Figure 2A,B). The Prnp DNA sequence of this animal is of bovine origin, different from sheep and cervid Prnp sequences (Figure 2A). The sequence was heterozygous on two positions: a synonymous polymorphism on codon 78 (CAA/CAG; Q78Q) and a non-synonymous polymorphism on codon 211 (GAA/AAA; E211K; Figure 2A,B; Table 1). The animal had six copies of the octapeptide repeat region on both of its Prnp alleles (Figure 2A,B). The finding of the E211K mutation is of significant interest because an identical mutation, E200K, at the homologous codon 200 position in human Prnp (Figure 1D) has been described as the most common mutation in humans with genetic CJD [7].\\n\\nOur results demonstrate for the first time a potential pathogenic mutation (E211K) within the Prnp gene of a bovine with an H-type BSE phenotype at a position representing the most common mutation in humans (E200K) associated with genetic TSEs [7]. This mutation was not found in the Prnp gene of other North American (1 H-type U.S.; 1 H-type and 1 L-type Canadian) and European (7 H-type and 3 L-type cases) cattle [8] and a miniature zebu (H-type) [9] with atypical BSE phenotypes. The functional significance of this finding, however, remains unknown. Importantly, the penetrance of the E200K mutation in humans is very high [7],[10]. The origin of atypical BSE cases still remains unexplained. Several hypotheses have been considered including the existence of a previously unrecognized “sporadic” form of a TSE in this species. The detection of the E211K Prnp mutation, known to be pathogenic in humans, in a 10 year old hybrid cow (Bos indicus×Bos taurus) with H-type BSE could provide additional support to the following hypotheses: (i) that U.K. BSE has been acquired from a genetic case or cases of cattle BSE, (ii) that all three etiological forms of human TSEs (sporadic, genetic and infectious) are also present in cattle, and (iii) that BSE started on the Indian subcontinent. However, more data are required to support these hypotheses. It is well known, that large amounts of mammalian protein material were imported from India to the U.K. during the relevant time period (late 1970s and early 1980s) [3]. Therefore it could be speculated that one possible route of contamination of U.K. cattle with BSE was through animal feed containing imported meat and bone meal material contaminated with a case or cases of genetic BSE.\\n\\nEpidemiological investigations conducted by USDA personnel failed to reveal any evidence of a feed source contaminated with TSE material fed to this animal (http://www.aphis.usda.gov/newsroom/hot_issues/bse/downloads/EPI_Final5-2-06.pdf). There are several possibilities for the origin of the Prnp K211 allele in animal B14842: (i) it arose de novo in a germ line cell from the U.S. BSE Alabama animal or one of its parents; (ii) it arose as a somatic mutation in the U.S. BSE Alabama animal (rather unlikely), and (iii) it is present in a cattle population or breed yet to be found. Recently, it was determined that the 2-year-old heifer offspring of the U.S. BSE Alabama cow also carries the E211K polymorphism, indicating that the allele is heritable and may persist within the cattle population (11) In a recent epidemiological study which included 6062 cattle from 5 commercial beef processing plants (3892 carcasses) and 2170 registered cattle from 42 breeds., the K211 allele was not detected using a newly developed mass spectrometry assay specific for the E211K variant [12]. These data indicate a rather low prevalence of the E211K variant of less than 1 in 2000 cattle when using Bayesian analysis [12]. This newly developed assay system for K211 [12] will offer the possibility for genetic surveillance of cattle for rare pathogenic mutations that may be associated with BSE.\\n\\nThe animal B14842 (called U.S. BSE Alabama case), approximately 10 years old as determined by dentition, was a red crossbred (Bos indicus×Bos taurus) hybrid beef cow found in lateral recumbency on a farm in Alabama. She was euthanized by the attending veterinarian, the brainstem removed for BSE testing and shipped to the Georgia Veterinary Medical Diagnostic Laboratory, where it was found to be positive by a rapid enzyme-linked immunosorbent assay (ELISA)-based BSE test. The brainstem was then forwarded to the National Veterinary Services Laboratories in Ames, IA, USA, for confirmatory testing. The classical BSE case was reported previously [4].\\n\\nThe rapid BSE test used in the U.S. is the Platelia/TeSeE™ ELISA BSE test (Bio-Rad, Hercules, CA, USA). Fresh samples from the brainstem were used for the analysis and the samples were treated with proteinase K (PK) in order to digest the PK-sensitive normal prion protein, PrPc.\\n\\nBrain homogenates from the U.S. BSE Alabama case (animal B14842) were prepared from 1.1 gram of brainstem material and analyzed using the Prionics®-Check Western Kit (Prionics, Schlieren, Switzerland) with modifications and the OIE-recommended Scrapie Associated Fibril (SAF)-Immunoblot method (http://www.oie.int/eng/normes/mmanual/A_summry.htm). Preparation and analysis of brainstem homogenate using both methods has been described previously [4]. Please note that the brain homogenates were treated with PK (2 U/ml) for 60 minutes at 37°C before Western Blot analysis in order to digest the PK-sensitive PrPc. As positive control samples, BSE-positive brain material from the U.S. BSE cases 2003 and 2004 as well as a sheep scrapie isolate were used. As negative controls, brain material from a BSE-negative cow was used.\\n\\nBrain tissue was placed in 10% buffered formalin and after a minimum of 4 days of fixation appropriate sections of brainstem in the obex region were put in cassettes and kept in fresh formalin until they were processed for routine paraffin embedding. The procedure was described in detail previously [4]. The IHC results were interpreted as follows: (i) positive for PrPd: pink to red and (ii) background and negative for PrPd: only blue background. As positive controls, slides from the brainstem of a BSE-positive cow, obtained from the United Kingdom and from the U.S. BSE Case 2003 were used. As negative controls, slides from brainstem material of BSE-negative cattle and scrapie-negative sheep were used.\\n\\nGenomic DNA was extracted from 200 µl of a 10% brain homogenate as described previously [4]. The fragment was sequenced in duplicate using the original two primers and two internal primers (available upon request) for a total of 8 reactions. Databases were searched using standard nucleotide-nucleotide BLAST at the National Center for Biotechnology Information Web Site (http://www.ncbi.nlm.nih.gov). The database is a collection of sequences from several sources, including GenBank and Reference Sequence. The nucleotide sequences of the Prnp gene of the U.S. BSE Alabama case was aligned using both CLUSTAL V and CLUSTAL W with the following GENBANK accession numbers: AY335912 (bovine), AY367641 (bovine), AF016227(elk), AY275712 (white-tailed deer), AF166334 (sheep), AJ567986 (sheep), and the Canadian BSE case [12] using Lasergene version 5.07 software (DNASTAR-Madison WI).\\n\\nThe GenBank accession number for the Prnp gene of U.S. BSE Alabama case is EU809428.\\n'}"
      ]
     },
     "execution_count": 54,
     "metadata": {},
     "output_type": "execute_result"
    }
   ],
   "source": [
    "sorted_datas[95]"
   ]
  },
  {
   "cell_type": "code",
   "execution_count": 4,
   "id": "f846d510-c316-41c2-bbb4-9093fbbab939",
   "metadata": {
    "tags": []
   },
   "outputs": [
    {
     "name": "stdout",
     "output_type": "stream",
     "text": [
      "274\n",
      "362\n",
      "812\n"
     ]
    }
   ],
   "source": [
    "import re\n",
    "# sum = 0\n",
    "# with open(\"plos_pls_query.txt\") as f:\n",
    "with open(\"pls_test_100.txt\") as f:\n",
    "    \n",
    "    for nid, cline in enumerate(f.readlines()):\n",
    "        \n",
    "        # cur_dict = {}\n",
    "        \n",
    "        # assert sorted_datas[nid]['doi'] == cline.split('\\t')[0], cline.split('\\t')[0]\n",
    "        \n",
    "        if cline.split('\\t')[-1][:2] == \"1.\":\n",
    "            vline = \"1:\" + cline.split('\\t')[-1][2:]\n",
    "        else:\n",
    "            vline = cline.split('\\t')[-1]\n",
    "            \n",
    "        for i in range(2,11):\n",
    "            vline = vline.replace(f\".{i}. \", f\".{i}: \").replace(f\"{i}: \", f\".{i}: \")\n",
    "        # print(vline)\n",
    "        \n",
    "        line = re.sub(r'\\b\\d+: ', '\\nQuestion: ', vline).replace('Answer:',\" Answer:\").strip().replace(' Answer:',\"\\nAnswer:\")\n",
    "        # with open('./filter_doc.txt', 'a+', encoding='utf-8') as f:\n",
    "        # print(cline)\n",
    "        # print(len(line.split('\\n')))\n",
    "        \n",
    "        # assert len(line.split('\\n')) % 2 == 0, cline\n",
    "        if  len(line.split('\\n')) != 20:\n",
    "            # print(cline,line.split('\\n'))\n",
    "            print(nid)\n",
    "            continue\n",
    "        \n",
    "        # sum +=1\n",
    "        my_list = line.split('\\n')\n",
    "        # paired_list = [(my_list[i].strip(), re.sub(r'\\.{2,}$', '.', my_list[i+1].strip())) for i in range(0, len(my_list), 2)]\n",
    "        querys_list = [my_list[i].strip() for i in range(0, len(my_list), 2)]\n",
    "        \n",
    "        # cur_dict[merge_spaces(sorted_datas[nid]['article'].replace('\\n',' ')).strip()] = paired_list\n",
    "        # cur_dict[cline.split('\\t')[0]] = paired_list\n",
    "        \n",
    "        plos_pls_query_recs[cline.split('\\t')[0]] = querys_list\n",
    "        \n",
    "        # print(paired_list)"
   ]
  },
  {
   "cell_type": "code",
   "execution_count": 10,
   "id": "c93419fa-3d73-4dc9-92dd-1a01234dd9e6",
   "metadata": {
    "tags": []
   },
   "outputs": [],
   "source": [
    "# sum = 0\n",
    "# with open(\"plos_pls_query.txt\") as f:\n",
    "with open(\"exp_test_100.txt\") as f:\n",
    "    \n",
    "    for nid, cline in enumerate(f.readlines()):\n",
    "        \n",
    "        # cur_dict = {}\n",
    "        \n",
    "        # assert sorted_datas[nid]['doi'] == cline.split('\\t')[0], cline.split('\\t')[0]\n",
    "        \n",
    "        if cline.split('\\t')[-1][:2] == \"1.\":\n",
    "            vline = \"1:\" + cline.split('\\t')[-1][2:]\n",
    "        else:\n",
    "            vline = cline.split('\\t')[-1]\n",
    "            \n",
    "        for i in range(2,11):\n",
    "            vline = vline.replace(f\".{i}. \", f\".{i}: \").replace(f\"{i}: \", f\".{i}: \")\n",
    "        # print(vline)\n",
    "        \n",
    "        line = re.sub(r'\\b\\d+: ', '\\nQuestion: ', vline).replace('Answer:',\" Answer:\").strip().replace(' Answer:',\"\\nAnswer:\")\n",
    "        # with open('./filter_doc.txt', 'a+', encoding='utf-8') as f:\n",
    "        # print(cline)\n",
    "        # print(len(line.split('\\n')))\n",
    "        \n",
    "        # assert len(line.split('\\n')) % 2 == 0, cline\n",
    "        if  len(line.split('\\n')) != 20:\n",
    "            # print(cline,line.split('\\n'))\n",
    "            continue\n",
    "        \n",
    "        # sum +=1\n",
    "        my_list = line.split('\\n')\n",
    "        # paired_list = [(my_list[i].strip(), re.sub(r'\\.{2,}$', '.', my_list[i+1].strip())) for i in range(0, len(my_list), 2)]\n",
    "        querys_list = [my_list[i].strip() for i in range(0, len(my_list), 2)]\n",
    "        \n",
    "        # cur_dict[merge_spaces(sorted_datas[nid]['article'].replace('\\n',' ')).strip()] = paired_list\n",
    "        # cur_dict[cline.split('\\t')[0]] = paired_list\n",
    "        \n",
    "        plos_exp_query_recs[cline.split('\\t')[0]] = querys_list\n",
    "        \n",
    "        # print(paired_list)"
   ]
  },
  {
   "cell_type": "code",
   "execution_count": 11,
   "id": "e58d1804-79ea-4a3a-b375-c5eecd3d758f",
   "metadata": {
    "tags": []
   },
   "outputs": [],
   "source": [
    "elife_exp_query_recs = {}\n",
    "elife_pls_query_recs = {}\n",
    "\n",
    "# sum = 0\n",
    "# with open(\"elife_pls_query.txt\") as f:\n",
    "with open(\"elife_pls_test_100.txt\") as f:\n",
    "    \n",
    "    for nid, cline in enumerate(f.readlines()):\n",
    "        \n",
    "        # cur_dict = {}\n",
    "        \n",
    "        # assert sorted_datas[nid]['doi'] == cline.split('\\t')[0], cline.split('\\t')[0]\n",
    "        \n",
    "        if cline.split('\\t')[-1][:2] == \"1.\":\n",
    "            vline = \"1:\" + cline.split('\\t')[-1][2:]\n",
    "        else:\n",
    "            vline = cline.split('\\t')[-1]\n",
    "            \n",
    "        for i in range(2,11):\n",
    "            vline = vline.replace(f\".{i}. \", f\".{i}: \").replace(f\"{i}: \", f\".{i}: \")\n",
    "        # print(vline)\n",
    "        \n",
    "        line = re.sub(r'\\b\\d+: ', '\\nQuestion: ', vline).replace('Answer:',\" Answer:\").strip().replace(' Answer:',\"\\nAnswer:\")\n",
    "        # with open('./filter_doc.txt', 'a+', encoding='utf-8') as f:\n",
    "        # print(cline)\n",
    "        # print(len(line.split('\\n')))\n",
    "        \n",
    "        # assert len(line.split('\\n')) % 2 == 0, cline\n",
    "        if  len(line.split('\\n')) != 20:\n",
    "            # print(cline,line.split('\\n'))\n",
    "            continue\n",
    "        \n",
    "        # sum +=1\n",
    "        my_list = line.split('\\n')\n",
    "        # paired_list = [(my_list[i].strip(), re.sub(r'\\.{2,}$', '.', my_list[i+1].strip())) for i in range(0, len(my_list), 2)]\n",
    "        querys_list = [my_list[i].strip() for i in range(0, len(my_list), 2)]\n",
    "        \n",
    "        # cur_dict[merge_spaces(sorted_datas[nid]['article'].replace('\\n',' ')).strip()] = paired_list\n",
    "        # cur_dict[cline.split('\\t')[0]] = paired_list\n",
    "        \n",
    "        elife_pls_query_recs[cline.split('\\t')[0]] = querys_list\n",
    "        \n",
    "        # print(paired_list)"
   ]
  },
  {
   "cell_type": "code",
   "execution_count": 12,
   "id": "4c9aa132-5ffb-40fd-84f4-89f7d26bca4d",
   "metadata": {
    "tags": []
   },
   "outputs": [],
   "source": [
    "# sum = 0\n",
    "# with open(\"elife_exp_query.txt\") as f:\n",
    "with open(\"elife_exp_test_100.txt\") as f:\n",
    "    \n",
    "    for nid, cline in enumerate(f.readlines()):\n",
    "        \n",
    "        # cur_dict = {}\n",
    "        \n",
    "        # assert sorted_datas[nid]['doi'] == cline.split('\\t')[0]\n",
    "        \n",
    "        if cline.split('\\t')[-1][:2] == \"1.\":\n",
    "            vline = \"1:\" + cline.split('\\t')[-1][2:]\n",
    "        else:\n",
    "            vline = cline.split('\\t')[-1]\n",
    "            \n",
    "        for i in range(2,11):\n",
    "            vline = vline.replace(f\".{i}. \", f\".{i}: \").replace(f\"{i}: \", f\".{i}: \")\n",
    "        # print(vline)\n",
    "        \n",
    "        line = re.sub(r'\\b\\d+: ', '\\nQuestion: ', vline).replace('Answer:',\" Answer:\").strip().replace(' Answer:',\"\\nAnswer:\")\n",
    "        # with open('./filter_doc.txt', 'a+', encoding='utf-8') as f:\n",
    "        # print(cline)\n",
    "        # print(len(line.split('\\n')))\n",
    "        \n",
    "        # assert len(line.split('\\n')) % 2 == 0, cline\n",
    "        if  len(line.split('\\n')) != 20:\n",
    "            # print(cline,line.split('\\n'))\n",
    "            continue\n",
    "        \n",
    "        # sum +=1\n",
    "        my_list = line.split('\\n')\n",
    "        # paired_list = [(my_list[i].strip(), re.sub(r'\\.{2,}$', '.', my_list[i+1].strip())) for i in range(0, len(my_list), 2)]\n",
    "        querys_list = [my_list[i].strip() for i in range(0, len(my_list), 2)]\n",
    "        \n",
    "        # cur_dict[merge_spaces(sorted_datas[nid]['article'].replace('\\n',' ')).strip()] = paired_list\n",
    "        # cur_dict[cline.split('\\t')[0]] = paired_list\n",
    "        \n",
    "        elife_exp_query_recs[cline.split('\\t')[0]] = querys_list\n",
    "        \n",
    "        # print(paired_list)"
   ]
  },
  {
   "cell_type": "code",
   "execution_count": 13,
   "id": "2d4792bc-52d7-4bcd-b7df-24ae93aefaea",
   "metadata": {
    "tags": []
   },
   "outputs": [
    {
     "data": {
      "text/plain": [
       "(241, 238)"
      ]
     },
     "execution_count": 13,
     "metadata": {},
     "output_type": "execute_result"
    }
   ],
   "source": [
    "len(elife_pls_query_recs.keys()),len(elife_exp_query_recs.keys())"
   ]
  },
  {
   "cell_type": "code",
   "execution_count": 14,
   "id": "d5cacc65-e71e-4fb0-a05b-ae679bb0e177",
   "metadata": {
    "tags": []
   },
   "outputs": [
    {
     "data": {
      "text/plain": [
       "(997, 996)"
      ]
     },
     "execution_count": 14,
     "metadata": {},
     "output_type": "execute_result"
    }
   ],
   "source": [
    "len(plos_pls_query_recs.keys()),len(plos_exp_query_recs.keys())"
   ]
  },
  {
   "cell_type": "code",
   "execution_count": 15,
   "id": "f4cf50cf-6953-4030-9216-b283aecbc074",
   "metadata": {
    "tags": []
   },
   "outputs": [],
   "source": [
    "plos_sets = set(plos_exp_query_recs.keys()).intersection(set(plos_pls_query_recs.keys()))"
   ]
  },
  {
   "cell_type": "code",
   "execution_count": 16,
   "id": "8d4ffe98-4650-4ece-90f8-0391532c3a42",
   "metadata": {
    "tags": []
   },
   "outputs": [],
   "source": [
    "elife_sets = set(elife_exp_query_recs.keys()).intersection(set(elife_pls_query_recs.keys()))"
   ]
  },
  {
   "cell_type": "code",
   "execution_count": 17,
   "id": "ebb7e627-8c65-4a6c-95df-cdf59d5a138d",
   "metadata": {
    "tags": []
   },
   "outputs": [
    {
     "data": {
      "text/plain": [
       "994"
      ]
     },
     "execution_count": 17,
     "metadata": {},
     "output_type": "execute_result"
    }
   ],
   "source": [
    "len(plos_sets)"
   ]
  },
  {
   "cell_type": "code",
   "execution_count": 18,
   "id": "715b637e-50a0-4b13-b5c3-d057237656d5",
   "metadata": {
    "tags": []
   },
   "outputs": [
    {
     "data": {
      "text/plain": [
       "238"
      ]
     },
     "execution_count": 18,
     "metadata": {},
     "output_type": "execute_result"
    }
   ],
   "source": [
    "len(elife_sets)"
   ]
  },
  {
   "cell_type": "code",
   "execution_count": 21,
   "id": "6860d2a6-1435-432d-8647-9c30c6fee16e",
   "metadata": {
    "tags": []
   },
   "outputs": [
    {
     "name": "stderr",
     "output_type": "stream",
     "text": [
      "100%|██████████| 994/994 [00:06<00:00, 143.97it/s]\n"
     ]
    }
   ],
   "source": [
    "# Query Generation: \n",
    "# plos_exp_query_pairs，plos_pls_query_pairs，elife_pls_query_pairs, elife_exp_query_pairs （id，qa-pairs）\n",
    "from tqdm import tqdm\n",
    "\n",
    "# pdata_lists = []\n",
    "pdata_qu_lists = []\n",
    "# elife_sets, plos_sets \n",
    "# \n",
    "# sorted_datas = sorted(plos_datas, key=lambda x: len(merge_spaces(x['article'].replace('\\n',' ')).split(' ')))[:3000]\n",
    "# indexed_datas = {sorted_data[\"doi\"]:sorted_data for sorted_data in sorted_datas}\n",
    "indexed_datas = {plos_data[\"doi\"]:plos_data for plos_data in plos_datas}\n",
    "# for data in clip_plos_datas:\n",
    "#     data_lists.append(apply_prompt_plos_query_exp_template(data))\n",
    "#     data_lists.append(apply_prompt_plos_query_pls_template(data))\n",
    "# for data in clip_elife_datas:\n",
    "#     data_lists.append(apply_prompt_elife_query_exp_template(data))\n",
    "#     data_lists.append(apply_prompt_elife_query_pls_template(data))\n",
    "# for plos_pair in plos_exp_query_pairs:\n",
    "#     if \n",
    "# list(elife_sets)[0],list(plos_sets)[0]\n",
    "\n",
    "for nid, plos_id in enumerate(tqdm(list(plos_sets))):\n",
    "    \n",
    "    #TODO: \n",
    "    exp_qus = plos_exp_query_recs[plos_id]\n",
    "    pls_qus = plos_pls_query_recs[plos_id]\n",
    "    \n",
    "    # context = merge_spaces(sorted_datas[plos_id]['article'].replace('\\n',' ')).strip()\n",
    "    context = merge_spaces(indexed_datas[plos_id]['article'].replace('\\n',' ')).strip()\n",
    "    \n",
    "    \n",
    "    # exp_seq = \" \".join(exp_qus)\n",
    "    # pls_seq = \" \".join(pls_qus)\n",
    "    exp_seq = []\n",
    "    pls_seq = []\n",
    "    for q_i in range(len(exp_qus)):\n",
    "        exp_seq.append(str(q_i+1) + \": \" + exp_qus[q_i].replace(\"Question:\",\"\").strip())\n",
    "    for q_i in range(len(pls_qus)):\n",
    "        pls_seq.append(str(q_i+1) + \": \" + pls_qus[q_i].replace(\"Question:\",\"\").strip())\n",
    "    \n",
    "    pdata_qu_lists.append(apply_prompt_plos_qg_exp_template(context,\" \".join(exp_seq)))\n",
    "    pdata_qu_lists.append(apply_prompt_plos_qg_pls_template(context,\" \".join(pls_seq)))"
   ]
  },
  {
   "cell_type": "code",
   "execution_count": 22,
   "id": "817fd504-6943-49b1-b910-f0e8dbd3fe49",
   "metadata": {
    "tags": []
   },
   "outputs": [
    {
     "name": "stderr",
     "output_type": "stream",
     "text": [
      "100%|██████████| 238/238 [00:00<00:00, 257.55it/s]\n"
     ]
    }
   ],
   "source": [
    "# Query Generation: \n",
    "# plos_exp_query_pairs，plos_pls_query_pairs，elife_pls_query_pairs, elife_exp_query_pairs （id，qa-pairs）\n",
    "from tqdm import tqdm\n",
    "\n",
    "# pdata_lists = []\n",
    "edata_qu_lists = []\n",
    "# elife_sets, plos_sets \n",
    "# \n",
    "# sorted_datas = sorted(plos_datas, key=lambda x: len(merge_spaces(x['article'].replace('\\n',' ')).split(' ')))[:3000]\n",
    "# indexed_datas = {sorted_data[\"doi\"]:sorted_data for sorted_data in sorted_datas}\n",
    "indexed_datas = {elife_data[\"doi\"]:elife_data for elife_data in elife_datas}\n",
    "# for data in clip_plos_datas:\n",
    "#     data_lists.append(apply_prompt_plos_query_exp_template(data))\n",
    "#     data_lists.append(apply_prompt_plos_query_pls_template(data))\n",
    "# for data in clip_elife_datas:\n",
    "#     data_lists.append(apply_prompt_elife_query_exp_template(data))\n",
    "#     data_lists.append(apply_prompt_elife_query_pls_template(data))\n",
    "# for plos_pair in plos_exp_query_pairs:\n",
    "#     if \n",
    "# list(elife_sets)[0],list(plos_sets)[0]\n",
    "\n",
    "for nid, elife_id in enumerate(tqdm(list(elife_sets))):\n",
    "    \n",
    "    exp_qus = elife_exp_query_recs[elife_id]\n",
    "    pls_qus = elife_pls_query_recs[elife_id]\n",
    "    \n",
    "    # context = merge_spaces(sorted_datas[plos_id]['article'].replace('\\n',' ')).strip()\n",
    "    context = merge_spaces(indexed_datas[elife_id]['article'].replace('\\n',' ')).strip()\n",
    "    \n",
    "    # exp_seq = \" \".join(exp_qus)\n",
    "    # pls_seq = \" \".join(pls_qus)\n",
    "    exp_seq = []\n",
    "    pls_seq = []\n",
    "    for q_i in range(len(exp_qus)):\n",
    "        exp_seq.append(str(q_i+1) + \": \" + exp_qus[q_i].replace(\"Question:\",\"\").strip())\n",
    "    for q_i in range(len(pls_qus)):\n",
    "        pls_seq.append(str(q_i+1) + \": \" + pls_qus[q_i].replace(\"Question:\",\"\").strip())\n",
    "    \n",
    "    edata_qu_lists.append(apply_prompt_elife_qg_exp_template(context,\" \".join(exp_seq)))\n",
    "    edata_qu_lists.append(apply_prompt_elife_qg_pls_template(context,\" \".join(pls_seq)))"
   ]
  },
  {
   "cell_type": "code",
   "execution_count": 26,
   "id": "08a8894b-58b8-4015-87cd-1972ff9fdead",
   "metadata": {
    "tags": []
   },
   "outputs": [],
   "source": [
    "\n",
    "length = min(len(pdata_qu_lists), len(edata_qu_lists))\n",
    "\n",
    "mixed_list = []\n",
    "\n",
    "for i in range(0, length, 4):\n",
    "    mixed_list.extend(pdata_qu_lists[i:i+4])\n",
    "    mixed_list.extend(edata_qu_lists[i:i+4])\n",
    "    # mixed_list.extend(edata_lists[i:i+4])\n",
    "    # mixed_list.extend(edata_qa_lists[i:i+4])\n",
    "\n",
    "mixed_list.extend(pdata_qu_lists[length:])\n",
    "mixed_list.extend(edata_qu_lists[length:])"
   ]
  },
  {
   "cell_type": "code",
   "execution_count": 27,
   "id": "144573ce-09bc-434d-b6ec-37d1d6b8b283",
   "metadata": {
    "tags": []
   },
   "outputs": [
    {
     "data": {
      "text/plain": [
       "2464"
      ]
     },
     "execution_count": 27,
     "metadata": {},
     "output_type": "execute_result"
    }
   ],
   "source": [
    "len(mixed_list)"
   ]
  },
  {
   "cell_type": "code",
   "execution_count": null,
   "id": "963b7444-8d89-44b5-b706-793cb3970d07",
   "metadata": {
    "tags": []
   },
   "outputs": [
    {
     "name": "stdout",
     "output_type": "stream",
     "text": [
      "JSON 文件写入成功！\n"
     ]
    }
   ],
   "source": [
    "file_path = 'qg.json'\n",
    "\n",
    "with open(file_path, 'w') as file:\n",
    "    json.dump(mixed_list, file)\n"
   ]
  },
  {
   "cell_type": "code",
   "execution_count": 98,
   "id": "f1f77d0d-1706-47e9-9683-067a19613481",
   "metadata": {
    "tags": []
   },
   "outputs": [
    {
     "data": {
      "text/plain": [
       "(5958, 5946)"
      ]
     },
     "execution_count": 98,
     "metadata": {},
     "output_type": "execute_result"
    }
   ],
   "source": [
    "len(edata_qu_lists),len(pdata_qu_lists)"
   ]
  },
  {
   "cell_type": "code",
   "execution_count": 88,
   "id": "7e6cf16b-8db7-4cbb-8e8c-33ff3974a05b",
   "metadata": {
    "tags": []
   },
   "outputs": [
    {
     "data": {
      "text/plain": [
       "'elife-28197-v1'"
      ]
     },
     "execution_count": 88,
     "metadata": {},
     "output_type": "execute_result"
    }
   ],
   "source": [
    "list(elife_sets)[0]"
   ]
  },
  {
   "cell_type": "code",
   "execution_count": 12,
   "id": "e7b1f51f-4e72-4d53-ab43-fc7a1c8c468d",
   "metadata": {
    "tags": []
   },
   "outputs": [
    {
     "data": {
      "text/plain": [
       "3000"
      ]
     },
     "execution_count": 12,
     "metadata": {},
     "output_type": "execute_result"
    }
   ],
   "source": [
    "with open(\"plos_pls_query_com.txt\") as f:\n",
    "    b = f.readlines()\n",
    "len(b)"
   ]
  },
  {
   "cell_type": "code",
   "execution_count": 10,
   "id": "9d8a20b3-8257-43c6-8920-89b1882ff595",
   "metadata": {
    "tags": []
   },
   "outputs": [
    {
     "name": "stdout",
     "output_type": "stream",
     "text": [
      "文件合并完成并写入combined_file.txt\n"
     ]
    }
   ],
   "source": [
    "with open(\"plos_exp_query.txt\") as f:\n",
    "    a = f.readlines()\n",
    "\n",
    "with open(\"plos_exp_query_ori.txt\") as f:\n",
    "    b = f.readlines()\n",
    "    \n",
    "\n",
    "content_b_first = b[:2138]\n",
    "\n",
    "content_a_from = a[2138:]\n",
    "\n",
    "\n",
    "combined_content = content_b_first + content_a_from\n",
    "\n",
    "\n",
    "with open(\"plos_exp_query_com.txt\", \"w\") as output_file:\n",
    "    output_file.writelines(combined_content)\n"
   ]
  },
  {
   "cell_type": "code",
   "execution_count": null,
   "id": "979d895c-0d56-46f6-a8af-9374dd996d98",
   "metadata": {},
   "outputs": [],
   "source": []
  }
 ],
 "metadata": {
  "kernelspec": {
   "display_name": "Python 3 (ipykernel)",
   "language": "python",
   "name": "python3"
  },
  "language_info": {
   "codemirror_mode": {
    "name": "ipython",
    "version": 3
   },
   "file_extension": ".py",
   "mimetype": "text/x-python",
   "name": "python",
   "nbconvert_exporter": "python",
   "pygments_lexer": "ipython3",
   "version": "3.8.10"
  }
 },
 "nbformat": 4,
 "nbformat_minor": 5
}
